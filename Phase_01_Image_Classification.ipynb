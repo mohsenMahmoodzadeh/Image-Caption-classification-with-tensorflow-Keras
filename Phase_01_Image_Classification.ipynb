{
 "cells": [
  {
   "cell_type": "markdown",
   "metadata": {
    "id": "cGtcNHJJY4Qm"
   },
   "source": [
    "# Image Classification with **CNN**"
   ]
  },
  {
   "cell_type": "markdown",
   "metadata": {
    "id": "wDg-HnzJZDW_"
   },
   "source": [
    "## Import Libraries"
   ]
  },
  {
   "cell_type": "code",
   "execution_count": 1,
   "metadata": {
    "id": "oKcYXY-YF7ZS"
   },
   "outputs": [],
   "source": [
    "import tensorflow as tf\n",
    "import numpy as np\n",
    "import pandas as pd\n",
    "import os\n",
    "import cv2\n",
    "import warnings\n",
    "import random\n",
    "from matplotlib import pyplot as plt"
   ]
  },
  {
   "cell_type": "code",
   "execution_count": 2,
   "metadata": {
    "id": "SZEr6GihsNK-"
   },
   "outputs": [],
   "source": [
    "TRAIN_DATA_DIR = './dataset/train/images/'\n",
    "TEST_DATA_DIR = './dataset/test/images'\n",
    "\n",
    "TRAIN_DATA_SIZE = 532\n",
    "TEST_DATA_SIZE = 380\n",
    "\n",
    "NUMBER_OF_CLASSES = 19\n",
    "\n",
    "IMG_WIDTH = 224\n",
    "IMG_HEIGHT = 224\n",
    "\n",
    "TRAIN_BATCH_SIZE = 32\n",
    "TEST_BATCH_SIZE = 32\n",
    "\n",
    "NUMBER_OF_CHANNELS = 3\n",
    "\n",
    "LEARNING_RATE = 0.0001\n",
    "\n",
    "EPOCHS = 10"
   ]
  },
  {
   "cell_type": "markdown",
   "metadata": {
    "id": "5oh3d7MHZWji"
   },
   "source": [
    "## Import Datasets"
   ]
  },
  {
   "cell_type": "code",
   "execution_count": 3,
   "metadata": {
    "id": "OOA7Bs3RsQcy"
   },
   "outputs": [],
   "source": [
    "label_map = {\n",
    "    0 : 'aeroplane', 1 : 'bicycle', 2 : 'bird', 3 : 'boat', \n",
    "    4 : 'bus', 5 : 'car', 6 : 'cat', 7 : 'chair', 8 : 'cow',\n",
    "    9 : 'diningtable', 10 : 'dog', 11 : 'horse', 12 : 'motorbike',\n",
    "    13 : 'person', 14 : 'pottedplant', 15 : 'sheep', 16 : 'sofa',\n",
    "    17 : 'train', 18 : 'tvmonitor'\n",
    "  }"
   ]
  },
  {
   "cell_type": "code",
   "execution_count": 4,
   "metadata": {
    "colab": {
     "base_uri": "https://localhost:8080/"
    },
    "id": "qLRIsJDOsSo1",
    "outputId": "7c5beb75-dcd7-4ac8-d302-ec33e65597a4"
   },
   "outputs": [],
   "source": [
    "CATEGORIES = list(label_map.values())"
   ]
  },
  {
   "cell_type": "code",
   "execution_count": 5,
   "metadata": {
    "id": "ds7U72yJsVJD"
   },
   "outputs": [],
   "source": [
    "def prepare_train_data(TRAIN_DATA_DIR, CATEGORIES, img_width, img_height):\n",
    "    training_data = []\n",
    "    path = \"\"\n",
    "    for category in CATEGORIES:\n",
    "        path = os.path.join(TRAIN_DATA_DIR, category)\n",
    "        class_num = CATEGORIES.index(category)\n",
    "        for img in os.listdir(path):\n",
    "            img = os.path.join(path, img)\n",
    "            try:\n",
    "                img_array = cv2.imread(img, cv2.IMREAD_UNCHANGED)\n",
    "                new_array = cv2.resize(img_array, (img_width, img_height))\n",
    "                training_data.append([new_array, class_num])\n",
    "            except Exception as e:\n",
    "                print(str(e))\n",
    "\n",
    "    return training_data"
   ]
  },
  {
   "cell_type": "code",
   "execution_count": 6,
   "metadata": {
    "id": "ArHI4lydsYG3"
   },
   "outputs": [],
   "source": [
    "def prepare_test_data(TEST_DATA_DIR, CATEGORIES, img_width, img_height):\n",
    "    test_data = []\n",
    "    path = \"\"\n",
    "    for category in CATEGORIES:\n",
    "        path = os.path.join(TEST_DATA_DIR, category)\n",
    "        class_num = CATEGORIES.index(category)\n",
    "        for img in os.listdir(path):\n",
    "            img = os.path.join(path, img)\n",
    "            try:\n",
    "                img_array = cv2.imread(img, cv2.IMREAD_UNCHANGED)\n",
    "                new_array = cv2.resize(img_array, (img_width, img_height))\n",
    "                test_data.append([new_array, class_num])\n",
    "            except Exception as e:\n",
    "                print(str(e))\n",
    "\n",
    "    return test_data"
   ]
  },
  {
   "cell_type": "code",
   "execution_count": 7,
   "metadata": {
    "id": "U2b9uhWIsa7K"
   },
   "outputs": [],
   "source": [
    "training_data = prepare_train_data(TRAIN_DATA_DIR, CATEGORIES, \n",
    "                                   IMG_WIDTH, IMG_HEIGHT)"
   ]
  },
  {
   "cell_type": "code",
   "execution_count": 8,
   "metadata": {
    "id": "mxko9hOcs4VJ"
   },
   "outputs": [],
   "source": [
    "test_data = prepare_test_data(TEST_DATA_DIR, CATEGORIES, \n",
    "                              IMG_WIDTH, IMG_HEIGHT)"
   ]
  },
  {
   "cell_type": "markdown",
   "metadata": {
    "id": "DEBIQUxbZ0wq"
   },
   "source": [
    "## Data Preprocessing"
   ]
  },
  {
   "cell_type": "code",
   "execution_count": 9,
   "metadata": {
    "id": "J73kvZqFsg-5"
   },
   "outputs": [],
   "source": [
    "random.shuffle(training_data)\n",
    "random.shuffle(test_data)"
   ]
  },
  {
   "cell_type": "code",
   "execution_count": 10,
   "metadata": {},
   "outputs": [],
   "source": [
    "val_data_size = int(len(training_data) * 0.3)\n",
    "val_data = training_data[:val_data_size]\n",
    "training_data = training_data[val_data_size:]"
   ]
  },
  {
   "cell_type": "code",
   "execution_count": 11,
   "metadata": {},
   "outputs": [
    {
     "name": "stdout",
     "output_type": "stream",
     "text": [
      "the count of test samples: 380\n",
      "the count of validation samples: 159\n"
     ]
    }
   ],
   "source": [
    "print(\"the count of test samples: \" + str(len(test_data)))\n",
    "print(\"the count of validation samples: \" + str(len(val_data)))"
   ]
  },
  {
   "cell_type": "code",
   "execution_count": 12,
   "metadata": {
    "id": "U3U2mE9eT5rm"
   },
   "outputs": [],
   "source": [
    "X_train = []\n",
    "y_train = []\n",
    "for features, classes in training_data:\n",
    "    X_train.append(features)\n",
    "    y_train.append(classes)\n",
    "\n",
    "X_train = np.array(X_train).reshape(-1, \n",
    "                                    IMG_WIDTH, \n",
    "                                    IMG_HEIGHT, \n",
    "                                    NUMBER_OF_CHANNELS\n",
    "                                   )\n",
    "y_train = np.array(y_train)\n",
    "y_train_cat = tf.keras.utils.to_categorical(y_train)"
   ]
  },
  {
   "cell_type": "code",
   "execution_count": 13,
   "metadata": {},
   "outputs": [],
   "source": [
    "X_val = []\n",
    "y_val = []\n",
    "for features, classes in val_data:\n",
    "    X_val.append(features)\n",
    "    y_val.append(classes)\n",
    "\n",
    "X_val = np.array(X_val).reshape(-1, IMG_WIDTH, IMG_HEIGHT, \n",
    "                                    NUMBER_OF_CHANNELS)\n",
    "y_val = np.array(y_val)\n",
    "y_val_cat = tf.keras.utils.to_categorical(y_val)"
   ]
  },
  {
   "cell_type": "code",
   "execution_count": 14,
   "metadata": {
    "id": "7kZhbxwStGWR"
   },
   "outputs": [],
   "source": [
    "X_test = []\n",
    "y_test = []\n",
    "for features, classes in test_data:\n",
    "    X_test.append(features)\n",
    "    y_test.append(classes)\n",
    "\n",
    "X_test = np.array(X_test).reshape(-1, IMG_WIDTH, IMG_HEIGHT, \n",
    "                                  NUMBER_OF_CHANNELS)\n",
    "y_test = np.array(y_test)\n",
    "\n",
    "y_test_cat = tf.keras.utils.to_categorical(y_test)"
   ]
  },
  {
   "cell_type": "code",
   "execution_count": 15,
   "metadata": {},
   "outputs": [],
   "source": [
    "# TODO: Augment data with Albumenation library\n",
    "from tensorflow.keras.preprocessing.image import ImageDataGenerator\n",
    "\n",
    "train_generator = ImageDataGenerator(\n",
    "    rescale=1./255,\n",
    "    rotation_range=50,\n",
    "    brightness_range=[0.2, 1.0],\n",
    "    width_shift_range=0.2,\n",
    "    height_shift_range=0.2,\n",
    "    shear_range=0.2,\n",
    "    zoom_range=0.2,\n",
    "    horizontal_flip=True,\n",
    "    fill_mode=\"nearest\")\n",
    "\n",
    "test_generator = ImageDataGenerator(rescale=1./255)\n",
    "\n",
    "train_generator_no_aug = ImageDataGenerator(rescale=1./255)"
   ]
  },
  {
   "cell_type": "code",
   "execution_count": 16,
   "metadata": {
    "id": "JzKUfjCttTFS"
   },
   "outputs": [],
   "source": [
    "train_flow = train_generator.flow(\n",
    "        X_train, \n",
    "        y_train_cat,\n",
    "    )"
   ]
  },
  {
   "cell_type": "code",
   "execution_count": 17,
   "metadata": {
    "id": "rcb7XnFXtWOz"
   },
   "outputs": [],
   "source": [
    "val_flow = test_generator.flow(\n",
    "        X_val,\n",
    "        y_val_cat,\n",
    "      ) "
   ]
  },
  {
   "cell_type": "code",
   "execution_count": 18,
   "metadata": {},
   "outputs": [],
   "source": [
    "test_flow = test_generator.flow(\n",
    "        X_test,\n",
    "        y_test_cat,\n",
    "      )"
   ]
  },
  {
   "cell_type": "code",
   "execution_count": null,
   "metadata": {},
   "outputs": [],
   "source": [
    "# TODO: Apply data visualization for data augmentation phase"
   ]
  },
  {
   "cell_type": "markdown",
   "metadata": {
    "id": "N6-CtaovaKmW"
   },
   "source": [
    "## Creating Model"
   ]
  },
  {
   "cell_type": "code",
   "execution_count": 19,
   "metadata": {
    "id": "7_JWaEPmtzlW"
   },
   "outputs": [],
   "source": [
    "dense169 = tf.keras.applications.DenseNet169(include_top=False, \n",
    "                                             weights='imagenet', \n",
    "                                             input_shape=(\n",
    "                                                 IMG_WIDTH, \n",
    "                                                 IMG_HEIGHT, \n",
    "                                                 NUMBER_OF_CHANNELS\n",
    "                                             )\n",
    "                                            )"
   ]
  },
  {
   "cell_type": "markdown",
   "metadata": {
    "id": "P1w6d03OaS4c"
   },
   "source": [
    "## Training Model"
   ]
  },
  {
   "cell_type": "code",
   "execution_count": 20,
   "metadata": {},
   "outputs": [],
   "source": [
    "# TODO: Examine the usage of BatchNorm layer in the model\n",
    "model = tf.keras.models.Sequential()\n",
    "model.add(dense169)\n",
    "model.add(tf.keras.layers.GlobalAveragePooling2D())\n",
    "model.add(tf.keras.layers.Dense(1024,activation='relu'))\n",
    "model.add(tf.keras.layers.Dropout(0.2))\n",
    "model.add(tf.keras.layers.Dense(512,activation='relu'))\n",
    "model.add(tf.keras.layers.Dropout(0.2))\n",
    "model.add(tf.keras.layers.Dense(512,activation='relu'))\n",
    "model.add(tf.keras.layers.Dropout(0.2))\n",
    "model.add(tf.keras.layers.Dense(128,activation='relu'))\n",
    "model.add(tf.keras.layers.Dropout(0.15))\n",
    "model.add(tf.keras.layers.Dense(NUMBER_OF_CLASSES, activation='softmax'))"
   ]
  },
  {
   "cell_type": "code",
   "execution_count": 21,
   "metadata": {},
   "outputs": [],
   "source": [
    "dense169.trainable = False"
   ]
  },
  {
   "cell_type": "code",
   "execution_count": 22,
   "metadata": {},
   "outputs": [],
   "source": [
    "model.compile(optimizer=tf.keras.optimizers.Adam(LEARNING_RATE),\n",
    "              loss='categorical_crossentropy',\n",
    "              metrics=['accuracy'])"
   ]
  },
  {
   "cell_type": "code",
   "execution_count": 23,
   "metadata": {
    "colab": {
     "base_uri": "https://localhost:8080/"
    },
    "id": "e_NwCApqt1KE",
    "outputId": "4d7c3cd5-c06d-4739-8d33-38264a4a9d55"
   },
   "outputs": [
    {
     "name": "stdout",
     "output_type": "stream",
     "text": [
      "Epoch 1/10\n",
      "12/12 [==============================] - 205s 16s/step - loss: 3.0493 - accuracy: 0.0590 - val_loss: 2.9278 - val_accuracy: 0.0818\n",
      "Epoch 2/10\n",
      "12/12 [==============================] - 181s 15s/step - loss: 2.9171 - accuracy: 0.0885 - val_loss: 2.8924 - val_accuracy: 0.1069\n",
      "Epoch 3/10\n",
      "12/12 [==============================] - 182s 15s/step - loss: 2.8537 - accuracy: 0.1046 - val_loss: 2.8619 - val_accuracy: 0.1132\n",
      "Epoch 4/10\n",
      "12/12 [==============================] - 181s 15s/step - loss: 2.8379 - accuracy: 0.1287 - val_loss: 2.7949 - val_accuracy: 0.2013\n",
      "Epoch 5/10\n",
      "12/12 [==============================] - 181s 15s/step - loss: 2.7724 - accuracy: 0.1635 - val_loss: 2.7608 - val_accuracy: 0.1887\n",
      "Epoch 6/10\n",
      "12/12 [==============================] - 180s 16s/step - loss: 2.7319 - accuracy: 0.1984 - val_loss: 2.6881 - val_accuracy: 0.2767\n",
      "Epoch 7/10\n",
      "12/12 [==============================] - 178s 15s/step - loss: 2.6614 - accuracy: 0.1823 - val_loss: 2.5953 - val_accuracy: 0.3019\n",
      "Epoch 8/10\n",
      "12/12 [==============================] - 178s 15s/step - loss: 2.5354 - accuracy: 0.2520 - val_loss: 2.4595 - val_accuracy: 0.3711\n",
      "Epoch 9/10\n",
      "12/12 [==============================] - 180s 15s/step - loss: 2.4027 - accuracy: 0.3083 - val_loss: 2.3022 - val_accuracy: 0.3585\n",
      "Epoch 10/10\n",
      "12/12 [==============================] - 178s 15s/step - loss: 2.2883 - accuracy: 0.3298 - val_loss: 2.1304 - val_accuracy: 0.4403\n"
     ]
    }
   ],
   "source": [
    "# TODO: Examine the effect of batch_size param in training phase\n",
    "history = model.fit(\n",
    "        train_flow,\n",
    "        epochs= 10,\n",
    "        validation_data= val_flow,    \n",
    "    )"
   ]
  },
  {
   "cell_type": "code",
   "execution_count": 24,
   "metadata": {},
   "outputs": [],
   "source": [
    "dense169.trainable = True\n",
    "\n",
    "set_trainable = False\n",
    "for layer in dense169.layers:\n",
    "    if layer.name == 'conv5_block32_1_conv':\n",
    "        set_trainable = True\n",
    "    if set_trainable:\n",
    "        layer.trainable = True\n",
    "    else:\n",
    "        layer.trainable = False"
   ]
  },
  {
   "cell_type": "code",
   "execution_count": 25,
   "metadata": {},
   "outputs": [],
   "source": [
    "model.compile(optimizer=tf.keras.optimizers.Adam(LEARNING_RATE),\n",
    "              loss='categorical_crossentropy',\n",
    "              metrics=['accuracy'])"
   ]
  },
  {
   "cell_type": "code",
   "execution_count": 26,
   "metadata": {},
   "outputs": [
    {
     "name": "stdout",
     "output_type": "stream",
     "text": [
      "Epoch 1/10\n",
      "12/12 [==============================] - 257s 21s/step - loss: 2.2868 - accuracy: 0.3217 - val_loss: 2.0401 - val_accuracy: 0.4088\n",
      "Epoch 2/10\n",
      "12/12 [==============================] - 194s 16s/step - loss: 2.1494 - accuracy: 0.3405 - val_loss: 1.9535 - val_accuracy: 0.4591\n",
      "Epoch 3/10\n",
      "12/12 [==============================] - 192s 16s/step - loss: 2.0716 - accuracy: 0.3673 - val_loss: 1.8279 - val_accuracy: 0.4528\n",
      "Epoch 4/10\n",
      "12/12 [==============================] - 191s 16s/step - loss: 2.0087 - accuracy: 0.4048 - val_loss: 1.7829 - val_accuracy: 0.4591\n",
      "Epoch 5/10\n",
      "12/12 [==============================] - 207s 18s/step - loss: 1.9213 - accuracy: 0.4102 - val_loss: 1.7070 - val_accuracy: 0.4906\n",
      "Epoch 6/10\n",
      "12/12 [==============================] - 183s 16s/step - loss: 1.8326 - accuracy: 0.4343 - val_loss: 1.6055 - val_accuracy: 0.5660\n",
      "Epoch 7/10\n",
      "12/12 [==============================] - 183s 15s/step - loss: 1.7216 - accuracy: 0.4826 - val_loss: 1.5517 - val_accuracy: 0.5157\n",
      "Epoch 8/10\n",
      "12/12 [==============================] - 178s 15s/step - loss: 1.8151 - accuracy: 0.4343 - val_loss: 1.5301 - val_accuracy: 0.5472\n",
      "Epoch 9/10\n",
      "12/12 [==============================] - 183s 16s/step - loss: 1.6929 - accuracy: 0.4853 - val_loss: 1.4951 - val_accuracy: 0.5597\n",
      "Epoch 10/10\n",
      "12/12 [==============================] - 181s 15s/step - loss: 1.6186 - accuracy: 0.4853 - val_loss: 1.4744 - val_accuracy: 0.5472\n"
     ]
    }
   ],
   "source": [
    "history = model.fit(\n",
    "        train_flow,\n",
    "        epochs= 10,\n",
    "        validation_data= val_flow,\n",
    "    )"
   ]
  },
  {
   "cell_type": "markdown",
   "metadata": {
    "id": "jArHRPGoadpk"
   },
   "source": [
    "## Prediction & Evaluation"
   ]
  },
  {
   "cell_type": "code",
   "execution_count": 27,
   "metadata": {
    "id": "ZpGrZ2THt9s8"
   },
   "outputs": [],
   "source": [
    "def plot_history(history):\n",
    "    acc = history.history['accuracy']\n",
    "    val_acc = history.history['val_accuracy']\n",
    "\n",
    "    loss = history.history['loss']\n",
    "    val_loss = history.history['val_loss']\n",
    "\n",
    "    epochs = range(len(acc))\n",
    "\n",
    "    plt.plot(epochs, acc, label = \"training\")\n",
    "    plt.plot(epochs, val_acc, label = \"validation\")\n",
    "    plt.legend(loc=\"upper left\")\n",
    "    plt.title('Training and validation accuracy')\n",
    "\n",
    "    plt.figure()\n",
    "\n",
    "    plt.plot(epochs, loss, label = \"training\")\n",
    "    plt.plot(epochs, val_loss, label = \"validation\")\n",
    "    plt.legend(loc=\"upper right\")\n",
    "    plt.title('Training and validation loss')"
   ]
  },
  {
   "cell_type": "code",
   "execution_count": 28,
   "metadata": {},
   "outputs": [
    {
     "data": {
      "image/png": "[encoded data removed]",
      "text/plain": [
       "<Figure size 432x288 with 1 Axes>"
      ]
     },
     "metadata": {
      "needs_background": "light"
     },
     "output_type": "display_data"
    },
    {
     "data": {
      "image/png": "[encoded data removed]",
      "text/plain": [
       "<Figure size 432x288 with 1 Axes>"
      ]
     },
     "metadata": {
      "needs_background": "light"
     },
     "output_type": "display_data"
    }
   ],
   "source": [
    "plot_history(history)"
   ]
  },
  {
   "cell_type": "code",
   "execution_count": null,
   "metadata": {},
   "outputs": [],
   "source": [
    "from keras.models import load_model\n",
    "model = load_model('image_classification_model.h5')"
   ]
  },
  {
   "cell_type": "code",
   "execution_count": 29,
   "metadata": {},
   "outputs": [],
   "source": [
    "predictions = model.predict(X_test)\n",
    "y_pred = np.argmax(predictions, axis=1)"
   ]
  },
  {
   "cell_type": "code",
   "execution_count": 30,
   "metadata": {
    "colab": {
     "base_uri": "https://localhost:8080/"
    },
    "id": "TgTurXYRv_xL",
    "outputId": "ff646b96-c747-4646-b170-10880bd3310c"
   },
   "outputs": [
    {
     "name": "stdout",
     "output_type": "stream",
     "text": [
      "Confusion Matrix\n",
      "[[ 0  0  0  0  2  3  0  0  0  6  0  0  0  1  5  0  0  2  1]\n",
      " [ 0  0  1  0  0  6  0  0  0  2  0  0  0  6  5  0  0  0  0]\n",
      " [ 0  1  4  0  0  8  0  0  0  1  0  0  1  1  3  0  0  1  0]\n",
      " [ 0  0  0  0  1  8  0  0  0  1  0  0  0  1  8  0  0  1  0]\n",
      " [ 0  0  0  0  0  8  0  0  2  3  0  0  0  3  3  0  0  1  0]\n",
      " [ 1  0  4  0  0  7  0  0  1  0  0  0  0  3  4  0  0  0  0]\n",
      " [ 1  0  3  0  0  6  0  0  1  1  0  0  0  2  5  0  0  1  0]\n",
      " [ 0  0  1  0  0  6  0  0  0  6  0  0  0  1  6  0  0  0  0]\n",
      " [ 0  0  3  0  0  6  0  0  1  3  0  0  0  3  4  0  0  0  0]\n",
      " [ 0  0  1  0  0 10  0  0  2  4  0  0  1  1  1  0  0  0  0]\n",
      " [ 1  0  2  0  0  7  0  0  1  1  0  0  0  3  5  0  0  0  0]\n",
      " [ 0  0  3  0  0 10  0  0  1  0  0  0  0  2  3  0  0  1  0]\n",
      " [ 0  0  4  0  0  1  0  0  0  1  0  0  0  7  4  0  0  3  0]\n",
      " [ 0  0  1  0  0  5  0  0  1  3  0  0  1  2  7  0  0  0  0]\n",
      " [ 0  0  1  0  0 10  0  0  1  2  0  0  0  2  4  0  0  0  0]\n",
      " [ 0  0  6  0  0  5  0  0  2  1  0  0  0  0  6  0  0  0  0]\n",
      " [ 0  0  0  0  0  6  0  0  2  5  0  0  0  2  5  0  0  0  0]\n",
      " [ 0  0  1  0  0  7  0  0  0  1  0  0  0  3  6  0  0  1  1]\n",
      " [ 0  0  0  0  0  7  0  0  0  6  0  0  0  0  5  0  0  1  1]]\n",
      "\n",
      "Classification Report\n",
      "              precision    recall  f1-score   support\n",
      "\n",
      "   aeroplane       0.00      0.00      0.00        20\n",
      "     bicycle       0.00      0.00      0.00        20\n",
      "        bird       0.11      0.20      0.15        20\n",
      "        boat       0.00      0.00      0.00        20\n",
      "         bus       0.00      0.00      0.00        20\n",
      "         car       0.06      0.35      0.10        20\n",
      "         cat       0.00      0.00      0.00        20\n",
      "       chair       0.00      0.00      0.00        20\n",
      "         cow       0.07      0.05      0.06        20\n",
      " diningtable       0.09      0.20      0.12        20\n",
      "         dog       0.00      0.00      0.00        20\n",
      "       horse       0.00      0.00      0.00        20\n",
      "   motorbike       0.00      0.00      0.00        20\n",
      "      person       0.05      0.10      0.06        20\n",
      " pottedplant       0.04      0.20      0.07        20\n",
      "       sheep       0.00      0.00      0.00        20\n",
      "        sofa       0.00      0.00      0.00        20\n",
      "       train       0.08      0.05      0.06        20\n",
      "   tvmonitor       0.33      0.05      0.09        20\n",
      "\n",
      "    accuracy                           0.06       380\n",
      "   macro avg       0.04      0.06      0.04       380\n",
      "weighted avg       0.04      0.06      0.04       380\n",
      "\n"
     ]
    },
    {
     "name": "stderr",
     "output_type": "stream",
     "text": [
      "c:\\users\\asreno\\tf_env\\lib\\site-packages\\sklearn\\metrics\\_classification.py:1248: UndefinedMetricWarning: Precision and F-score are ill-defined and being set to 0.0 in labels with no predicted samples. Use `zero_division` parameter to control this behavior.\n",
      "  _warn_prf(average, modifier, msg_start, len(result))\n",
      "c:\\users\\asreno\\tf_env\\lib\\site-packages\\sklearn\\metrics\\_classification.py:1248: UndefinedMetricWarning: Precision and F-score are ill-defined and being set to 0.0 in labels with no predicted samples. Use `zero_division` parameter to control this behavior.\n",
      "  _warn_prf(average, modifier, msg_start, len(result))\n",
      "c:\\users\\asreno\\tf_env\\lib\\site-packages\\sklearn\\metrics\\_classification.py:1248: UndefinedMetricWarning: Precision and F-score are ill-defined and being set to 0.0 in labels with no predicted samples. Use `zero_division` parameter to control this behavior.\n",
      "  _warn_prf(average, modifier, msg_start, len(result))\n"
     ]
    }
   ],
   "source": [
    "from sklearn.metrics import classification_report, confusion_matrix\n",
    "\n",
    "print('Confusion Matrix')\n",
    "print(confusion_matrix(y_test, y_pred))\n",
    "\n",
    "print()\n",
    "\n",
    "print('Classification Report')\n",
    "print(classification_report(y_test, \n",
    "                            y_pred, \n",
    "                            target_names=CATEGORIES))"
   ]
  },
  {
   "cell_type": "code",
   "execution_count": 31,
   "metadata": {
    "id": "eWIniqdvwLTG"
   },
   "outputs": [],
   "source": [
    "# model.save(\"image_classification_model.h5\")"
   ]
  },
  {
   "cell_type": "code",
   "execution_count": 32,
   "metadata": {
    "colab": {
     "base_uri": "https://localhost:8080/",
     "height": 329
    },
    "id": "Fz4ua5jqwOn9",
    "outputId": "8ab789b3-895c-4c52-c936-276097110e9f"
   },
   "outputs": [
    {
     "name": "stdout",
     "output_type": "stream",
     "text": [
      "12/12 - 119s - loss: 1.4410 - accuracy: 0.5895\n",
      "Test Loss:  1.4409924745559692\n",
      "Test Accuracy:  0.5894736647605896\n"
     ]
    }
   ],
   "source": [
    "loss_and_metrics = model.evaluate(test_flow, verbose=2)\n",
    "print(\"Test Loss: \", loss_and_metrics[0])\n",
    "print(\"Test Accuracy: \", loss_and_metrics[1])"
   ]
  }
 ],
 "metadata": {
  "colab": {
   "collapsed_sections": [
    "Xpcpoza4dZiW"
   ],
   "name": "Copy of Untitled1.ipynb",
   "provenance": [],
   "toc_visible": true
  },
  "kernelspec": {
   "display_name": "Python 3 (ipykernel)",
   "language": "python",
   "name": "python3"
  },
  "language_info": {
   "codemirror_mode": {
    "name": "ipython",
    "version": 3
   },
   "file_extension": ".py",
   "mimetype": "text/x-python",
   "name": "python",
   "nbconvert_exporter": "python",
   "pygments_lexer": "ipython3",
   "version": "3.9.1"
  }
 },
 "nbformat": 4,
 "nbformat_minor": 1
}
