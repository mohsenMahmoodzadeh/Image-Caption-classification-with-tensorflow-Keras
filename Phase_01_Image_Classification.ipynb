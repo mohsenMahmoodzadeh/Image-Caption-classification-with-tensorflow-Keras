{
 "cells": [
  {
   "cell_type": "markdown",
   "metadata": {
    "id": "cGtcNHJJY4Qm"
   },
   "source": [
    "# Image Classification with **CNN**"
   ]
  },
  {
   "cell_type": "markdown",
   "metadata": {
    "id": "ISyIMaLuY94u"
   },
   "source": [
    "In this notebook, we build a keras CNN model to classify an image dataset with 532 train and 380 test images. \n",
    "\n",
    "We use Tensorflow and Keras for implementation of our CNN. CNN we choose is DenseNet169. You can see the architecture of DenseNet as show below:\n",
    "\n",
    "![DenseNet169](./02.png)\n",
    "\n",
    "We also use scikit-learn library for some ancillary affairs such as confusion matrix, accuracy score, classification report, etc."
   ]
  },
  {
   "cell_type": "markdown",
   "metadata": {
    "id": "wDg-HnzJZDW_"
   },
   "source": [
    "## Import Libraries"
   ]
  },
  {
   "cell_type": "code",
   "execution_count": 1,
   "metadata": {
    "id": "oKcYXY-YF7ZS"
   },
   "outputs": [],
   "source": [
    "import tensorflow as tf\n",
    "from tensorflow.keras import *\n",
    "import numpy as np\n",
    "import pandas as pd\n",
    "import h5py\n",
    "from PIL import Image\n",
    "# from keras.preprocessing.image import ImageDataGenerator\n",
    "# from keras.layers import Conv2D,Activation,MaxPool2D,Dropout,Dense,Flatten,Input,BatchNormalization\n",
    "# from keras.models import Sequential,load_model,Model\n",
    "# from keras.layers import Convolution2D, MaxPooling2D, ZeroPadding2D\n",
    "from matplotlib import pyplot as plt\n",
    "from IPython.display import clear_output\n",
    "import os\n",
    "import cv2\n",
    "import warnings\n",
    "import random\n",
    "# from keras.utils.np_utils import to_categorical\n",
    "# warnings.filterwarnings('ignore','FutureWarning')\n",
    "# tf.__version__ # 1.14.0\n",
    "# tf.keras.__version__ # 2.2.4-tf"
   ]
  },
  {
   "cell_type": "markdown",
   "metadata": {
    "id": "NHfuJr8EZHS9"
   },
   "source": [
    "## General"
   ]
  },
  {
   "cell_type": "markdown",
   "metadata": {
    "id": "6Pyz1Fy5ZIlf"
   },
   "source": [
    "To have a clean code, we gather some hyperparameters and set them in one place. this facilitates the tuning of hyperparameters.  \n",
    "\n",
    "#### Height & Width\n",
    "According to Keras Documenatation, we set the height and width of the image equal to 224 pixels; the reason will be explained later.\n",
    "\n",
    "#### Learning Rate\n",
    "***`LEARNING_RATE`*** is a hyperparameter for learning of the model and specifies the rate of learning. if it's too large, it may be the model not converge to the optima and if it's too small, the larning process of the model will slow down. the experimental suitable value for that is typically between 0.0001 and 0.1 .\n",
    "\n",
    "#### Batch Size\n",
    "Since the amount of data is too large to memory, the data enter the model in batches. ***`TRAIN_BATCH_SIZE`*** and ***`TEST_BATCH_SIZE`*** hyperparameters will specify the batch size of the training and test data. Typically these values will be set as power of 2(Since the size of memory is typically power of 2).\n",
    "\n",
    "#### Epochs\n",
    "Epoch is the number of iterations on training data. if it's too small, the model won't fit the train data properly and if it's too large, the process of learning will be too long."
   ]
  },
  {
   "cell_type": "code",
   "execution_count": 2,
   "metadata": {
    "id": "SZEr6GihsNK-"
   },
   "outputs": [],
   "source": [
    "# '/content/dataset/train/images/'\n",
    "# '/content/dataset/test/images/'\n",
    "TRAIN_DATA_DIR = './dataset/train/images/'\n",
    "TEST_DATA_DIR = './dataset/test/images'\n",
    "\n",
    "TRAIN_DATA_SIZE = 532\n",
    "TEST_DATA_SIZE = 380\n",
    "\n",
    "NUMBER_OF_CLASSES = 19\n",
    "\n",
    "IMG_WIDTH = 224\n",
    "IMG_HEIGHT = 224\n",
    "\n",
    "TRAIN_BATCH_SIZE = 32\n",
    "TEST_BATCH_SIZE = 32\n",
    "\n",
    "NUMBER_OF_CHANNELS = 3\n",
    "\n",
    "LEARNING_RATE = 0.0001\n",
    "\n",
    "EPOCHS = 10"
   ]
  },
  {
   "cell_type": "markdown",
   "metadata": {
    "id": "5oh3d7MHZWji"
   },
   "source": [
    "## Import Datasets"
   ]
  },
  {
   "cell_type": "markdown",
   "metadata": {
    "id": "OIZja_IDZj8g"
   },
   "source": [
    "For upcoming needs, we create the *`label_map`* dictionary. that maps each class name to an integer number. "
   ]
  },
  {
   "cell_type": "code",
   "execution_count": 3,
   "metadata": {
    "id": "OOA7Bs3RsQcy"
   },
   "outputs": [],
   "source": [
    "label_map = {\n",
    "    0 : 'aeroplane', 1 : 'bicycle', 2 : 'bird', 3 : 'boat', \n",
    "    4 : 'bus', 5 : 'car', 6 : 'cat', 7 : 'chair', 8 : 'cow',\n",
    "    9 : 'diningtable', 10 : 'dog', 11 : 'horse', 12 : 'motorbike',\n",
    "    13 : 'person', 14 : 'pottedplant', 15 : 'sheep', 16 : 'sofa',\n",
    "    17 : 'train', 18 : 'tvmonitor'\n",
    "  }"
   ]
  },
  {
   "cell_type": "markdown",
   "metadata": {
    "id": "EU7_tqvIZqHa"
   },
   "source": [
    "We alos create *CATEGORIES* array, containing the name of each class."
   ]
  },
  {
   "cell_type": "code",
   "execution_count": 4,
   "metadata": {
    "colab": {
     "base_uri": "https://localhost:8080/"
    },
    "id": "qLRIsJDOsSo1",
    "outputId": "7c5beb75-dcd7-4ac8-d302-ec33e65597a4"
   },
   "outputs": [],
   "source": [
    "CATEGORIES = list(label_map.values())"
   ]
  },
  {
   "cell_type": "markdown",
   "metadata": {
    "id": "lzojZ1ibZupK"
   },
   "source": [
    "Now it's time to read the data! we defined two functions *`prepare_train_data`* and *`prepare_test_data`* for reading the training and test data. two functions are very similar.\n",
    "\n",
    "For each class name, we append it to the path of *`TRAIN_DATA_DIR`*. then we get each image with help of OpenCV library and resize it to (224, 224). we also set an integer index for each class as it's label. Finally return the training data.\n",
    "\n",
    "This procces will be done also for test data.\n"
   ]
  },
  {
   "cell_type": "code",
   "execution_count": 5,
   "metadata": {
    "id": "ds7U72yJsVJD"
   },
   "outputs": [],
   "source": [
    "def prepare_train_data(TRAIN_DATA_DIR, CATEGORIES, img_width, img_height):\n",
    "    training_data = []\n",
    "    path = \"\"\n",
    "    for category in CATEGORIES:\n",
    "        path = os.path.join(TRAIN_DATA_DIR, category)\n",
    "        class_num = CATEGORIES.index(category)\n",
    "        for img in os.listdir(path):\n",
    "            img = os.path.join(path, img)\n",
    "            try:\n",
    "                img_array = cv2.imread(img, cv2.IMREAD_UNCHANGED)\n",
    "                new_array = cv2.resize(img_array, (img_width, img_height))\n",
    "                training_data.append([new_array, class_num])\n",
    "            except Exception as e:\n",
    "                print(str(e))\n",
    "\n",
    "    return training_data"
   ]
  },
  {
   "cell_type": "code",
   "execution_count": 6,
   "metadata": {
    "id": "ArHI4lydsYG3"
   },
   "outputs": [],
   "source": [
    "def prepare_test_data(TEST_DATA_DIR, CATEGORIES, img_width, img_height):\n",
    "    test_data = []\n",
    "    path = \"\"\n",
    "    for category in CATEGORIES:\n",
    "        path = os.path.join(TEST_DATA_DIR, category)\n",
    "        class_num = CATEGORIES.index(category)\n",
    "        for img in os.listdir(path):\n",
    "            img = os.path.join(path, img)\n",
    "            try:\n",
    "                img_array = cv2.imread(img, cv2.IMREAD_UNCHANGED)\n",
    "                new_array = cv2.resize(img_array, (img_width, img_height))\n",
    "                test_data.append([new_array, class_num])\n",
    "            except Exception as e:\n",
    "                print(str(e))\n",
    "\n",
    "    return test_data"
   ]
  },
  {
   "cell_type": "code",
   "execution_count": 7,
   "metadata": {
    "id": "U2b9uhWIsa7K"
   },
   "outputs": [],
   "source": [
    "training_data = prepare_train_data(TRAIN_DATA_DIR, CATEGORIES, \n",
    "                                   IMG_WIDTH, IMG_HEIGHT)"
   ]
  },
  {
   "cell_type": "code",
   "execution_count": 8,
   "metadata": {
    "id": "mxko9hOcs4VJ"
   },
   "outputs": [],
   "source": [
    "test_data = prepare_test_data(TEST_DATA_DIR, CATEGORIES, \n",
    "                              IMG_WIDTH, IMG_HEIGHT)"
   ]
  },
  {
   "cell_type": "markdown",
   "metadata": {
    "id": "DEBIQUxbZ0wq"
   },
   "source": [
    "## Data Preprocessing"
   ]
  },
  {
   "cell_type": "markdown",
   "metadata": {
    "id": "1IrE7GGtZ10S"
   },
   "source": [
    "For now, we have raw training data and test data. Now. we have to build *`X_train`*, *`y_train`*, *`X_test`* and *`y_test`* from them. it can be possible by simply iterating on them!\n",
    "\n",
    "Before that, we first shuffle the training data to prevent overfitting.\n",
    "\n",
    "It's only one point! we need to convert *X_train*, *y_train*, *X_test* and *y_test* to a numpy array. Furthermore, for *y_train* and *y_test*, we need to conver them to binary classes. it can be done by *`to_categorical()`* method from Tensorflow.\n",
    "\n",
    "additional info: \n",
    "<https://www.tensorflow.org/api_docs/python/tf/keras/utils/to_categorical>"
   ]
  },
  {
   "cell_type": "code",
   "execution_count": 9,
   "metadata": {
    "id": "J73kvZqFsg-5"
   },
   "outputs": [],
   "source": [
    "random.shuffle(training_data)\n",
    "random.shuffle(test_data)"
   ]
  },
  {
   "cell_type": "code",
   "execution_count": 10,
   "metadata": {},
   "outputs": [],
   "source": [
    "val_data_size = int(len(test_data) * 0.3)\n",
    "val_data = test_data[:val_data_size]\n",
    "test_data = test_data[val_data_size:]\n",
    "# val_data = random.choices(training_data, k = int(len(training_data) * 0.2))"
   ]
  },
  {
   "cell_type": "code",
   "execution_count": 11,
   "metadata": {},
   "outputs": [
    {
     "name": "stdout",
     "output_type": "stream",
     "text": [
      "the count of test samples: 266\n",
      "the count of validation samples: 114\n"
     ]
    }
   ],
   "source": [
    "print(\"the count of test samples: \" + str(len(test_data)))\n",
    "print(\"the count of validation samples: \" + str(len(val_data)))"
   ]
  },
  {
   "cell_type": "code",
   "execution_count": 12,
   "metadata": {
    "id": "U3U2mE9eT5rm"
   },
   "outputs": [],
   "source": [
    "X_train = []\n",
    "y_train = []\n",
    "for features, classes in training_data:\n",
    "    X_train.append(features)\n",
    "    y_train.append(classes)\n",
    "\n",
    "X_train = np.array(X_train).reshape(-1, IMG_WIDTH, IMG_HEIGHT, \n",
    "                                    NUMBER_OF_CHANNELS)\n",
    "y_train = np.array(y_train)\n",
    "y_train_cat = tf.keras.utils.to_categorical(y_train)"
   ]
  },
  {
   "cell_type": "code",
   "execution_count": 13,
   "metadata": {},
   "outputs": [],
   "source": [
    "X_val = []\n",
    "y_val = []\n",
    "for features, classes in val_data:\n",
    "    X_val.append(features)\n",
    "    y_val.append(classes)\n",
    "\n",
    "X_val = np.array(X_val).reshape(-1, IMG_WIDTH, IMG_HEIGHT, \n",
    "                                    NUMBER_OF_CHANNELS)\n",
    "y_val = np.array(y_val)\n",
    "y_val_cat = tf.keras.utils.to_categorical(y_val)"
   ]
  },
  {
   "cell_type": "code",
   "execution_count": 14,
   "metadata": {
    "id": "7kZhbxwStGWR"
   },
   "outputs": [],
   "source": [
    "X_test = []\n",
    "y_test = []\n",
    "for features, classes in test_data:\n",
    "    X_test.append(features)\n",
    "    y_test.append(classes)\n",
    "\n",
    "X_test = np.array(X_test).reshape(-1, IMG_WIDTH, IMG_HEIGHT, \n",
    "                                  NUMBER_OF_CHANNELS)\n",
    "y_test = np.array(y_test)\n",
    "\n",
    "y_test_cat = tf.keras.utils.to_categorical(y_test)"
   ]
  },
  {
   "cell_type": "code",
   "execution_count": 15,
   "metadata": {},
   "outputs": [],
   "source": [
    "# --------------------------"
   ]
  },
  {
   "cell_type": "code",
   "execution_count": 16,
   "metadata": {},
   "outputs": [],
   "source": [
    "# X = []\n",
    "# y = []\n",
    "# for i in range(len(training_data)):\n",
    "#     X.append(training_data[i][0])\n",
    "#     y.append(training_data[i][1])"
   ]
  },
  {
   "cell_type": "code",
   "execution_count": 17,
   "metadata": {},
   "outputs": [],
   "source": [
    "# from sklearn.model_selection import train_test_split\n",
    "\n",
    "# X_train, X_val, y_train, y_val = train_test_split(X, y, test_size=0.2, shuffle= True)"
   ]
  },
  {
   "cell_type": "code",
   "execution_count": 18,
   "metadata": {},
   "outputs": [],
   "source": [
    "# y_train = tf.keras.utils.to_categorical(y_train)\n",
    "# y_val = tf.keras.utils.to_categorical(y_val)"
   ]
  },
  {
   "cell_type": "markdown",
   "metadata": {
    "id": "go-yZF7IZ8w1"
   },
   "source": [
    "Due to lack of data, we use ***Data Augmentation***.\n",
    "\n",
    "Now Let's build a preprocessor for our data! we do it by using ***imgaug*** library. it helps us to build a custom preprocessor.\n",
    "As show below, we use some transformation such as rotation, shear, Affine and some filters e.g. Flip and Gussian blur on our training data to be more robust and suitable.\n",
    "\n",
    "In augment() function, we apply our custom preprocessor on a single image using *`preprocess_input`* method of DenseNet class."
   ]
  },
  {
   "cell_type": "code",
   "execution_count": 19,
   "metadata": {
    "id": "-ACPmJ_MtNrZ"
   },
   "outputs": [],
   "source": [
    "# import imgaug as ia\n",
    "# import imgaug.augmenters as iaa\n",
    "\n",
    "# seq = iaa.Sequential([\n",
    "#         iaa.Affine(rotate=(-20, 20)),\n",
    "        \n",
    "#         iaa.Affine(shear=(0,15)),\n",
    "        \n",
    "#         iaa.Fliplr(p=1.0), \n",
    "        \n",
    "#         iaa.Affine(scale={\"x\": (1.15, 1.0), \"y\": (1.15, 1.0)}),\n",
    "#         iaa.GaussianBlur(sigma=(0, 3.0)),\n",
    "        \n",
    "#     ])"
   ]
  },
  {
   "cell_type": "code",
   "execution_count": 20,
   "metadata": {
    "id": "UHdrjdQAtQXv"
   },
   "outputs": [],
   "source": [
    "# def augment(img):\n",
    "#     seq_det = seq.to_deterministic()\n",
    "#     aug_image = seq_det.augment_image(img)\n",
    "#     return tf.keras.applications.densenet.preprocess_input(aug_image)"
   ]
  },
  {
   "cell_type": "markdown",
   "metadata": {
    "id": "JUgwt-U4aFO0"
   },
   "source": [
    "Now we use ***`ImageDataGenerator`*** to prepare our taining and test data for learning with Keras."
   ]
  },
  {
   "cell_type": "code",
   "execution_count": 21,
   "metadata": {},
   "outputs": [],
   "source": [
    "from tensorflow.keras.preprocessing.image import ImageDataGenerator\n",
    "train_generator = ImageDataGenerator(\n",
    "    rescale=1./255,\n",
    "    rotation_range=50,\n",
    "    brightness_range=[0.2, 1.0],\n",
    "    width_shift_range=0.2,\n",
    "    height_shift_range=0.2,\n",
    "    shear_range=0.2,\n",
    "    zoom_range=0.2,\n",
    "    horizontal_flip=True,\n",
    "    # preprocessing_function=augment,\n",
    "    fill_mode=\"nearest\")\n",
    "\n",
    "test_generator = ImageDataGenerator(rescale=1./255)\n",
    "\n",
    "train_generator_no_aug = ImageDataGenerator(rescale=1./255)"
   ]
  },
  {
   "cell_type": "code",
   "execution_count": 22,
   "metadata": {
    "id": "JzKUfjCttTFS"
   },
   "outputs": [],
   "source": [
    "# train_generator = ImageDataGenerator(preprocessing_function=augment)\n",
    "\n",
    "train_flow = train_generator.flow(\n",
    "        X_train, \n",
    "        y_train_cat,\n",
    "      )\n"
   ]
  },
  {
   "cell_type": "code",
   "execution_count": 23,
   "metadata": {
    "id": "rcb7XnFXtWOz"
   },
   "outputs": [],
   "source": [
    "# test_generator = ImageDataGenerator(rescale=1./255)\n",
    "\n",
    "val_flow = test_generator.flow(\n",
    "        X_val,\n",
    "        y_val_cat,\n",
    "      ) "
   ]
  },
  {
   "cell_type": "code",
   "execution_count": 24,
   "metadata": {},
   "outputs": [],
   "source": [
    "test_flow = test_generator.flow(\n",
    "        X_test,\n",
    "        y_test_cat,\n",
    "      )"
   ]
  },
  {
   "cell_type": "markdown",
   "metadata": {
    "id": "N6-CtaovaKmW"
   },
   "source": [
    "## Creating Model"
   ]
  },
  {
   "cell_type": "markdown",
   "metadata": {
    "id": "JhyDXR2RaL0M"
   },
   "source": [
    "It's time to build the model! \n",
    "\n",
    "Thanks to Keras, we can do that in a few lines of code. we consider an ***`Input`*** layer w.r.t our data shape. Then we use **`DenseNet169`** to build a powerful model. \n",
    "\n",
    "Then we add a ***`Pooling`*** layer to prepare the model for adding upcoming ***`Dense`*** layers. Last layer is specified with `sotfmax` activation function to classify the output.\n",
    "\n",
    "> `input_shape`: optional shape tuple, only to be specified if include_top is False (otherwise the input shape has to be (224, 224, 3) (with 'channels_last' data format) or (3, 224, 224) (with 'channels_first' data format). It should have exactly 3 inputs channels, and width and height should be no smaller than 32. E.g. (200, 200, 3) would be one valid value."
   ]
  },
  {
   "cell_type": "code",
   "execution_count": 25,
   "metadata": {
    "id": "7_JWaEPmtzlW"
   },
   "outputs": [],
   "source": [
    "dense169 = tf.keras.applications.DenseNet169(include_top=False, weights='imagenet', input_shape=(IMG_WIDTH, IMG_HEIGHT, NUMBER_OF_CHANNELS))\n",
    "# model = tf.keras.models.Sequential([\n",
    "#     tf.keras.layers.Input((IMG_WIDTH, IMG_HEIGHT, NUMBER_OF_CHANNELS)),\n",
    "#     tf.keras.applications.DenseNet169(include_top=False,\n",
    "#                                       weights='imagenet',\n",
    "#                                       input_shape=(IMG_WIDTH, \n",
    "#                                                    IMG_HEIGHT, \n",
    "#                                                    NUMBER_OF_CHANNELS)),\n",
    "#     tf.keras.layers.GlobalAveragePooling2D(),\n",
    "#     tf.keras.layers.Dense(128,activation='relu'),\n",
    "#     tf.keras.layers.Dense(NUMBER_OF_CLASSES, activation='softmax'),\n",
    "# ])"
   ]
  },
  {
   "cell_type": "markdown",
   "metadata": {
    "id": "P1w6d03OaS4c"
   },
   "source": [
    "## Training Model"
   ]
  },
  {
   "cell_type": "markdown",
   "metadata": {
    "id": "ws4cGWDaaVK7"
   },
   "source": [
    "After creating the model, we now need to compile and train it.\n",
    "\n",
    "In `compile` method we set some important hyperparameters: \n",
    "\n",
    "`optimizer` is the optimizer we use for converging our model to reach local(or even global) optima. There are various types of optimizers such as SGD, RMSProp, and alos Adam. we use Adam according to the cases mentioned in https://towardsdatascience.com/complete-guide-to-adam-optimization-1e5f29532c3d : \n",
    "\n",
    "1. Works well on large datasets.  \n",
    "2. Computationally efficient.\n",
    "3. Can handle sparse gradients on noisy datasets.\n",
    "4. Default hyperparameter values do well on most problems.\n",
    "5. Requires little memory, thus memory efficient.\n",
    "\n",
    "`categorical_crossentropy` loss(Also called Softmax Loss) is a Softmax activation plus a Cross-Entropy loss. If we use this loss, we will train a CNN to output a probability over the C classes for each image. It is used for multi-class classification.\n",
    "\n",
    "additional info: \n",
    "<https://gombru.github.io/2018/05/23/cross_entropy_loss/>\n",
    "\n",
    "`accuracy` metrics is the proportion of true results among the total number of cases examined. it is a valid choice of evaluation for classification problems which are well balanced and not skewed or No class imbalance. \n",
    "\n",
    "`accuracy = (TP+TN)/(TP+FP+FN+TN)`\n",
    "\n",
    "additional info: \n",
    "<https://towardsdatascience.com/the-5-classification-evaluation-metrics-you-must-know-aa97784ff226#:~:text=Accuracy%20is%20the%20quintessential%20classification%20metric.&text=And%20easily%20suited%20for%20binary,total%20number%20of%20cases%20examined./>"
   ]
  },
  {
   "cell_type": "code",
   "execution_count": 26,
   "metadata": {},
   "outputs": [],
   "source": [
    "# model = tf.keras.models.load_model('DenseNet169.h5')\n",
    "model = Sequential()\n",
    "model.add(dense169)\n",
    "model.add(tf.keras.layers.GlobalAveragePooling2D())\n",
    "model.add(tf.keras.layers.Dense(1024,activation='relu'))\n",
    "model.add(tf.keras.layers.Dropout(0.2))\n",
    "model.add(tf.keras.layers.Dense(512,activation='relu'))\n",
    "model.add(tf.keras.layers.Dropout(0.2))\n",
    "model.add(tf.keras.layers.Dense(512,activation='relu'))\n",
    "model.add(tf.keras.layers.Dropout(0.2))\n",
    "model.add(tf.keras.layers.Dense(128,activation='relu'))\n",
    "model.add(tf.keras.layers.Dropout(0.15))\n",
    "model.add(tf.keras.layers.Dense(NUMBER_OF_CLASSES, activation='softmax'))"
   ]
  },
  {
   "cell_type": "code",
   "execution_count": 27,
   "metadata": {},
   "outputs": [],
   "source": [
    "dense169.trainable = False"
   ]
  },
  {
   "cell_type": "code",
   "execution_count": 28,
   "metadata": {},
   "outputs": [],
   "source": [
    "model.compile(optimizer=tf.keras.optimizers.Adam(LEARNING_RATE),\n",
    "              loss='categorical_crossentropy',\n",
    "              metrics=['accuracy'])"
   ]
  },
  {
   "cell_type": "code",
   "execution_count": 29,
   "metadata": {
    "colab": {
     "base_uri": "https://localhost:8080/"
    },
    "id": "e_NwCApqt1KE",
    "outputId": "4d7c3cd5-c06d-4739-8d33-38264a4a9d55"
   },
   "outputs": [
    {
     "name": "stdout",
     "output_type": "stream",
     "text": [
      "Epoch 1/10\n",
      "17/17 [==============================] - 333s 18s/step - loss: 2.9771 - accuracy: 0.0695 - val_loss: 2.8755 - val_accuracy: 0.1316\n",
      "Epoch 2/10\n",
      "17/17 [==============================] - 247s 15s/step - loss: 2.8956 - accuracy: 0.0996 - val_loss: 2.8217 - val_accuracy: 0.2281\n",
      "Epoch 3/10\n",
      "17/17 [==============================] - 244s 14s/step - loss: 2.8229 - accuracy: 0.1523 - val_loss: 2.7385 - val_accuracy: 0.3421\n",
      "Epoch 4/10\n",
      "17/17 [==============================] - 236s 14s/step - loss: 2.8168 - accuracy: 0.1316 - val_loss: 2.6254 - val_accuracy: 0.3772\n",
      "Epoch 5/10\n",
      "17/17 [==============================] - 222s 13s/step - loss: 2.6978 - accuracy: 0.2068 - val_loss: 2.5227 - val_accuracy: 0.4386\n",
      "Epoch 6/10\n",
      "17/17 [==============================] - 257s 15s/step - loss: 2.5908 - accuracy: 0.2368 - val_loss: 2.3398 - val_accuracy: 0.4912\n",
      "Epoch 7/10\n",
      "17/17 [==============================] - 353s 21s/step - loss: 2.4944 - accuracy: 0.2726 - val_loss: 2.1857 - val_accuracy: 0.5088\n",
      "Epoch 8/10\n",
      "17/17 [==============================] - 296s 17s/step - loss: 2.3580 - accuracy: 0.2951 - val_loss: 1.9794 - val_accuracy: 0.5088\n",
      "Epoch 9/10\n",
      "17/17 [==============================] - 276s 16s/step - loss: 2.2270 - accuracy: 0.3553 - val_loss: 1.8382 - val_accuracy: 0.5877\n",
      "Epoch 10/10\n",
      "17/17 [==============================] - 282s 17s/step - loss: 2.0911 - accuracy: 0.3722 - val_loss: 1.7144 - val_accuracy: 0.5614\n"
     ]
    }
   ],
   "source": [
    "history = model.fit(\n",
    "    train_flow,\n",
    "    # TRAIN_DATA_SIZE // TRAIN_BATCH_SIZE,\n",
    "    epochs= 10,\n",
    "    validation_data= val_flow,\n",
    "    # validation_steps= TEST_DATA_SIZE // TEST_BATCH_SIZE\n",
    "    )\n",
    "\n",
    "# history = model.fit_generator(train_flow, \n",
    "#           32, \n",
    "#           epochs=3 ,\n",
    "#           validation_data=test_flow)"
   ]
  },
  {
   "cell_type": "code",
   "execution_count": 30,
   "metadata": {},
   "outputs": [],
   "source": [
    "dense169.trainable = True\n",
    "\n",
    "set_trainable = False\n",
    "for layer in dense169.layers:\n",
    "    if layer.name == 'conv5_block32_1_conv':\n",
    "        set_trainable = True\n",
    "    if set_trainable:\n",
    "        layer.trainable = True\n",
    "    else:\n",
    "        layer.trainable = False"
   ]
  },
  {
   "cell_type": "code",
   "execution_count": 31,
   "metadata": {},
   "outputs": [],
   "source": [
    "model.compile(optimizer=tf.keras.optimizers.Adam(LEARNING_RATE),\n",
    "              loss='categorical_crossentropy',\n",
    "              metrics=['accuracy'])\n"
   ]
  },
  {
   "cell_type": "code",
   "execution_count": 32,
   "metadata": {},
   "outputs": [
    {
     "name": "stdout",
     "output_type": "stream",
     "text": [
      "Epoch 1/10\n",
      "17/17 [==============================] - 314s 18s/step - loss: 2.0736 - accuracy: 0.3722 - val_loss: 1.6029 - val_accuracy: 0.5877\n",
      "Epoch 2/10\n",
      "17/17 [==============================] - 352s 21s/step - loss: 2.0017 - accuracy: 0.3853 - val_loss: 1.5896 - val_accuracy: 0.5877\n",
      "Epoch 3/10\n",
      "17/17 [==============================] - 283s 17s/step - loss: 1.8974 - accuracy: 0.4361 - val_loss: 1.4820 - val_accuracy: 0.5614\n",
      "Epoch 4/10\n",
      "17/17 [==============================] - 276s 16s/step - loss: 1.8471 - accuracy: 0.4380 - val_loss: 1.4388 - val_accuracy: 0.6140\n",
      "Epoch 5/10\n",
      "17/17 [==============================] - 253s 15s/step - loss: 1.7799 - accuracy: 0.4229 - val_loss: 1.4146 - val_accuracy: 0.6053\n",
      "Epoch 6/10\n",
      "17/17 [==============================] - 290s 17s/step - loss: 1.7140 - accuracy: 0.4511 - val_loss: 1.3494 - val_accuracy: 0.6053\n",
      "Epoch 7/10\n",
      "17/17 [==============================] - 288s 17s/step - loss: 1.6253 - accuracy: 0.5019 - val_loss: 1.3452 - val_accuracy: 0.6404\n",
      "Epoch 8/10\n",
      "17/17 [==============================] - 266s 15s/step - loss: 1.6144 - accuracy: 0.5150 - val_loss: 1.2886 - val_accuracy: 0.6754\n",
      "Epoch 9/10\n",
      "17/17 [==============================] - 286s 17s/step - loss: 1.5758 - accuracy: 0.5226 - val_loss: 1.3120 - val_accuracy: 0.6491\n",
      "Epoch 10/10\n",
      "17/17 [==============================] - 260s 15s/step - loss: 1.5179 - accuracy: 0.5188 - val_loss: 1.2818 - val_accuracy: 0.6228\n"
     ]
    }
   ],
   "source": [
    "history = model.fit(\n",
    "    train_flow,\n",
    "    # TRAIN_DATA_SIZE // TRAIN_BATCH_SIZE,\n",
    "    epochs= 10,\n",
    "    validation_data= val_flow,\n",
    "    # validation_steps= TEST_DATA_SIZE // TEST_BATCH_SIZE\n",
    "    )"
   ]
  },
  {
   "cell_type": "markdown",
   "metadata": {
    "id": "jArHRPGoadpk"
   },
   "source": [
    "## Prediction & Evaluation"
   ]
  },
  {
   "cell_type": "markdown",
   "metadata": {
    "id": "MInJx36Dae3Z"
   },
   "source": [
    "For now, we trained our model. But how does much work well? we have to evaluate it.\n"
   ]
  },
  {
   "cell_type": "code",
   "execution_count": 33,
   "metadata": {
    "id": "ZpGrZ2THt9s8"
   },
   "outputs": [
    {
     "data": {
      "text/plain": [
       "Text(0.5, 1.0, 'Training and validation loss')"
      ]
     },
     "execution_count": 33,
     "metadata": {},
     "output_type": "execute_result"
    },
    {
     "data": {
      "image/png": "[encoded data removed]",
      "text/plain": [
       "<Figure size 432x288 with 1 Axes>"
      ]
     },
     "metadata": {
      "needs_background": "light"
     },
     "output_type": "display_data"
    },
    {
     "data": {
      "image/png": "[encoded data removed]",
      "text/plain": [
       "<Figure size 432x288 with 1 Axes>"
      ]
     },
     "metadata": {
      "needs_background": "light"
     },
     "output_type": "display_data"
    }
   ],
   "source": [
    "# predictions = model.predict(X_test)\n",
    "# # predictions = model.predict(test_flow)\n",
    "# y_pred = np.argmax(predictions, axis=1)\n",
    "acc = history.history['accuracy']\n",
    "val_acc = history.history['val_accuracy']\n",
    "\n",
    "loss = history.history['loss']\n",
    "val_loss = history.history['val_loss']\n",
    "\n",
    "epochs = range(len(acc))\n",
    "\n",
    "plt.plot(epochs, acc, label = \"training\")\n",
    "plt.plot(epochs, val_acc, label = \"validation\")\n",
    "plt.legend(loc=\"upper left\")\n",
    "plt.title('Training and validation accuracy')\n",
    "\n",
    "plt.figure()\n",
    "\n",
    "plt.plot(epochs, loss, label = \"training\")\n",
    "plt.plot(epochs, val_loss, label = \"validation\")\n",
    "plt.legend(loc=\"upper right\")\n",
    "plt.title('Training and validation loss')"
   ]
  },
  {
   "cell_type": "code",
   "execution_count": 35,
   "metadata": {},
   "outputs": [],
   "source": [
    "predictions = model.predict(X_test)\n",
    "y_pred = np.argmax(predictions, axis=1)"
   ]
  },
  {
   "cell_type": "markdown",
   "metadata": {
    "id": "RMwKgQlnalC4"
   },
   "source": [
    "Now, Let's take a look to confusion matrix."
   ]
  },
  {
   "cell_type": "code",
   "execution_count": 36,
   "metadata": {
    "colab": {
     "base_uri": "https://localhost:8080/"
    },
    "id": "TgTurXYRv_xL",
    "outputId": "ff646b96-c747-4646-b170-10880bd3310c"
   },
   "outputs": [
    {
     "name": "stdout",
     "output_type": "stream",
     "text": [
      "Confusion Matrix\n",
      "[[ 0  0  0  0  0  1  0  0  0  0  0  0  0  0  2  0  0  0  9]\n",
      " [ 0  0  0  0  0  2  0  0  0  0  0  0  0  2  5  0  0  0  6]\n",
      " [ 0  0  0  0  0  3  0  0  0  0  0  0  0  0  2  0  0  0  7]\n",
      " [ 0  0  0  0  0  4  0  0  0  0  0  0  0  1  3  0  0  0  5]\n",
      " [ 0  0  2  0  0  1  0  0  0  0  0  0  0  0  3  0  0  0  9]\n",
      " [ 0  1  4  0  0  1  0  0  0  0  0  0  0  0  1  0  0  2  4]\n",
      " [ 0  0  3  0  0  4  0  0  0  0  0  0  0  1  5  0  0  0  2]\n",
      " [ 0  0  1  0  0  0  0  0  0  0  0  0  0  0  4  0  0  0  8]\n",
      " [ 0  0  3  0  0  5  0  0  0  0  0  0  0  0  3  0  0  0  4]\n",
      " [ 0  0  2  0  0  1  0  0  0  0  0  0  0  0  4  0  0  0  6]\n",
      " [ 2  0  3  0  1  2  0  0  0  0  0  0  0  0  7  0  0  0  2]\n",
      " [ 0  0  3  0  0  3  0  0  0  0  0  0  0  0  1  0  0  1  5]\n",
      " [ 0  0  2  0  0  3  0  0  0  0  0  0  0  2  3  0  0  0  5]\n",
      " [ 1  0  1  0  0  1  0  0  0  1  0  0  0  0  6  0  0  0  4]\n",
      " [ 0  0  1  0  0  5  0  0  1  0  0  0  0  0  5  0  0  0  6]\n",
      " [ 0  0  2  0  0  4  0  0  0  0  0  0  0  0  3  0  0  0  4]\n",
      " [ 0  0  0  0  0  2  0  0  0  0  0  0  0  2  4  0  0  0  6]\n",
      " [ 0  1  1  0  0  0  0  0  0  0  0  0  0  0  3  0  0  0  7]\n",
      " [ 0  0  0  0  0  2  0  0  0  0  0  0  0  0  2  0  0  0 10]]\n",
      "\n",
      "Classification Report\n",
      "              precision    recall  f1-score   support\n",
      "\n",
      "   aeroplane       0.00      0.00      0.00        12\n",
      "     bicycle       0.00      0.00      0.00        15\n",
      "        bird       0.00      0.00      0.00        12\n",
      "        boat       0.00      0.00      0.00        13\n",
      "         bus       0.00      0.00      0.00        15\n",
      "         car       0.02      0.08      0.04        13\n",
      "         cat       0.00      0.00      0.00        15\n",
      "       chair       0.00      0.00      0.00        13\n",
      "         cow       0.00      0.00      0.00        15\n",
      " diningtable       0.00      0.00      0.00        13\n",
      "         dog       0.00      0.00      0.00        17\n",
      "       horse       0.00      0.00      0.00        13\n",
      "   motorbike       0.00      0.00      0.00        15\n",
      "      person       0.00      0.00      0.00        14\n",
      " pottedplant       0.08      0.28      0.12        18\n",
      "       sheep       0.00      0.00      0.00        13\n",
      "        sofa       0.00      0.00      0.00        14\n",
      "       train       0.00      0.00      0.00        12\n",
      "   tvmonitor       0.09      0.71      0.16        14\n",
      "\n",
      "    accuracy                           0.06       266\n",
      "   macro avg       0.01      0.06      0.02       266\n",
      "weighted avg       0.01      0.06      0.02       266\n",
      "\n"
     ]
    },
    {
     "name": "stderr",
     "output_type": "stream",
     "text": [
      "c:\\users\\asreno\\tf_env\\lib\\site-packages\\sklearn\\metrics\\_classification.py:1248: UndefinedMetricWarning: Precision and F-score are ill-defined and being set to 0.0 in labels with no predicted samples. Use `zero_division` parameter to control this behavior.\n",
      "  _warn_prf(average, modifier, msg_start, len(result))\n",
      "c:\\users\\asreno\\tf_env\\lib\\site-packages\\sklearn\\metrics\\_classification.py:1248: UndefinedMetricWarning: Precision and F-score are ill-defined and being set to 0.0 in labels with no predicted samples. Use `zero_division` parameter to control this behavior.\n",
      "  _warn_prf(average, modifier, msg_start, len(result))\n",
      "c:\\users\\asreno\\tf_env\\lib\\site-packages\\sklearn\\metrics\\_classification.py:1248: UndefinedMetricWarning: Precision and F-score are ill-defined and being set to 0.0 in labels with no predicted samples. Use `zero_division` parameter to control this behavior.\n",
      "  _warn_prf(average, modifier, msg_start, len(result))\n"
     ]
    }
   ],
   "source": [
    "from sklearn.metrics import classification_report, confusion_matrix\n",
    "\n",
    "print('Confusion Matrix')\n",
    "print(confusion_matrix(y_test, y_pred))\n",
    "\n",
    "print()\n",
    "\n",
    "print('Classification Report')\n",
    "print(classification_report(y_test, \n",
    "                            y_pred, \n",
    "                            target_names=CATEGORIES))"
   ]
  },
  {
   "cell_type": "markdown",
   "metadata": {
    "id": "gE4qaUtcavCh"
   },
   "source": [
    "Now, we can save the model."
   ]
  },
  {
   "cell_type": "code",
   "execution_count": null,
   "metadata": {
    "id": "eWIniqdvwLTG"
   },
   "outputs": [],
   "source": [
    "# model.save(\"DenseNet169.h5\")"
   ]
  },
  {
   "cell_type": "markdown",
   "metadata": {
    "id": "JYA5QKJeaucv"
   },
   "source": [
    "we can also visualized the accuracy on training and test data."
   ]
  },
  {
   "cell_type": "code",
   "execution_count": null,
   "metadata": {
    "colab": {
     "base_uri": "https://localhost:8080/",
     "height": 563
    },
    "id": "-x_jE_4lwME_",
    "outputId": "5a5bbc7c-1287-47f5-ac68-a2c0c45ce039"
   },
   "outputs": [],
   "source": [
    "# acc = history.history['accuracy']\n",
    "# val_acc = history.history['val_accuracy']\n",
    "\n",
    "# loss = history.history['loss']\n",
    "# val_loss = history.history['val_loss']\n",
    "\n",
    "# epochs = range(len(acc))\n",
    "\n",
    "# plt.plot(epochs, acc, label = \"training\")\n",
    "# plt.plot(epochs, val_acc, label = \"validation\")\n",
    "# plt.legend(loc=\"upper left\")\n",
    "# plt.title('Training and validation accuracy')\n",
    "\n",
    "# plt.figure()\n",
    "\n",
    "# plt.plot(epochs, loss, label = \"training\")\n",
    "# plt.plot(epochs, val_loss, label = \"validation\")\n",
    "# plt.legend(loc=\"upper right\")\n",
    "# plt.title('Training and validation loss')"
   ]
  },
  {
   "cell_type": "code",
   "execution_count": 37,
   "metadata": {
    "colab": {
     "base_uri": "https://localhost:8080/",
     "height": 329
    },
    "id": "Fz4ua5jqwOn9",
    "outputId": "8ab789b3-895c-4c52-c936-276097110e9f"
   },
   "outputs": [
    {
     "name": "stdout",
     "output_type": "stream",
     "text": [
      "9/9 - 91s - loss: 1.3235 - accuracy: 0.6165\n",
      "Test Loss 1.3234950304031372\n",
      "Test Accuracy 0.61654132604599\n"
     ]
    }
   ],
   "source": [
    "# loss_val, acc_val = model.evaluate(test_flow, y_test_cat, verbose=1)\n",
    "loss_and_metrics = model.evaluate(test_flow, verbose=2)\n",
    "print(\"Test Loss\", loss_and_metrics[0])\n",
    "print(\"Test Accuracy\", loss_and_metrics[1])"
   ]
  },
  {
   "cell_type": "code",
   "execution_count": null,
   "metadata": {},
   "outputs": [],
   "source": []
  }
 ],
 "metadata": {
  "colab": {
   "collapsed_sections": [
    "Xpcpoza4dZiW"
   ],
   "name": "Copy of Untitled1.ipynb",
   "provenance": [],
   "toc_visible": true
  },
  "kernelspec": {
   "display_name": "Python 3 (ipykernel)",
   "language": "python",
   "name": "python3"
  },
  "language_info": {
   "codemirror_mode": {
    "name": "ipython",
    "version": 3
   },
   "file_extension": ".py",
   "mimetype": "text/x-python",
   "name": "python",
   "nbconvert_exporter": "python",
   "pygments_lexer": "ipython3",
   "version": "3.9.1"
  }
 },
 "nbformat": 4,
 "nbformat_minor": 1
}
