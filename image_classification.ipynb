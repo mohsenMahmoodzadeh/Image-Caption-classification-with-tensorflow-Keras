{
  "nbformat": 4,
  "nbformat_minor": 0,
  "metadata": {
    "kernelspec": {
      "display_name": "Python 3",
      "language": "python",
      "name": "python3"
    },
    "language_info": {
      "codemirror_mode": {
        "name": "ipython",
        "version": 3
      },
      "file_extension": ".py",
      "mimetype": "text/x-python",
      "name": "python",
      "nbconvert_exporter": "python",
      "pygments_lexer": "ipython3",
      "version": "3.7.1"
    },
    "colab": {
      "name": "Copy of phase01.ipynb",
      "provenance": [],
      "collapsed_sections": [],
      "include_colab_link": true
    }
  },
  "cells": [
    {
      "cell_type": "markdown",
      "metadata": {
        "id": "view-in-github",
        "colab_type": "text"
      },
      "source": [
        "<a href=\"https://colab.research.google.com/github/mohsenMahmoodzadeh/Image-Caption-classification-with-tensorflow-Keras/blob/master/image_classification.ipynb\" target=\"_parent\"><img src=\"https://colab.research.google.com/assets/colab-badge.svg\" alt=\"Open In Colab\"/></a>"
      ]
    },
    {
      "cell_type": "markdown",
      "metadata": {
        "id": "_YzIXUrqG-Hk"
      },
      "source": [
        "# Image & Caption Classification"
      ]
    },
    {
      "cell_type": "markdown",
      "metadata": {
        "id": "MpX5KxTPHDi6"
      },
      "source": [
        "## Import Libraries"
      ]
    },
    {
      "cell_type": "code",
      "metadata": {
        "id": "xjEhs77gHBXt"
      },
      "source": [
        "import tensorflow as tf\n",
        "from tensorflow.keras import *\n",
        "import numpy as np\n",
        "import pandas as pd\n",
        "import h5py\n",
        "from PIL import Image\n",
        "from matplotlib import pyplot as plt\n",
        "from IPython.display import clear_output\n",
        "import os\n",
        "import cv2\n",
        "import warnings\n",
        "import random"
      ],
      "execution_count": 6,
      "outputs": []
    },
    {
      "cell_type": "code",
      "metadata": {
        "id": "bE6Qjt3JHPa5",
        "colab": {
          "base_uri": "https://localhost:8080/"
        },
        "outputId": "503b2aa5-affb-4d89-a32b-d3a8fdd0f770"
      },
      "source": [
        "!pwd"
      ],
      "execution_count": 44,
      "outputs": [
        {
          "output_type": "stream",
          "text": [
            "/content\n"
          ],
          "name": "stdout"
        }
      ]
    },
    {
      "cell_type": "code",
      "metadata": {
        "id": "6jy_SlOgJUn1",
        "colab": {
          "base_uri": "https://localhost:8080/"
        },
        "outputId": "ada4b059-874b-43a2-a27f-40a1acf23a20"
      },
      "source": [
        "from google.colab import drive\n",
        "drive.mount(\"/content/drive\")"
      ],
      "execution_count": 8,
      "outputs": [
        {
          "output_type": "stream",
          "text": [
            "Mounted at /content/drive\n"
          ],
          "name": "stdout"
        }
      ]
    },
    {
      "cell_type": "code",
      "metadata": {
        "id": "wml1MWc6BoJ5"
      },
      "source": [
        "\n",
        "TRAIN_DATA_DIR = '/content/drive/MyDrive/dataset/train/images/'\n",
        "TEST_DATA_DIR = '/content/drive/MyDrive/dataset/test/images/'\n",
        "# TRAIN_DATA_DIR = './dataset/train/images/'\n",
        "# TEST_DATA_DIR = './dataset/test/images'\n",
        "\n",
        "TRAIN_DATA_SIZE = 532\n",
        "TEST_DATA_SIZE = 380\n",
        "\n",
        "NUMBER_OF_CLASSES = 19\n",
        "\n",
        "IMG_WIDTH = 224\n",
        "IMG_HEIGHT = 224\n",
        "\n",
        "TRAIN_BATCH_SIZE = 32\n",
        "TEST_BATCH_SIZE = 32\n",
        "\n",
        "NUMBER_OF_CHANNELS = 3\n",
        "\n",
        "LEARNING_RATE = 0.0001\n",
        "\n",
        "EPOCHS = 10"
      ],
      "execution_count": 9,
      "outputs": []
    },
    {
      "cell_type": "code",
      "metadata": {
        "id": "FMvH41Ec_0nq"
      },
      "source": [
        "label_map = {\n",
        "    0 : 'aeroplane', 1 : 'bicycle', 2 : 'bird', 3 : 'boat', \n",
        "    4 : 'bus', 5 : 'car', 6 : 'cat', 7 : 'chair', 8 : 'cow',\n",
        "    9 : 'diningtable', 10 : 'dog', 11 : 'horse', 12 : 'motorbike',\n",
        "    13 : 'person', 14 : 'pottedplant', 15 : 'sheep', 16 : 'sofa',\n",
        "    17 : 'train', 18 : 'tvmonitor'\n",
        "  }"
      ],
      "execution_count": 2,
      "outputs": []
    },
    {
      "cell_type": "code",
      "metadata": {
        "id": "QZGZm_qxBLsX"
      },
      "source": [
        "CATEGORIES = list(label_map.values())"
      ],
      "execution_count": 3,
      "outputs": []
    },
    {
      "cell_type": "code",
      "metadata": {
        "id": "LsdtxxyqBOD3"
      },
      "source": [
        "def prepare_data(DATA_DIR, CATEGORIES, img_width, img_height):\n",
        "    data = []\n",
        "    path = \"\"\n",
        "    for category in CATEGORIES:\n",
        "        path = os.path.join(DATA_DIR, category)\n",
        "        class_num = CATEGORIES.index(category)\n",
        "        for img in os.listdir(path):\n",
        "            img = os.path.join(path, img)\n",
        "            try:\n",
        "                img_array = cv2.imread(img, cv2.IMREAD_UNCHANGED)\n",
        "                new_array = cv2.resize(img_array, (img_width, img_height))\n",
        "                data.append([new_array, class_num])\n",
        "            except Exception as e:\n",
        "                print(str(e))\n",
        "\n",
        "    return data"
      ],
      "execution_count": 10,
      "outputs": []
    },
    {
      "cell_type": "code",
      "metadata": {
        "id": "gChVzk53BclQ"
      },
      "source": [
        "training_data = prepare_data(TRAIN_DATA_DIR, CATEGORIES, \n",
        "                                   IMG_WIDTH, IMG_HEIGHT)"
      ],
      "execution_count": 11,
      "outputs": []
    },
    {
      "cell_type": "code",
      "metadata": {
        "id": "fLygRcB-J3PH"
      },
      "source": [
        "test_data = prepare_data(TEST_DATA_DIR, CATEGORIES, \n",
        "                                   IMG_WIDTH, IMG_HEIGHT)"
      ],
      "execution_count": 12,
      "outputs": []
    },
    {
      "cell_type": "code",
      "metadata": {
        "id": "F5rpNsXeKbBx"
      },
      "source": [
        "random.shuffle(training_data)\n",
        "random.shuffle(test_data)"
      ],
      "execution_count": 13,
      "outputs": []
    },
    {
      "cell_type": "code",
      "metadata": {
        "id": "E9Wx2gBiKwID"
      },
      "source": [
        "val_data_size = int(len(test_data) * 0.3)\n",
        "val_data = test_data[:val_data_size]\n",
        "test_data = test_data[val_data_size:]"
      ],
      "execution_count": 14,
      "outputs": []
    },
    {
      "cell_type": "code",
      "metadata": {
        "id": "Tz6DD0iNOotN",
        "colab": {
          "base_uri": "https://localhost:8080/"
        },
        "outputId": "325f2c27-9e55-4498-d84a-ecea33b200dd"
      },
      "source": [
        "print(\"the count of test samples: \" + str(len(test_data)))\n",
        "print(\"the count of validation samples: \" + str(len(val_data)))"
      ],
      "execution_count": 16,
      "outputs": [
        {
          "output_type": "stream",
          "text": [
            "the count of test samples: 266\n",
            "the count of validation samples: 114\n"
          ],
          "name": "stdout"
        }
      ]
    },
    {
      "cell_type": "code",
      "metadata": {
        "id": "lPDK6YJ4Kz-P"
      },
      "source": [
        "X_train = []\n",
        "y_train = []\n",
        "for features, classes in training_data:\n",
        "    X_train.append(features)\n",
        "    y_train.append(classes)\n",
        "\n",
        "X_train = np.array(X_train).reshape(-1, IMG_WIDTH, IMG_HEIGHT, \n",
        "                                    NUMBER_OF_CHANNELS)\n",
        "y_train = np.array(y_train)\n",
        "y_train = tf.keras.utils.to_categorical(y_train)"
      ],
      "execution_count": 17,
      "outputs": []
    },
    {
      "cell_type": "code",
      "metadata": {
        "id": "JwkFV3FEK2RL"
      },
      "source": [
        "X_val = []\n",
        "y_val = []\n",
        "for features, classes in val_data:\n",
        "    X_val.append(features)\n",
        "    y_val.append(classes)\n",
        "\n",
        "X_val = np.array(X_val).reshape(-1, IMG_WIDTH, IMG_HEIGHT, \n",
        "                                    NUMBER_OF_CHANNELS)\n",
        "y_val = np.array(y_val)\n",
        "y_val = tf.keras.utils.to_categorical(y_val)"
      ],
      "execution_count": 18,
      "outputs": []
    },
    {
      "cell_type": "code",
      "metadata": {
        "id": "GlC11yIiK36H"
      },
      "source": [
        "X_test = []\n",
        "y_test = []\n",
        "for features, classes in test_data:\n",
        "    X_test.append(features)\n",
        "    y_test.append(classes)\n",
        "\n",
        "X_test = np.array(X_test).reshape(-1, IMG_WIDTH, IMG_HEIGHT, \n",
        "                                  NUMBER_OF_CHANNELS)\n",
        "y_test = np.array(y_test)\n",
        "\n",
        "y_test = tf.keras.utils.to_categorical(y_test)"
      ],
      "execution_count": 19,
      "outputs": []
    },
    {
      "cell_type": "code",
      "metadata": {
        "id": "EdENqUdxK5jh"
      },
      "source": [
        "from tensorflow.keras.preprocessing.image import ImageDataGenerator\n",
        "train_generator = ImageDataGenerator(\n",
        "    rescale=1./255,\n",
        "    rotation_range=40,\n",
        "    width_shift_range=0.2,\n",
        "    height_shift_range=0.2,\n",
        "    shear_range=0.2,\n",
        "    zoom_range=0.2,\n",
        "    horizontal_flip=True,\n",
        "    fill_mode=\"nearest\")\n",
        "\n",
        "test_generator = ImageDataGenerator(rescale=1./255)\n",
        "\n",
        "train_generator_no_aug = ImageDataGenerator(rescale=1./255)"
      ],
      "execution_count": 20,
      "outputs": []
    },
    {
      "cell_type": "code",
      "metadata": {
        "id": "1D5Lr0-RK93F"
      },
      "source": [
        "train_flow = train_generator.flow(\n",
        "        X_train, \n",
        "        y_train,\n",
        "      )\n",
        "\n",
        "# train_flow = train_generator.flow_from_directory(\n",
        "#         TRAIN_DATA_DIR,\n",
        "#         target_size=(IMG_HEIGHT, IMG_WIDTH),\n",
        "#         batch_size=TRAIN_BATCH_SIZE,\n",
        "#         class_mode='categorical'\n",
        "#       )"
      ],
      "execution_count": 21,
      "outputs": []
    },
    {
      "cell_type": "code",
      "metadata": {
        "id": "qOwVSPmjK__o"
      },
      "source": [
        "test_flow = test_generator.flow(\n",
        "        X_val,\n",
        "        y_val,\n",
        "      ) \n",
        "\n",
        "# test_flow = test_generator.flow_from_directory(\n",
        "#         TEST_DATA_DIR,\n",
        "#         target_size=(IMG_HEIGHT, IMG_WIDTH),\n",
        "#         batch_size=TEST_BATCH_SIZE,\n",
        "#         class_mode='categorical'\n",
        "#       ) "
      ],
      "execution_count": 24,
      "outputs": []
    },
    {
      "cell_type": "code",
      "metadata": {
        "id": "QDgJUKjrPG5u"
      },
      "source": [
        "test_gen = test_generator.flow(\n",
        "        X_test,\n",
        "        y_test,\n",
        "      ) "
      ],
      "execution_count": 30,
      "outputs": []
    },
    {
      "cell_type": "code",
      "metadata": {
        "id": "nYMuobptLBs1"
      },
      "source": [
        "model = tf.keras.models.load_model('/content/drive/MyDrive/DenseNet169.h5')"
      ],
      "execution_count": 23,
      "outputs": []
    },
    {
      "cell_type": "code",
      "metadata": {
        "id": "ScYFiCsaLKyK",
        "colab": {
          "base_uri": "https://localhost:8080/"
        },
        "outputId": "a741d1a8-ab45-4d96-d294-8d88139b6dd2"
      },
      "source": [
        "model.compile(optimizer=tf.keras.optimizers.Adam(LEARNING_RATE),\n",
        "              loss='categorical_crossentropy',\n",
        "              metrics=['accuracy'])\n",
        "\n",
        "history = model.fit(\n",
        "    train_flow,\n",
        "    # TRAIN_DATA_SIZE // TRAIN_BATCH_SIZE,\n",
        "    epochs= 10,\n",
        "    validation_data= test_flow,\n",
        "    # validation_steps= TEST_DATA_SIZE // TEST_BATCH_SIZE\n",
        "    )"
      ],
      "execution_count": 27,
      "outputs": [
        {
          "output_type": "stream",
          "text": [
            "Epoch 1/10\n",
            "17/17 [==============================] - 573s 33s/step - loss: 0.1300 - accuracy: 0.9699 - val_loss: 1.5094 - val_accuracy: 0.6053\n",
            "Epoch 2/10\n",
            "17/17 [==============================] - 551s 33s/step - loss: 0.0922 - accuracy: 0.9868 - val_loss: 1.4534 - val_accuracy: 0.5965\n",
            "Epoch 3/10\n",
            "17/17 [==============================] - 552s 32s/step - loss: 0.0695 - accuracy: 0.9868 - val_loss: 1.5092 - val_accuracy: 0.6491\n",
            "Epoch 4/10\n",
            "17/17 [==============================] - 555s 33s/step - loss: 0.0704 - accuracy: 0.9906 - val_loss: 1.6679 - val_accuracy: 0.5965\n",
            "Epoch 5/10\n",
            "17/17 [==============================] - 558s 33s/step - loss: 0.0435 - accuracy: 0.9925 - val_loss: 1.7225 - val_accuracy: 0.5965\n",
            "Epoch 6/10\n",
            "17/17 [==============================] - 554s 33s/step - loss: 0.0314 - accuracy: 0.9962 - val_loss: 1.8190 - val_accuracy: 0.5526\n",
            "Epoch 7/10\n",
            "17/17 [==============================] - 547s 32s/step - loss: 0.0354 - accuracy: 0.9944 - val_loss: 1.6301 - val_accuracy: 0.5965\n",
            "Epoch 8/10\n",
            "17/17 [==============================] - 549s 32s/step - loss: 0.0210 - accuracy: 1.0000 - val_loss: 1.5402 - val_accuracy: 0.6140\n",
            "Epoch 9/10\n",
            "17/17 [==============================] - 559s 33s/step - loss: 0.0169 - accuracy: 0.9981 - val_loss: 1.4774 - val_accuracy: 0.5965\n",
            "Epoch 10/10\n",
            "17/17 [==============================] - 550s 32s/step - loss: 0.0130 - accuracy: 1.0000 - val_loss: 1.4767 - val_accuracy: 0.5877\n"
          ],
          "name": "stdout"
        }
      ]
    },
    {
      "cell_type": "code",
      "metadata": {
        "id": "zzpDUEwqY2Mm",
        "colab": {
          "base_uri": "https://localhost:8080/",
          "height": 562
        },
        "outputId": "170eb83c-54cd-4a61-ebb6-83db69158056"
      },
      "source": [
        " acc = history.history['accuracy']\n",
        "val_acc = history.history['val_accuracy']\n",
        "\n",
        "loss = history.history['loss']\n",
        "val_loss = history.history['val_loss']\n",
        "\n",
        "epochs = range(len(acc))\n",
        "\n",
        "plt.plot(epochs, acc, label = \"training\")\n",
        "plt.plot(epochs, val_acc, label = \"validation\")\n",
        "plt.legend(loc=\"upper left\")\n",
        "plt.title('Training and validation accuracy')\n",
        "\n",
        "plt.figure()\n",
        "\n",
        "plt.plot(epochs, loss, label = \"training\")\n",
        "plt.plot(epochs, val_loss, label = \"validation\")\n",
        "plt.legend(loc=\"upper right\")\n",
        "plt.title('Training and validation loss')"
      ],
      "execution_count": 28,
      "outputs": [
        {
          "output_type": "execute_result",
          "data": {
            "text/plain": [
              "Text(0.5, 1.0, 'Training and validation loss')"
            ]
          },
          "metadata": {
            "tags": []
          },
          "execution_count": 28
        },
        {
          "output_type": "display_data",
          "data": {
            "image/png": "[encoded data removed]",
            "text/plain": [
              "<Figure size 432x288 with 1 Axes>"
            ]
          },
          "metadata": {
            "tags": [],
            "needs_background": "light"
          }
        },
        {
          "output_type": "display_data",
          "data": {
            "image/png": "[encoded data removed]",
            "text/plain": [
              "<Figure size 432x288 with 1 Axes>"
            ]
          },
          "metadata": {
            "tags": [],
            "needs_background": "light"
          }
        }
      ]
    },
    {
      "cell_type": "code",
      "metadata": {
        "id": "cUnosCtdLPRK"
      },
      "source": [
        "predictions = model.predict(X_test)\n",
        "y_pred = np.argmax(predictions, axis=1)"
      ],
      "execution_count": 32,
      "outputs": []
    },
    {
      "cell_type": "code",
      "metadata": {
        "id": "tuPYkW47YS9q",
        "colab": {
          "base_uri": "https://localhost:8080/",
          "height": 402
        },
        "outputId": "61a87e0b-eaf4-495e-800a-bff10fcbb126"
      },
      "source": [
        "from sklearn.metrics import classification_report, confusion_matrix\n",
        "\n",
        "print('Confusion Matrix')\n",
        "print(confusion_matrix(y_test, y_pred))\n",
        "\n",
        "print()\n",
        "\n",
        "print('Classification Report')\n",
        "print(classification_report(y_test, \n",
        "                            y_pred, \n",
        "                            target_names=CATEGORIES))"
      ],
      "execution_count": 33,
      "outputs": [
        {
          "output_type": "stream",
          "text": [
            "Confusion Matrix\n"
          ],
          "name": "stdout"
        },
        {
          "output_type": "error",
          "ename": "ValueError",
          "evalue": "ignored",
          "traceback": [
            "\u001b[0;31m---------------------------------------------------------------------------\u001b[0m",
            "\u001b[0;31mValueError\u001b[0m                                Traceback (most recent call last)",
            "\u001b[0;32m<ipython-input-33-e042206a9622>\u001b[0m in \u001b[0;36m<module>\u001b[0;34m()\u001b[0m\n\u001b[1;32m      2\u001b[0m \u001b[0;34m\u001b[0m\u001b[0m\n\u001b[1;32m      3\u001b[0m \u001b[0mprint\u001b[0m\u001b[0;34m(\u001b[0m\u001b[0;34m'Confusion Matrix'\u001b[0m\u001b[0;34m)\u001b[0m\u001b[0;34m\u001b[0m\u001b[0;34m\u001b[0m\u001b[0m\n\u001b[0;32m----> 4\u001b[0;31m \u001b[0mprint\u001b[0m\u001b[0;34m(\u001b[0m\u001b[0mconfusion_matrix\u001b[0m\u001b[0;34m(\u001b[0m\u001b[0my_test\u001b[0m\u001b[0;34m,\u001b[0m \u001b[0my_pred\u001b[0m\u001b[0;34m)\u001b[0m\u001b[0;34m)\u001b[0m\u001b[0;34m\u001b[0m\u001b[0;34m\u001b[0m\u001b[0m\n\u001b[0m\u001b[1;32m      5\u001b[0m \u001b[0;34m\u001b[0m\u001b[0m\n\u001b[1;32m      6\u001b[0m \u001b[0mprint\u001b[0m\u001b[0;34m(\u001b[0m\u001b[0;34m)\u001b[0m\u001b[0;34m\u001b[0m\u001b[0;34m\u001b[0m\u001b[0m\n",
            "\u001b[0;32m/usr/local/lib/python3.7/dist-packages/sklearn/metrics/_classification.py\u001b[0m in \u001b[0;36mconfusion_matrix\u001b[0;34m(y_true, y_pred, labels, sample_weight, normalize)\u001b[0m\n\u001b[1;32m    266\u001b[0m \u001b[0;34m\u001b[0m\u001b[0m\n\u001b[1;32m    267\u001b[0m     \"\"\"\n\u001b[0;32m--> 268\u001b[0;31m     \u001b[0my_type\u001b[0m\u001b[0;34m,\u001b[0m \u001b[0my_true\u001b[0m\u001b[0;34m,\u001b[0m \u001b[0my_pred\u001b[0m \u001b[0;34m=\u001b[0m \u001b[0m_check_targets\u001b[0m\u001b[0;34m(\u001b[0m\u001b[0my_true\u001b[0m\u001b[0;34m,\u001b[0m \u001b[0my_pred\u001b[0m\u001b[0;34m)\u001b[0m\u001b[0;34m\u001b[0m\u001b[0;34m\u001b[0m\u001b[0m\n\u001b[0m\u001b[1;32m    269\u001b[0m     \u001b[0;32mif\u001b[0m \u001b[0my_type\u001b[0m \u001b[0;32mnot\u001b[0m \u001b[0;32min\u001b[0m \u001b[0;34m(\u001b[0m\u001b[0;34m\"binary\"\u001b[0m\u001b[0;34m,\u001b[0m \u001b[0;34m\"multiclass\"\u001b[0m\u001b[0;34m)\u001b[0m\u001b[0;34m:\u001b[0m\u001b[0;34m\u001b[0m\u001b[0;34m\u001b[0m\u001b[0m\n\u001b[1;32m    270\u001b[0m         \u001b[0;32mraise\u001b[0m \u001b[0mValueError\u001b[0m\u001b[0;34m(\u001b[0m\u001b[0;34m\"%s is not supported\"\u001b[0m \u001b[0;34m%\u001b[0m \u001b[0my_type\u001b[0m\u001b[0;34m)\u001b[0m\u001b[0;34m\u001b[0m\u001b[0;34m\u001b[0m\u001b[0m\n",
            "\u001b[0;32m/usr/local/lib/python3.7/dist-packages/sklearn/metrics/_classification.py\u001b[0m in \u001b[0;36m_check_targets\u001b[0;34m(y_true, y_pred)\u001b[0m\n\u001b[1;32m     88\u001b[0m     \u001b[0;32mif\u001b[0m \u001b[0mlen\u001b[0m\u001b[0;34m(\u001b[0m\u001b[0my_type\u001b[0m\u001b[0;34m)\u001b[0m \u001b[0;34m>\u001b[0m \u001b[0;36m1\u001b[0m\u001b[0;34m:\u001b[0m\u001b[0;34m\u001b[0m\u001b[0;34m\u001b[0m\u001b[0m\n\u001b[1;32m     89\u001b[0m         raise ValueError(\"Classification metrics can't handle a mix of {0} \"\n\u001b[0;32m---> 90\u001b[0;31m                          \"and {1} targets\".format(type_true, type_pred))\n\u001b[0m\u001b[1;32m     91\u001b[0m \u001b[0;34m\u001b[0m\u001b[0m\n\u001b[1;32m     92\u001b[0m     \u001b[0;31m# We can't have more than one value on y_type => The set is no more needed\u001b[0m\u001b[0;34m\u001b[0m\u001b[0;34m\u001b[0m\u001b[0;34m\u001b[0m\u001b[0m\n",
            "\u001b[0;31mValueError\u001b[0m: Classification metrics can't handle a mix of multilabel-indicator and multiclass targets"
          ]
        }
      ]
    },
    {
      "cell_type": "code",
      "metadata": {
        "id": "jOc0Qw4uYtJK",
        "colab": {
          "base_uri": "https://localhost:8080/"
        },
        "outputId": "26e646a5-49e2-4083-b99f-9c0ce0cac6f9"
      },
      "source": [
        "loss_and_metrics = model.evaluate(test_gen, verbose=2)\n",
        "print(\"Test Loss\", loss_and_metrics[0])\n",
        "print(\"Test Accuracy\", loss_and_metrics[1])"
      ],
      "execution_count": 31,
      "outputs": [
        {
          "output_type": "stream",
          "text": [
            "9/9 - 47s - loss: 1.7054 - accuracy: 0.6090\n",
            "Test Loss 1.7054133415222168\n",
            "Test Accuracy 0.6090225577354431\n"
          ],
          "name": "stdout"
        }
      ]
    }
  ]
}