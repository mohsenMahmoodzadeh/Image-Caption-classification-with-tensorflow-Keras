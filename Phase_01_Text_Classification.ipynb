{
  "nbformat": 4,
  "nbformat_minor": 0,
  "metadata": {
    "colab": {
      "name": "Phase_01_Text_Classification.ipynb",
      "provenance": [],
      "collapsed_sections": [],
      "mount_file_id": "1STuQdII_pJMX3l-x6ARJdHEYb7N0JML5",
      "authorship_tag": "ABX9TyOpPN4SV8UC1J9ETdpJ/UVu",
      "include_colab_link": true
    },
    "kernelspec": {
      "name": "python3",
      "display_name": "Python 3"
    }
  },
  "cells": [
    {
      "cell_type": "markdown",
      "metadata": {
        "id": "view-in-github",
        "colab_type": "text"
      },
      "source": [
        "<a href=\"https://colab.research.google.com/github/mohsenMahmoodzadeh/Image-Caption-classification-with-tensorflow-Keras/blob/master/Phase_01_Text_Classification.ipynb\" target=\"_parent\"><img src=\"https://colab.research.google.com/assets/colab-badge.svg\" alt=\"Open In Colab\"/></a>"
      ]
    },
    {
      "cell_type": "code",
      "metadata": {
        "id": "fKXLauYtirZc"
      },
      "source": [
        "# !pip install -U tensorflow-text\n",
        "# !pip install tf-models-official\n",
        "# !pip install tokenization\n",
        "# !pip install tf-nightly"
      ],
      "execution_count": null,
      "outputs": []
    },
    {
      "cell_type": "code",
      "metadata": {
        "colab": {
          "base_uri": "https://localhost:8080/"
        },
        "id": "olAUeBAWg-MQ",
        "outputId": "3b5f6ff6-d521-4368-d4c8-7f0a48fe5234"
      },
      "source": [
        "from google.colab import drive\n",
        "drive.mount('/content/drive')"
      ],
      "execution_count": 1,
      "outputs": [
        {
          "output_type": "stream",
          "name": "stdout",
          "text": [
            "Mounted at /content/drive\n"
          ]
        }
      ]
    },
    {
      "cell_type": "markdown",
      "metadata": {
        "id": "wDg-HnzJZDW_"
      },
      "source": [
        "## Import Libraries"
      ]
    },
    {
      "cell_type": "code",
      "metadata": {
        "id": "oKcYXY-YF7ZS"
      },
      "source": [
        "import os\n",
        "import shutil\n",
        "\n",
        "import tensorflow as tf\n",
        "import numpy as np\n",
        "# import tensorflow_hub as hub\n",
        "# import tensorflow_text as text\n",
        "# import tokenization\n",
        "# from official.nlp import optimization  # to create AdamW optimizer\n",
        "import gensim\n",
        "import matplotlib.pyplot as plt\n",
        "\n",
        "tf.get_logger().setLevel('ERROR')"
      ],
      "execution_count": 2,
      "outputs": []
    },
    {
      "cell_type": "markdown",
      "metadata": {
        "id": "5oh3d7MHZWji"
      },
      "source": [
        "## Import Datasets"
      ]
    },
    {
      "cell_type": "code",
      "metadata": {
        "id": "OOA7Bs3RsQcy"
      },
      "source": [
        "label_map = {\n",
        "    0 : 'aeroplane', 1 : 'bicycle', 2 : 'bird', 3 : 'boat', \n",
        "    4 : 'bus', 5 : 'car', 6 : 'cat', 7 : 'chair', 8 : 'cow',\n",
        "    9 : 'diningtable', 10 : 'dog', 11 : 'horse', 12 : 'motorbike',\n",
        "    13 : 'person', 14 : 'pottedplant', 15 : 'sheep', 16 : 'sofa',\n",
        "    17 : 'train', 18 : 'tvmonitor'\n",
        "  }"
      ],
      "execution_count": 3,
      "outputs": []
    },
    {
      "cell_type": "code",
      "metadata": {
        "id": "qLRIsJDOsSo1"
      },
      "source": [
        "CATEGORIES = list(label_map.values())"
      ],
      "execution_count": 4,
      "outputs": []
    },
    {
      "cell_type": "code",
      "metadata": {
        "id": "pVH4xDDdg1S1"
      },
      "source": [
        "TRAIN_DATA_DIR = \"/content/drive/MyDrive/dataset/train/sentences/\"\n",
        "TEST_DATA_DIR = \"/content/drive/MyDrive/dataset/test/sentences/\"\n",
        "CATEGORIES = [\"aeroplane\", \"bicycle\", \"bird\", \"boat\", \"bus\", \"car\", \"cat\", \"chair\", \"cow\", \"diningtable\", \"dog\", \"horse\", \n",
        "              \"motorbike\", \"person\", \"pottedplant\", \"sheep\",\"sofa\", \"train\", \"tvmonitor\"]"
      ],
      "execution_count": 5,
      "outputs": []
    },
    {
      "cell_type": "code",
      "source": [
        "def read_file(filename):\n",
        "    f = open(filename, 'r')\n",
        "    lines = f.readlines()\n",
        "    return lines"
      ],
      "metadata": {
        "id": "AsO264uChCxe"
      },
      "execution_count": null,
      "outputs": []
    },
    {
      "cell_type": "code",
      "source": [
        "def prepare_train_data(TRAIN_DATA_DIR, CATEGORIES):\n",
        "    train_data = []\n",
        "    path = \"\"\n",
        "    for category in CATEGORIES:\n",
        "        temp = []\n",
        "        path = os.path.join(TRAIN_DATA_DIR, category)\n",
        "        class_num = CATEGORIES.index(category)\n",
        "        for filename in os.listdir(path):\n",
        "            file_path = os.path.join(path, filename)\n",
        "            try:\n",
        "                lines = read_file(file_path)\n",
        "                for line in lines:\n",
        "                    temp.append(line)\n",
        "\n",
        "            except Exception as e:\n",
        "                print(str(e))\n",
        "        \n",
        "        for line in temp:\n",
        "            train_data.append((line, class_num))\n",
        "    \n",
        "    return train_data"
      ],
      "metadata": {
        "id": "cICXRAVwhDht"
      },
      "execution_count": null,
      "outputs": []
    },
    {
      "cell_type": "code",
      "source": [
        "def prepare_test_data(TEST_DATA_DIR, CATEGORIES):\n",
        "    test_data = []\n",
        "    path = \"\"\n",
        "    for category in CATEGORIES:\n",
        "        temp = []\n",
        "        path = os.path.join(TRAIN_DATA_DIR, category)\n",
        "        class_num = CATEGORIES.index(category)\n",
        "        for filename in os.listdir(path):\n",
        "            file_path = os.path.join(path, filename)\n",
        "            file = file_path\n",
        "            try:\n",
        "                lines = read_file(file)\n",
        "                for line in lines:\n",
        "                    temp.append(line)\n",
        "\n",
        "            except Exception as e:\n",
        "                print(str(e))\n",
        "        \n",
        "        for line in temp:\n",
        "            test_data.append((line, class_num))\n",
        "    return test_data"
      ],
      "metadata": {
        "id": "hYy5GPUYhG9I"
      },
      "execution_count": null,
      "outputs": []
    },
    {
      "cell_type": "code",
      "source": [
        "train_data = prepare_train_data(TRAIN_DATA_DIR, CATEGORIES)"
      ],
      "metadata": {
        "id": "XxmVidr7hKkc"
      },
      "execution_count": null,
      "outputs": []
    },
    {
      "cell_type": "code",
      "source": [
        "test_data = prepare_test_data(TEST_DATA_DIR, CATEGORIES)"
      ],
      "metadata": {
        "id": "L3bbti5ghjE9"
      },
      "execution_count": null,
      "outputs": []
    },
    {
      "cell_type": "code",
      "source": [
        "data = train_data + test_data"
      ],
      "metadata": {
        "id": "9fOOk71lhsTg"
      },
      "execution_count": null,
      "outputs": []
    },
    {
      "cell_type": "code",
      "source": [
        "X = []\n",
        "y = []\n",
        "for i, sample in enumerate(data):\n",
        "  X.append(sample[0])\n",
        "  y.append(sample[1])"
      ],
      "metadata": {
        "id": "nF78_sJghvdY"
      },
      "execution_count": null,
      "outputs": []
    },
    {
      "cell_type": "code",
      "source": [
        "import nltk\n",
        "nltk.download('punkt')\n",
        "nltk.download('stopwords')\n",
        "from nltk.tokenize import word_tokenize\n",
        "from nltk.corpus import stopwords\n",
        "import string\n",
        "\n",
        "sentences = []\n",
        "\n",
        "for sentence in X:\n",
        "  tokens = word_tokenize(sentence)\n",
        "  tokens = [w.lower() for w in tokens]\n",
        "  table = str.maketrans('', '', string.punctuation)\n",
        "  stripped = [w.translate(table) for w in tokens]\n",
        "  words = [word for word in stripped if word.isalpha()]\n",
        "  stop_words = set(stopwords.words('english'))\n",
        "  words = [w for w in words if not w in stop_words]\n",
        "  sentences.append(words)"
      ],
      "metadata": {
        "colab": {
          "base_uri": "https://localhost:8080/"
        },
        "id": "hlfZybQCigXz",
        "outputId": "5253b9c3-c9e0-4cca-e7de-bec5477b1718"
      },
      "execution_count": null,
      "outputs": [
        {
          "output_type": "stream",
          "name": "stdout",
          "text": [
            "[nltk_data] Downloading package punkt to /root/nltk_data...\n",
            "[nltk_data]   Package punkt is already up-to-date!\n",
            "[nltk_data] Downloading package stopwords to /root/nltk_data...\n",
            "[nltk_data]   Package stopwords is already up-to-date!\n"
          ]
        }
      ]
    },
    {
      "cell_type": "code",
      "source": [
        "import gensim\n",
        "w2v_model = gensim.models.Word2Vec(sentences=sentences, size = 128, window= 5, workers=4, min_count= 1)\n",
        "\n",
        "words = list(w2v_model.wv.vocab)\n",
        "print(\"Vocabulary size: \" + str(len(words)))"
      ],
      "metadata": {
        "colab": {
          "base_uri": "https://localhost:8080/"
        },
        "id": "wV0K36Qjkedj",
        "outputId": "5f585353-6298-44e1-a9a6-a7fca69201c8"
      },
      "execution_count": null,
      "outputs": [
        {
          "output_type": "stream",
          "name": "stdout",
          "text": [
            "Vocabulary size: 2279\n"
          ]
        }
      ]
    },
    {
      "cell_type": "code",
      "source": [
        "filename = 'w2v_embedding.txt'\n",
        "w2v_model.wv.save_word2vec_format(filename, binary=False)"
      ],
      "metadata": {
        "id": "262hhgO0lvzh"
      },
      "execution_count": null,
      "outputs": []
    },
    {
      "cell_type": "code",
      "source": [
        "embeddings_index = {}\n",
        "f = open(os.path.join('', 'w2v_embedding.txt'), encoding='utf-8')\n",
        "for line in f:\n",
        "  values = line.split()\n",
        "  word = values[0]\n",
        "  coefs = np.asarray(values[1:])\n",
        "  embeddings_index[word] = coefs\n",
        "f.close()"
      ],
      "metadata": {
        "id": "yeVRV8qAnvou"
      },
      "execution_count": null,
      "outputs": []
    },
    {
      "cell_type": "code",
      "source": [
        "from tensorflow.python.keras.preprocessing.text import Tokenizer\n",
        "from tensorflow.python.keras.preprocessing.sequence import pad_sequences\n",
        "tokenizer = Tokenizer()\n",
        "tokenizer.fit_on_texts(sentences)\n",
        "sequences = tokenizer.texts_to_sequences(sentences)\n",
        "\n",
        "word_index = tokenizer.word_index\n",
        "# padded_sequences = pad_sequences(sequences)"
      ],
      "metadata": {
        "id": "DoMtamEpoZ3b"
      },
      "execution_count": null,
      "outputs": []
    },
    {
      "cell_type": "code",
      "source": [
        "num_words = len(word_index) + 1\n",
        "embedding_matrix = np.zeros((num_words, 128))\n",
        "\n",
        "for word, i in word_index.items():\n",
        "  if i > num_words:\n",
        "    continue\n",
        "  embedding_vector = embeddings_index.get(word)\n",
        "  if embedding_vector is not None:\n",
        "    embedding_matrix[i] = embedding_vector"
      ],
      "metadata": {
        "id": "_f1Wh4zcqwvn"
      },
      "execution_count": null,
      "outputs": []
    },
    {
      "cell_type": "code",
      "source": [
        "print(num_words)"
      ],
      "metadata": {
        "colab": {
          "base_uri": "https://localhost:8080/"
        },
        "id": "3tqro_CQrbg4",
        "outputId": "ef80c813-4e60-480b-a565-d6d97490f642"
      },
      "execution_count": null,
      "outputs": [
        {
          "output_type": "stream",
          "name": "stdout",
          "text": [
            "2280\n"
          ]
        }
      ]
    },
    {
      "cell_type": "code",
      "source": [
        ""
      ],
      "metadata": {
        "id": "d5TdPnBqrdMv"
      },
      "execution_count": null,
      "outputs": []
    },
    {
      "cell_type": "code",
      "metadata": {
        "id": "tTI4GIlqDqjb"
      },
      "source": [
        "batch_size = 32\n",
        "AUTOTUNE = tf.data.AUTOTUNE\n",
        "seed = 1337"
      ],
      "execution_count": 7,
      "outputs": []
    },
    {
      "cell_type": "code",
      "metadata": {
        "id": "ds7U72yJsVJD",
        "colab": {
          "base_uri": "https://localhost:8080/"
        },
        "outputId": "82671022-1752-47d5-b03d-01e56fbff7ee"
      },
      "source": [
        "raw_train_ds = tf.keras.preprocessing.text_dataset_from_directory(\n",
        "    TRAIN_DATA_DIR,\n",
        "    batch_size = batch_size,\n",
        "    label_mode=\"categorical\",\n",
        "    validation_split=0.2,\n",
        "    subset='training',\n",
        "    seed= seed \n",
        ")"
      ],
      "execution_count": 8,
      "outputs": [
        {
          "output_type": "stream",
          "name": "stdout",
          "text": [
            "Found 532 files belonging to 19 classes.\n",
            "Using 426 files for training.\n"
          ]
        }
      ]
    },
    {
      "cell_type": "code",
      "metadata": {
        "id": "ArHI4lydsYG3",
        "colab": {
          "base_uri": "https://localhost:8080/"
        },
        "outputId": "fef88fb4-0a75-49bc-9f07-be71ca45609b"
      },
      "source": [
        "raw_val_ds = tf.keras.preprocessing.text_dataset_from_directory(\n",
        "    TRAIN_DATA_DIR,\n",
        "    batch_size = batch_size,\n",
        "    label_mode=\"categorical\",\n",
        "    validation_split=0.2,\n",
        "    subset='validation',\n",
        "    seed= seed \n",
        ")"
      ],
      "execution_count": 9,
      "outputs": [
        {
          "output_type": "stream",
          "name": "stdout",
          "text": [
            "Found 532 files belonging to 19 classes.\n",
            "Using 106 files for validation.\n"
          ]
        }
      ]
    },
    {
      "cell_type": "code",
      "metadata": {
        "id": "U2b9uhWIsa7K",
        "colab": {
          "base_uri": "https://localhost:8080/"
        },
        "outputId": "e00e8dc3-5143-4ede-a1f4-f60ce775deac"
      },
      "source": [
        "raw_test_ds = tf.keras.preprocessing.text_dataset_from_directory(\n",
        "    TEST_DATA_DIR,\n",
        "    batch_size=batch_size,\n",
        "    label_mode=\"categorical\"\n",
        ")"
      ],
      "execution_count": 10,
      "outputs": [
        {
          "output_type": "stream",
          "name": "stdout",
          "text": [
            "Found 380 files belonging to 19 classes.\n"
          ]
        }
      ]
    },
    {
      "cell_type": "code",
      "source": [
        "print(f\"Number of batches in raw_train_ds: {raw_train_ds.cardinality()}\")\n",
        "print(f\"Number of batches in raw_val_ds: {raw_val_ds.cardinality()}\")\n",
        "print(f\"Number of batches in raw_test_ds: {raw_test_ds.cardinality()}\")"
      ],
      "metadata": {
        "colab": {
          "base_uri": "https://localhost:8080/"
        },
        "id": "65pqci2363_B",
        "outputId": "b8a1b1ee-66ed-4c12-d830-234176374a04"
      },
      "execution_count": 11,
      "outputs": [
        {
          "output_type": "stream",
          "name": "stdout",
          "text": [
            "Number of batches in raw_train_ds: 14\n",
            "Number of batches in raw_val_ds: 4\n",
            "Number of batches in raw_test_ds: 12\n"
          ]
        }
      ]
    },
    {
      "cell_type": "code",
      "source": [
        "from tensorflow.keras.layers import TextVectorization\n",
        "import string\n",
        "import re\n",
        "\n",
        "def custom_standardization(input_data):\n",
        "    lowercase = tf.strings.lower(input_data)\n",
        "    stripped_html = tf.strings.regex_replace(lowercase, \"<br />\", \" \")\n",
        "    return tf.strings.regex_replace(\n",
        "        stripped_html, f\"[{re.escape(string.punctuation)}]\", \"\"\n",
        "    )\n",
        "\n",
        "max_features = None\n",
        "embedding_dim = 128\n",
        "sequence_length = 256\n",
        "\n",
        "vectorize_layer = TextVectorization(\n",
        "    standardize=custom_standardization,\n",
        "    # max_tokens=max_features,\n",
        "    output_mode=\"int\",\n",
        "    output_sequence_length=sequence_length,\n",
        ")"
      ],
      "metadata": {
        "id": "NeBnJwkz7CKZ"
      },
      "execution_count": 12,
      "outputs": []
    },
    {
      "cell_type": "code",
      "source": [
        "text_ds = raw_train_ds.map(lambda x, y: x)\n",
        "vectorize_layer.adapt(text_ds)"
      ],
      "metadata": {
        "id": "YQZ60mVR7mE4"
      },
      "execution_count": 13,
      "outputs": []
    },
    {
      "cell_type": "code",
      "source": [
        "max_features = vectorize_layer.vocabulary_size()"
      ],
      "metadata": {
        "id": "tfHwoSjDAw3r"
      },
      "execution_count": 14,
      "outputs": []
    },
    {
      "cell_type": "code",
      "source": [
        "def vectorize_text(text, label):\n",
        "    text = tf.expand_dims(text, -1)\n",
        "    return vectorize_layer(text), label\n",
        "\n",
        "train_ds = raw_train_ds.map(vectorize_text)\n",
        "val_ds = raw_val_ds.map(vectorize_text)\n",
        "test_ds = raw_test_ds.map(vectorize_text)\n",
        "\n",
        "train_ds = train_ds.cache().prefetch(buffer_size=10)\n",
        "val_ds = val_ds.cache().prefetch(buffer_size=10)\n",
        "test_ds = test_ds.cache().prefetch(buffer_size=10)"
      ],
      "metadata": {
        "id": "YAFcIQUZ8M6b"
      },
      "execution_count": 15,
      "outputs": []
    },
    {
      "cell_type": "code",
      "source": [
        "train = list(train_ds)\n",
        "print(train[0][0])"
      ],
      "metadata": {
        "colab": {
          "base_uri": "https://localhost:8080/"
        },
        "id": "xhuAg2a0exhS",
        "outputId": "ac3ab384-b263-4543-beee-8c6f3fee68df"
      },
      "execution_count": 16,
      "outputs": [
        {
          "output_type": "stream",
          "name": "stdout",
          "text": [
            "tf.Tensor(\n",
            "[[   2 1779   28 ...    0    0    0]\n",
            " [   2  200   44 ...    0    0    0]\n",
            " [   2 1974  325 ...    0    0    0]\n",
            " ...\n",
            " [   2   14    5 ...    0    0    0]\n",
            " [   2   13    6 ...    0    0    0]\n",
            " [   2  730  116 ...    0    0    0]], shape=(32, 256), dtype=int64)\n"
          ]
        }
      ]
    },
    {
      "cell_type": "code",
      "source": [
        "def create_model(max_features, embedding_dim):\n",
        "    \n",
        "    num_classes = 19\n",
        "    \n",
        "    inputs = tf.keras.Input(shape=(None,), dtype=\"int64\")\n",
        "\n",
        "    x = tf.keras.layers.Embedding(max_features, embedding_dim)(inputs)\n",
        "    x = tf.keras.layers.SpatialDropout1D(0.5)(x)\n",
        "    # x = tf.keras.layers.LSTM(64)(x)\n",
        "    x = tf.keras.layers.Dense(256, activation=\"leaky_relu\")(x)\n",
        "    x = tf.keras.layers.BatchNormalization()(x)\n",
        "    # x = tf.keras.layers.Dropout(0.5)(x)\n",
        "\n",
        "    x = tf.keras.layers.Conv1D(128, 7, padding=\"valid\", activation=\"relu\", strides=3)(x)\n",
        "    x = tf.keras.layers.BatchNormalization()(x)\n",
        "    x = tf.keras.layers.Conv1D(128, 7, padding=\"valid\", activation=\"relu\", strides=3)(x)\n",
        "    x = tf.keras.layers.BatchNormalization()(x)\n",
        "    x = tf.keras.layers.GlobalMaxPooling1D()(x)\n",
        "\n",
        "    x = tf.keras.layers.Dense(128, activation=\"relu\")(x)\n",
        "    x = tf.keras.layers.BatchNormalization()(x)\n",
        "    # x = tf.keras.layers.Dropout(0.5)(x)\n",
        "\n",
        "    predictions = tf.keras.layers.Dense(num_classes, activation=\"softmax\", name=\"predictions\")(x)\n",
        "\n",
        "    model = tf.keras.Model(inputs, predictions)\n",
        "    return model"
      ],
      "metadata": {
        "id": "S83_eEdSA9y7"
      },
      "execution_count": 17,
      "outputs": []
    },
    {
      "cell_type": "code",
      "source": [
        "from keras.initializers import Constant\n",
        "num_classes = 19\n",
        "    \n",
        "inputs = tf.keras.Input(shape=(None,), dtype=\"int64\")\n",
        "x = tf.keras.layers.Embedding(max_features, embedding_dim)(inputs)\n",
        "x = tf.keras.layers.Bidirectional(tf.keras.layers.LSTM(128, return_sequences=True, dropout=0.1,\n",
        "                                                      recurrent_dropout=0.1))(x)\n",
        "x = tf.keras.layers.Conv1D(64, kernel_size=3, padding=\"valid\", kernel_initializer=\"glorot_uniform\")(x)\n",
        "x = tf.keras.layers.BatchNormalization()(x)\n",
        "x = tf.keras.layers.Conv1D(32, kernel_size=3, padding=\"valid\", kernel_initializer=\"glorot_uniform\")(x)\n",
        "x = tf.keras.layers.BatchNormalization()(x)\n",
        "# avg_pool = tf.keras.layers.GlobalAveragePooling1D()(x)\n",
        "# max_pool = tf.keras.layers.GlobalMaxPooling1D()(x)\n",
        "# x = tf.keras.layers.concatenate([avg_pool, max_pool])\n",
        "\n",
        "x = tf.keras.layers.GlobalMaxPooling1D()(x)\n",
        "\n",
        "preds = tf.keras.layers.Dense(19, activation=\"softmax\")(x)\n",
        "\n",
        "model = tf.keras.Model(inputs, preds)\n",
        "\n",
        "# filters = 128\n",
        "# kernel_size = 7\n",
        "# lstm_units = 5\n",
        "# model = tf.keras.models.Sequential()\n",
        "# model.add(tf.keras.layers.Embedding(max_features, embedding_dim))\n",
        "# # model.add(tf.keras.layers.SpatialDropout1D(0.5))\n",
        "# model.add(tf.keras.layers.Conv1D(filters, kernel_size=kernel_size,kernel_regularizer=tf.keras.regularizers.l2(0.00001), padding='same'))\n",
        "# model.add(tf.keras.layers.LeakyReLU(alpha=0.2))\n",
        "# model.add(tf.keras.layers.MaxPooling1D(pool_size=2))\n",
        "# model.add(tf.keras.layers.Bidirectional(tf.keras.layers.LSTM(lstm_units,dropout=0.5, recurrent_dropout=0.5,return_sequences=True)))\n",
        "# # model.add(tf.keras.layers.SpatialDropout1D(0.5))\n",
        "# model.add(tf.keras.layers.Conv1D(filters, kernel_size=kernel_size,kernel_regularizer=tf.keras.regularizers.l2(0.00001), padding='same'))\n",
        "# model.add(tf.keras.layers.LeakyReLU(alpha=0.2))\n",
        "# model.add(tf.keras.layers.MaxPooling1D(pool_size=2))\n",
        "# model.add(tf.keras.layers.Bidirectional(tf.keras.layers.LSTM(lstm_units,dropout=0.5, recurrent_dropout=0.5,return_sequences=True)))\n",
        "# # model.add(tf.keras.layers.SpatialDropout1D(0.5))\n",
        "# model.add(tf.keras.layers.Conv1D(filters, kernel_size=kernel_size,kernel_regularizer=tf.keras.regularizers.l2(0.00001), padding='same'))\n",
        "# model.add(tf.keras.layers.LeakyReLU(alpha=0.2))\n",
        "# model.add(tf.keras.layers.MaxPooling1D(pool_size=2))\n",
        "# model.add(tf.keras.layers.Bidirectional(tf.keras.layers.LSTM(lstm_units,dropout=0.5, recurrent_dropout=0.5)))\n",
        "# model.add(tf.keras.layers.Dense(19,activation='softmax'))"
      ],
      "metadata": {
        "id": "JGaQAF88Xwf_"
      },
      "execution_count": 21,
      "outputs": []
    },
    {
      "cell_type": "code",
      "source": [
        "# model = create_model(max_features, embedding_dim)\n",
        "model.compile(optimizer='adam',\n",
        "                loss='categorical_crossentropy',\n",
        "                metrics=['accuracy'])"
      ],
      "metadata": {
        "id": "FS_LW1ThBfiK"
      },
      "execution_count": 22,
      "outputs": []
    },
    {
      "cell_type": "code",
      "source": [
        "epochs = 30\n",
        "es = tf.keras.callbacks.EarlyStopping(patience=2)\n",
        "history = model.fit(train_ds, \n",
        "          validation_data= val_ds, \n",
        "          callbacks= [es],\n",
        "          epochs= epochs)"
      ],
      "metadata": {
        "colab": {
          "base_uri": "https://localhost:8080/"
        },
        "id": "kKcwhaZj8b1n",
        "outputId": "b51c198f-b0ae-4e9f-ae8e-4d5b7bf8b6c4"
      },
      "execution_count": 23,
      "outputs": [
        {
          "output_type": "stream",
          "name": "stdout",
          "text": [
            "Epoch 1/30\n",
            "14/14 [==============================] - 30s 2s/step - loss: 3.8560 - accuracy: 0.0822 - val_loss: 2.9347 - val_accuracy: 0.0943\n",
            "Epoch 2/30\n",
            "14/14 [==============================] - 24s 2s/step - loss: 2.9388 - accuracy: 0.1362 - val_loss: 2.9268 - val_accuracy: 0.0755\n",
            "Epoch 3/30\n",
            "14/14 [==============================] - 24s 2s/step - loss: 2.4143 - accuracy: 0.3122 - val_loss: 2.9142 - val_accuracy: 0.1132\n",
            "Epoch 4/30\n",
            "14/14 [==============================] - 24s 2s/step - loss: 1.6568 - accuracy: 0.6056 - val_loss: 2.9043 - val_accuracy: 0.1698\n",
            "Epoch 5/30\n",
            "14/14 [==============================] - 24s 2s/step - loss: 0.8043 - accuracy: 0.8779 - val_loss: 2.8939 - val_accuracy: 0.1509\n",
            "Epoch 6/30\n",
            "14/14 [==============================] - 24s 2s/step - loss: 0.3316 - accuracy: 0.9718 - val_loss: 2.8915 - val_accuracy: 0.0660\n",
            "Epoch 7/30\n",
            "14/14 [==============================] - 24s 2s/step - loss: 0.1523 - accuracy: 1.0000 - val_loss: 2.8848 - val_accuracy: 0.0566\n",
            "Epoch 8/30\n",
            "14/14 [==============================] - 24s 2s/step - loss: 0.0766 - accuracy: 1.0000 - val_loss: 2.8703 - val_accuracy: 0.0566\n",
            "Epoch 9/30\n",
            "14/14 [==============================] - 24s 2s/step - loss: 0.0481 - accuracy: 1.0000 - val_loss: 2.8583 - val_accuracy: 0.0943\n",
            "Epoch 10/30\n",
            "14/14 [==============================] - 23s 2s/step - loss: 0.0339 - accuracy: 1.0000 - val_loss: 2.8449 - val_accuracy: 0.1415\n",
            "Epoch 11/30\n",
            "14/14 [==============================] - 24s 2s/step - loss: 0.0261 - accuracy: 1.0000 - val_loss: 2.8306 - val_accuracy: 0.1604\n",
            "Epoch 12/30\n",
            "14/14 [==============================] - 24s 2s/step - loss: 0.0213 - accuracy: 1.0000 - val_loss: 2.8125 - val_accuracy: 0.2075\n",
            "Epoch 13/30\n",
            "14/14 [==============================] - 24s 2s/step - loss: 0.0180 - accuracy: 1.0000 - val_loss: 2.7940 - val_accuracy: 0.2170\n",
            "Epoch 14/30\n",
            "14/14 [==============================] - 24s 2s/step - loss: 0.0152 - accuracy: 1.0000 - val_loss: 2.7722 - val_accuracy: 0.2642\n",
            "Epoch 15/30\n",
            "14/14 [==============================] - 24s 2s/step - loss: 0.0133 - accuracy: 1.0000 - val_loss: 2.7488 - val_accuracy: 0.2736\n",
            "Epoch 16/30\n",
            "14/14 [==============================] - 24s 2s/step - loss: 0.0122 - accuracy: 1.0000 - val_loss: 2.7228 - val_accuracy: 0.3491\n",
            "Epoch 17/30\n",
            "14/14 [==============================] - 24s 2s/step - loss: 0.0106 - accuracy: 1.0000 - val_loss: 2.6938 - val_accuracy: 0.3868\n",
            "Epoch 18/30\n",
            "14/14 [==============================] - 24s 2s/step - loss: 0.0094 - accuracy: 1.0000 - val_loss: 2.6634 - val_accuracy: 0.4245\n",
            "Epoch 19/30\n",
            "14/14 [==============================] - 24s 2s/step - loss: 0.0086 - accuracy: 1.0000 - val_loss: 2.6298 - val_accuracy: 0.4717\n",
            "Epoch 20/30\n",
            "14/14 [==============================] - 24s 2s/step - loss: 0.0076 - accuracy: 1.0000 - val_loss: 2.5941 - val_accuracy: 0.5000\n",
            "Epoch 21/30\n",
            "14/14 [==============================] - 24s 2s/step - loss: 0.0066 - accuracy: 1.0000 - val_loss: 2.5540 - val_accuracy: 0.5189\n",
            "Epoch 22/30\n",
            "14/14 [==============================] - 24s 2s/step - loss: 0.0065 - accuracy: 1.0000 - val_loss: 2.5128 - val_accuracy: 0.5283\n",
            "Epoch 23/30\n",
            "14/14 [==============================] - 24s 2s/step - loss: 0.0058 - accuracy: 1.0000 - val_loss: 2.4679 - val_accuracy: 0.5283\n",
            "Epoch 24/30\n",
            "14/14 [==============================] - 24s 2s/step - loss: 0.0054 - accuracy: 1.0000 - val_loss: 2.4209 - val_accuracy: 0.5566\n",
            "Epoch 25/30\n",
            "14/14 [==============================] - 24s 2s/step - loss: 0.0048 - accuracy: 1.0000 - val_loss: 2.3706 - val_accuracy: 0.5566\n",
            "Epoch 26/30\n",
            "14/14 [==============================] - 24s 2s/step - loss: 0.0046 - accuracy: 1.0000 - val_loss: 2.3204 - val_accuracy: 0.5755\n",
            "Epoch 27/30\n",
            "14/14 [==============================] - 24s 2s/step - loss: 0.0042 - accuracy: 1.0000 - val_loss: 2.2652 - val_accuracy: 0.5849\n",
            "Epoch 28/30\n",
            "14/14 [==============================] - 24s 2s/step - loss: 0.0041 - accuracy: 1.0000 - val_loss: 2.2081 - val_accuracy: 0.5849\n",
            "Epoch 29/30\n",
            "14/14 [==============================] - 24s 2s/step - loss: 0.0037 - accuracy: 1.0000 - val_loss: 2.1480 - val_accuracy: 0.5943\n",
            "Epoch 30/30\n",
            "14/14 [==============================] - 24s 2s/step - loss: 0.0036 - accuracy: 1.0000 - val_loss: 2.0873 - val_accuracy: 0.5943\n"
          ]
        }
      ]
    },
    {
      "cell_type": "code",
      "source": [
        "model.evaluate(test_ds)"
      ],
      "metadata": {
        "colab": {
          "base_uri": "https://localhost:8080/"
        },
        "id": "iuChAYtI8jER",
        "outputId": "fb9795ce-c83e-4574-89ff-722383a28ef0"
      },
      "execution_count": 24,
      "outputs": [
        {
          "output_type": "stream",
          "name": "stdout",
          "text": [
            "12/12 [==============================] - 44s 1s/step - loss: 2.0640 - accuracy: 0.6658\n"
          ]
        },
        {
          "output_type": "execute_result",
          "data": {
            "text/plain": [
              "[2.0640249252319336, 0.6657894849777222]"
            ]
          },
          "metadata": {},
          "execution_count": 24
        }
      ]
    },
    {
      "cell_type": "code",
      "metadata": {
        "id": "mxko9hOcs4VJ"
      },
      "source": [
        "# max_features = None\n",
        "# embedding_dim = 128\n",
        "# sequence_length = 500"
      ],
      "execution_count": null,
      "outputs": []
    },
    {
      "cell_type": "code",
      "metadata": {
        "id": "J73kvZqFsg-5"
      },
      "source": [
        "# vectorization_layer = \\\n",
        "#         tf.keras.layers.experimental.preprocessing.TextVectorization(\n",
        "# #             max_tokens = max_features,\n",
        "#             output_mode = \"int\",\n",
        "#             output_sequence_length = sequence_length,\n",
        "#         )"
      ],
      "execution_count": null,
      "outputs": []
    },
    {
      "cell_type": "code",
      "metadata": {
        "id": "U3U2mE9eT5rm"
      },
      "source": [
        "# text_ds = raw_train_ds.map(lambda x, y: x)\n",
        "# vectorization_layer.adapt(text_ds)"
      ],
      "execution_count": null,
      "outputs": []
    },
    {
      "cell_type": "code",
      "metadata": {
        "id": "e-EQzDmktDgw"
      },
      "source": [
        "# max_features = vectorization_layer.vocabulary_size()"
      ],
      "execution_count": null,
      "outputs": []
    },
    {
      "cell_type": "code",
      "metadata": {
        "id": "H12xqoiUUEs9"
      },
      "source": [
        "# def vectorize_text(text, label):\n",
        "#     text = tf.expand_dims(text, -1)\n",
        "#     return vectorization_layer(text), label"
      ],
      "execution_count": null,
      "outputs": []
    },
    {
      "cell_type": "code",
      "metadata": {
        "id": "7kZhbxwStGWR"
      },
      "source": [
        "# train_ds = raw_train_ds.map(vectorize_text)\n",
        "# val_ds = raw_val_ds.map(vectorize_text)\n",
        "# test_ds = raw_test_ds.map(vectorize_text)"
      ],
      "execution_count": null,
      "outputs": []
    },
    {
      "cell_type": "code",
      "metadata": {
        "id": "YxmoAB1KJJS7"
      },
      "source": [
        "# # module_url = 'https://tfhub.dev/tensorflow/bert_en_uncased_L-12_H-768_A-12/3'\n",
        "# bert_model_name = 'bert_en_uncased_L-12_H-768_A-12' \n",
        "\n",
        "# map_name_to_handle = {\n",
        "#     'bert_en_uncased_L-12_H-768_A-12':\n",
        "#         'https://tfhub.dev/tensorflow/bert_en_uncased_L-12_H-768_A-12/3',\n",
        "#   }\n",
        "\n",
        "# map_model_to_preprocess = {\n",
        "#     'bert_en_uncased_L-12_H-768_A-12':\n",
        "#         'https://tfhub.dev/tensorflow/bert_en_uncased_preprocess/3',\n",
        "#   }\n",
        "\n",
        "# tfhub_handle_encoder = map_name_to_handle[bert_model_name]\n",
        "# tfhub_handle_preprocess = map_model_to_preprocess[bert_model_name]"
      ],
      "execution_count": null,
      "outputs": []
    },
    {
      "cell_type": "markdown",
      "metadata": {
        "id": "go-yZF7IZ8w1"
      },
      "source": [
        "Due to lack of data, we use ***Data Augmentation***.\n",
        "\n",
        "Now Let's build a preprocessor for our data! we do it by using ***imgaug*** library. it helps us to build a custom preprocessor.\n",
        "As show below, we use some transformation such as rotation, shear, Affine and some filters e.g. Flip and Gussian blur on our training data to be more robust and suitable.\n",
        "\n",
        "In augment() function, we apply our custom preprocessor on a single image using *`preprocess_input`* method of DenseNet class."
      ]
    },
    {
      "cell_type": "code",
      "metadata": {
        "id": "EkLliBRbsjeM"
      },
      "source": [
        "# def build_classifier_model():\n",
        "#   text_input = tf.keras.layers.Input(shape=(), dtype=tf.string, name='text')\n",
        "#   preprocessing_layer = hub.KerasLayer(tfhub_handle_preprocess, name='preprocessing')\n",
        "#   encoder_inputs = preprocessing_layer(text_input)\n",
        "#   encoder = hub.KerasLayer(tfhub_handle_encoder, trainable=True, name='BERT_encoder')\n",
        "#   outputs = encoder(encoder_inputs)\n",
        "#   net = outputs['pooled_output']\n",
        "#   net = tf.keras.layers.Dropout(0.1)(net)\n",
        "#   net = tf.keras.layers.Dense(len(CATEGORIES), activation='softmax', name='classifier')(net)\n",
        "#   return tf.keras.Model(text_input, net)\n"
      ],
      "execution_count": null,
      "outputs": []
    },
    {
      "cell_type": "code",
      "metadata": {
        "id": "ufe9XkfMsqli"
      },
      "source": [
        "# classifier_model = build_classifier_model()"
      ],
      "execution_count": null,
      "outputs": []
    },
    {
      "cell_type": "code",
      "metadata": {
        "id": "BxsEU0krsuUY"
      },
      "source": [
        "# loss = tf.keras.losses.CategoricalCrossentropy()\n",
        "# metrics = tf.metrics.CategoricalAccuracy()"
      ],
      "execution_count": null,
      "outputs": []
    },
    {
      "cell_type": "code",
      "metadata": {
        "id": "ShjfGnqNtBsi"
      },
      "source": [
        "# epochs = 30\n",
        "# steps_per_epoch = tf.data.experimental.cardinality(train_ds).numpy()\n",
        "# num_train_steps = steps_per_epoch * epochs\n",
        "# num_warmup_steps = int(0.1*num_train_steps)\n",
        "\n",
        "# init_lr = 3e-5\n",
        "# optimizer = optimization.create_optimizer(init_lr=init_lr,\n",
        "#                                           num_train_steps=num_train_steps,\n",
        "#                                           num_warmup_steps=num_warmup_steps,\n",
        "#                                           optimizer_type='adamw')"
      ],
      "execution_count": null,
      "outputs": []
    },
    {
      "cell_type": "code",
      "metadata": {
        "id": "loQFtn8I3sVU"
      },
      "source": [
        "# classifier_model.compile(optimizer=optimizer,\n",
        "#                          loss='categorical_crossentropy',\n",
        "#                          metrics=['accuracy'])"
      ],
      "execution_count": null,
      "outputs": []
    },
    {
      "cell_type": "code",
      "metadata": {
        "colab": {
          "base_uri": "https://localhost:8080/",
          "height": 578
        },
        "id": "8mHqyPMRtCWR",
        "outputId": "6bcdc10c-d174-4e54-d567-e919150cefca"
      },
      "source": [
        "# history = classifier_model.fit(\n",
        "#     x=train_ds,\n",
        "#     epochs=epochs,\n",
        "#     validation_data = val_ds,\n",
        "#     batch_size=32,\n",
        "# )"
      ],
      "execution_count": null,
      "outputs": [
        {
          "output_type": "stream",
          "name": "stdout",
          "text": [
            "Epoch 1/30\n",
            "14/14 [==============================] - 813s 57s/step - loss: 3.0020 - accuracy: 0.0540 - val_loss: 3.0152 - val_accuracy: 0.0377\n",
            "Epoch 2/30\n",
            "14/14 [==============================] - 799s 57s/step - loss: 3.0155 - accuracy: 0.0399 - val_loss: 3.0002 - val_accuracy: 0.0377\n",
            "Epoch 3/30\n",
            "14/14 [==============================] - 790s 57s/step - loss: 2.9942 - accuracy: 0.0563 - val_loss: 2.9917 - val_accuracy: 0.0377\n",
            "Epoch 4/30\n",
            "14/14 [==============================] - 780s 56s/step - loss: 2.9608 - accuracy: 0.0423 - val_loss: 3.0530 - val_accuracy: 0.0377\n",
            "Epoch 5/30\n",
            "14/14 [==============================] - 786s 56s/step - loss: 3.0000 - accuracy: 0.0587 - val_loss: 3.0228 - val_accuracy: 0.0189\n",
            "Epoch 6/30\n",
            " 2/14 [===>..........................] - ETA: 10:49 - loss: 3.0568 - accuracy: 0.0625"
          ]
        },
        {
          "output_type": "error",
          "ename": "KeyboardInterrupt",
          "evalue": "ignored",
          "traceback": [
            "\u001b[0;31m---------------------------------------------------------------------------\u001b[0m",
            "\u001b[0;31mKeyboardInterrupt\u001b[0m                         Traceback (most recent call last)",
            "\u001b[0;32m<ipython-input-60-0dfd9ddee611>\u001b[0m in \u001b[0;36m<module>\u001b[0;34m()\u001b[0m\n\u001b[1;32m      3\u001b[0m     \u001b[0mepochs\u001b[0m\u001b[0;34m=\u001b[0m\u001b[0mepochs\u001b[0m\u001b[0;34m,\u001b[0m\u001b[0;34m\u001b[0m\u001b[0;34m\u001b[0m\u001b[0m\n\u001b[1;32m      4\u001b[0m     \u001b[0mvalidation_data\u001b[0m \u001b[0;34m=\u001b[0m \u001b[0mval_ds\u001b[0m\u001b[0;34m,\u001b[0m\u001b[0;34m\u001b[0m\u001b[0;34m\u001b[0m\u001b[0m\n\u001b[0;32m----> 5\u001b[0;31m     \u001b[0mbatch_size\u001b[0m\u001b[0;34m=\u001b[0m\u001b[0;36m32\u001b[0m\u001b[0;34m,\u001b[0m\u001b[0;34m\u001b[0m\u001b[0;34m\u001b[0m\u001b[0m\n\u001b[0m\u001b[1;32m      6\u001b[0m )\n",
            "\u001b[0;32m/usr/local/lib/python3.7/dist-packages/keras/engine/training.py\u001b[0m in \u001b[0;36mfit\u001b[0;34m(self, x, y, batch_size, epochs, verbose, callbacks, validation_split, validation_data, shuffle, class_weight, sample_weight, initial_epoch, steps_per_epoch, validation_steps, validation_batch_size, validation_freq, max_queue_size, workers, use_multiprocessing)\u001b[0m\n\u001b[1;32m   1182\u001b[0m                 _r=1):\n\u001b[1;32m   1183\u001b[0m               \u001b[0mcallbacks\u001b[0m\u001b[0;34m.\u001b[0m\u001b[0mon_train_batch_begin\u001b[0m\u001b[0;34m(\u001b[0m\u001b[0mstep\u001b[0m\u001b[0;34m)\u001b[0m\u001b[0;34m\u001b[0m\u001b[0;34m\u001b[0m\u001b[0m\n\u001b[0;32m-> 1184\u001b[0;31m               \u001b[0mtmp_logs\u001b[0m \u001b[0;34m=\u001b[0m \u001b[0mself\u001b[0m\u001b[0;34m.\u001b[0m\u001b[0mtrain_function\u001b[0m\u001b[0;34m(\u001b[0m\u001b[0miterator\u001b[0m\u001b[0;34m)\u001b[0m\u001b[0;34m\u001b[0m\u001b[0;34m\u001b[0m\u001b[0m\n\u001b[0m\u001b[1;32m   1185\u001b[0m               \u001b[0;32mif\u001b[0m \u001b[0mdata_handler\u001b[0m\u001b[0;34m.\u001b[0m\u001b[0mshould_sync\u001b[0m\u001b[0;34m:\u001b[0m\u001b[0;34m\u001b[0m\u001b[0;34m\u001b[0m\u001b[0m\n\u001b[1;32m   1186\u001b[0m                 \u001b[0mcontext\u001b[0m\u001b[0;34m.\u001b[0m\u001b[0masync_wait\u001b[0m\u001b[0;34m(\u001b[0m\u001b[0;34m)\u001b[0m\u001b[0;34m\u001b[0m\u001b[0;34m\u001b[0m\u001b[0m\n",
            "\u001b[0;32m/usr/local/lib/python3.7/dist-packages/tensorflow/python/eager/def_function.py\u001b[0m in \u001b[0;36m__call__\u001b[0;34m(self, *args, **kwds)\u001b[0m\n\u001b[1;32m    883\u001b[0m \u001b[0;34m\u001b[0m\u001b[0m\n\u001b[1;32m    884\u001b[0m       \u001b[0;32mwith\u001b[0m \u001b[0mOptionalXlaContext\u001b[0m\u001b[0;34m(\u001b[0m\u001b[0mself\u001b[0m\u001b[0;34m.\u001b[0m\u001b[0m_jit_compile\u001b[0m\u001b[0;34m)\u001b[0m\u001b[0;34m:\u001b[0m\u001b[0;34m\u001b[0m\u001b[0;34m\u001b[0m\u001b[0m\n\u001b[0;32m--> 885\u001b[0;31m         \u001b[0mresult\u001b[0m \u001b[0;34m=\u001b[0m \u001b[0mself\u001b[0m\u001b[0;34m.\u001b[0m\u001b[0m_call\u001b[0m\u001b[0;34m(\u001b[0m\u001b[0;34m*\u001b[0m\u001b[0margs\u001b[0m\u001b[0;34m,\u001b[0m \u001b[0;34m**\u001b[0m\u001b[0mkwds\u001b[0m\u001b[0;34m)\u001b[0m\u001b[0;34m\u001b[0m\u001b[0;34m\u001b[0m\u001b[0m\n\u001b[0m\u001b[1;32m    886\u001b[0m \u001b[0;34m\u001b[0m\u001b[0m\n\u001b[1;32m    887\u001b[0m       \u001b[0mnew_tracing_count\u001b[0m \u001b[0;34m=\u001b[0m \u001b[0mself\u001b[0m\u001b[0;34m.\u001b[0m\u001b[0mexperimental_get_tracing_count\u001b[0m\u001b[0;34m(\u001b[0m\u001b[0;34m)\u001b[0m\u001b[0;34m\u001b[0m\u001b[0;34m\u001b[0m\u001b[0m\n",
            "\u001b[0;32m/usr/local/lib/python3.7/dist-packages/tensorflow/python/eager/def_function.py\u001b[0m in \u001b[0;36m_call\u001b[0;34m(self, *args, **kwds)\u001b[0m\n\u001b[1;32m    915\u001b[0m       \u001b[0;31m# In this case we have created variables on the first call, so we run the\u001b[0m\u001b[0;34m\u001b[0m\u001b[0;34m\u001b[0m\u001b[0;34m\u001b[0m\u001b[0m\n\u001b[1;32m    916\u001b[0m       \u001b[0;31m# defunned version which is guaranteed to never create variables.\u001b[0m\u001b[0;34m\u001b[0m\u001b[0;34m\u001b[0m\u001b[0;34m\u001b[0m\u001b[0m\n\u001b[0;32m--> 917\u001b[0;31m       \u001b[0;32mreturn\u001b[0m \u001b[0mself\u001b[0m\u001b[0;34m.\u001b[0m\u001b[0m_stateless_fn\u001b[0m\u001b[0;34m(\u001b[0m\u001b[0;34m*\u001b[0m\u001b[0margs\u001b[0m\u001b[0;34m,\u001b[0m \u001b[0;34m**\u001b[0m\u001b[0mkwds\u001b[0m\u001b[0;34m)\u001b[0m  \u001b[0;31m# pylint: disable=not-callable\u001b[0m\u001b[0;34m\u001b[0m\u001b[0;34m\u001b[0m\u001b[0m\n\u001b[0m\u001b[1;32m    918\u001b[0m     \u001b[0;32melif\u001b[0m \u001b[0mself\u001b[0m\u001b[0;34m.\u001b[0m\u001b[0m_stateful_fn\u001b[0m \u001b[0;32mis\u001b[0m \u001b[0;32mnot\u001b[0m \u001b[0;32mNone\u001b[0m\u001b[0;34m:\u001b[0m\u001b[0;34m\u001b[0m\u001b[0;34m\u001b[0m\u001b[0m\n\u001b[1;32m    919\u001b[0m       \u001b[0;31m# Release the lock early so that multiple threads can perform the call\u001b[0m\u001b[0;34m\u001b[0m\u001b[0;34m\u001b[0m\u001b[0;34m\u001b[0m\u001b[0m\n",
            "\u001b[0;32m/usr/local/lib/python3.7/dist-packages/tensorflow/python/eager/function.py\u001b[0m in \u001b[0;36m__call__\u001b[0;34m(self, *args, **kwargs)\u001b[0m\n\u001b[1;32m   3038\u001b[0m        filtered_flat_args) = self._maybe_define_function(args, kwargs)\n\u001b[1;32m   3039\u001b[0m     return graph_function._call_flat(\n\u001b[0;32m-> 3040\u001b[0;31m         filtered_flat_args, captured_inputs=graph_function.captured_inputs)  # pylint: disable=protected-access\n\u001b[0m\u001b[1;32m   3041\u001b[0m \u001b[0;34m\u001b[0m\u001b[0m\n\u001b[1;32m   3042\u001b[0m   \u001b[0;34m@\u001b[0m\u001b[0mproperty\u001b[0m\u001b[0;34m\u001b[0m\u001b[0;34m\u001b[0m\u001b[0m\n",
            "\u001b[0;32m/usr/local/lib/python3.7/dist-packages/tensorflow/python/eager/function.py\u001b[0m in \u001b[0;36m_call_flat\u001b[0;34m(self, args, captured_inputs, cancellation_manager)\u001b[0m\n\u001b[1;32m   1962\u001b[0m       \u001b[0;31m# No tape is watching; skip to running the function.\u001b[0m\u001b[0;34m\u001b[0m\u001b[0;34m\u001b[0m\u001b[0;34m\u001b[0m\u001b[0m\n\u001b[1;32m   1963\u001b[0m       return self._build_call_outputs(self._inference_function.call(\n\u001b[0;32m-> 1964\u001b[0;31m           ctx, args, cancellation_manager=cancellation_manager))\n\u001b[0m\u001b[1;32m   1965\u001b[0m     forward_backward = self._select_forward_and_backward_functions(\n\u001b[1;32m   1966\u001b[0m         \u001b[0margs\u001b[0m\u001b[0;34m,\u001b[0m\u001b[0;34m\u001b[0m\u001b[0;34m\u001b[0m\u001b[0m\n",
            "\u001b[0;32m/usr/local/lib/python3.7/dist-packages/tensorflow/python/eager/function.py\u001b[0m in \u001b[0;36mcall\u001b[0;34m(self, ctx, args, cancellation_manager)\u001b[0m\n\u001b[1;32m    594\u001b[0m               \u001b[0minputs\u001b[0m\u001b[0;34m=\u001b[0m\u001b[0margs\u001b[0m\u001b[0;34m,\u001b[0m\u001b[0;34m\u001b[0m\u001b[0;34m\u001b[0m\u001b[0m\n\u001b[1;32m    595\u001b[0m               \u001b[0mattrs\u001b[0m\u001b[0;34m=\u001b[0m\u001b[0mattrs\u001b[0m\u001b[0;34m,\u001b[0m\u001b[0;34m\u001b[0m\u001b[0;34m\u001b[0m\u001b[0m\n\u001b[0;32m--> 596\u001b[0;31m               ctx=ctx)\n\u001b[0m\u001b[1;32m    597\u001b[0m         \u001b[0;32melse\u001b[0m\u001b[0;34m:\u001b[0m\u001b[0;34m\u001b[0m\u001b[0;34m\u001b[0m\u001b[0m\n\u001b[1;32m    598\u001b[0m           outputs = execute.execute_with_cancellation(\n",
            "\u001b[0;32m/usr/local/lib/python3.7/dist-packages/tensorflow/python/eager/execute.py\u001b[0m in \u001b[0;36mquick_execute\u001b[0;34m(op_name, num_outputs, inputs, attrs, ctx, name)\u001b[0m\n\u001b[1;32m     58\u001b[0m     \u001b[0mctx\u001b[0m\u001b[0;34m.\u001b[0m\u001b[0mensure_initialized\u001b[0m\u001b[0;34m(\u001b[0m\u001b[0;34m)\u001b[0m\u001b[0;34m\u001b[0m\u001b[0;34m\u001b[0m\u001b[0m\n\u001b[1;32m     59\u001b[0m     tensors = pywrap_tfe.TFE_Py_Execute(ctx._handle, device_name, op_name,\n\u001b[0;32m---> 60\u001b[0;31m                                         inputs, attrs, num_outputs)\n\u001b[0m\u001b[1;32m     61\u001b[0m   \u001b[0;32mexcept\u001b[0m \u001b[0mcore\u001b[0m\u001b[0;34m.\u001b[0m\u001b[0m_NotOkStatusException\u001b[0m \u001b[0;32mas\u001b[0m \u001b[0me\u001b[0m\u001b[0;34m:\u001b[0m\u001b[0;34m\u001b[0m\u001b[0;34m\u001b[0m\u001b[0m\n\u001b[1;32m     62\u001b[0m     \u001b[0;32mif\u001b[0m \u001b[0mname\u001b[0m \u001b[0;32mis\u001b[0m \u001b[0;32mnot\u001b[0m \u001b[0;32mNone\u001b[0m\u001b[0;34m:\u001b[0m\u001b[0;34m\u001b[0m\u001b[0;34m\u001b[0m\u001b[0m\n",
            "\u001b[0;31mKeyboardInterrupt\u001b[0m: "
          ]
        }
      ]
    },
    {
      "cell_type": "code",
      "metadata": {
        "id": "U-YT15mZtjoW",
        "colab": {
          "base_uri": "https://localhost:8080/",
          "height": 563
        },
        "outputId": "8bf53b2f-aee5-478c-8679-7eea41fd8028"
      },
      "source": [
        "acc = history.history['accuracy']\n",
        "val_acc = history.history['val_accuracy']\n",
        "\n",
        "loss = history.history['loss']\n",
        "val_loss = history.history['val_loss']\n",
        "\n",
        "epochs = range(len(acc))\n",
        "\n",
        "plt.plot(epochs, acc, label = \"training\")\n",
        "plt.plot(epochs, val_acc, label = \"validation\")\n",
        "plt.legend(loc=\"upper left\")\n",
        "plt.title('Training and validation accuracy')\n",
        "\n",
        "plt.figure()\n",
        "\n",
        "plt.plot(epochs, loss, label = \"training\")\n",
        "plt.plot(epochs, val_loss, label = \"validation\")\n",
        "plt.legend(loc=\"upper right\")\n",
        "plt.title('Training and validation loss')"
      ],
      "execution_count": 25,
      "outputs": [
        {
          "output_type": "execute_result",
          "data": {
            "text/plain": [
              "Text(0.5, 1.0, 'Training and validation loss')"
            ]
          },
          "metadata": {},
          "execution_count": 25
        },
        {
          "output_type": "display_data",
          "data": {
            "image/png": "[encoded data removed]",
            "text/plain": [
              "<Figure size 432x288 with 1 Axes>"
            ]
          },
          "metadata": {
            "needs_background": "light"
          }
        },
        {
          "output_type": "display_data",
          "data": {
            "image/png": "[encoded data removed]",
            "text/plain": [
              "<Figure size 432x288 with 1 Axes>"
            ]
          },
          "metadata": {
            "needs_background": "light"
          }
        }
      ]
    },
    {
      "cell_type": "code",
      "metadata": {
        "id": "-ACPmJ_MtNrZ"
      },
      "source": [
        "# from transformers import TFBertForSequenceClassification\n",
        "# learning_rate = 2e-5\n",
        "# epochs = 10\n",
        "\n",
        "# model = TFBertForSequenceClassification.from_pretrained(\n",
        "#         MODEL_NAME,\n",
        "#         num_labels= len(CATEGORIES),\n",
        "#         proxies={'http': 'foo.bar:3128', 'http://hostname': 'foo.bar:4012'}\n",
        "#     )\n",
        "# optimizer = tf.keras.optimizers.Adam(learning_rate=learning_rate, epsilon=1e-08)\n",
        "# loss = tf.keras.losses.CategoricalCrossentropy(from_logits=True)\n",
        "# metric = tf.keras.metrics.CategoricalAccuracy('accuracy')\n",
        "# model.compile(optimizer=optimizer, loss=loss, metrics=[metric])\n",
        "# # tokenizer = BertTokenizer.from_pretrained(MODEL_NAME, do_lower_case=True)"
      ],
      "execution_count": null,
      "outputs": []
    },
    {
      "cell_type": "code",
      "metadata": {
        "id": "UHdrjdQAtQXv"
      },
      "source": [
        "# bert_history = model.fit(ds_train_encoded, epochs=number_of_epochs, validation_data=ds_test_encoded)\n",
        "# bert_history = model.fit(train_ds, epochs=epochs, validation_data=val_ds)\n",
        "loss, accuracy = classifier_model.evaluate(test_ds)\n",
        "\n",
        "print(f'Loss: {loss}')\n",
        "print(f'Accuracy: {accuracy}')"
      ],
      "execution_count": null,
      "outputs": []
    }
  ]
}