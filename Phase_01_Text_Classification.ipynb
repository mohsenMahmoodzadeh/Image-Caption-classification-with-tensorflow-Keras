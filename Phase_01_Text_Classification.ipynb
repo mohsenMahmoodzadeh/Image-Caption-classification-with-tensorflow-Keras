{
 "cells": [
  {
   "cell_type": "markdown",
   "metadata": {
    "colab_type": "text",
    "id": "view-in-github"
   },
   "source": [
    "<a href=\"https://colab.research.google.com/github/mohsenMahmoodzadeh/Image-Caption-classification-with-tensorflow-Keras/blob/master/Text_Classification.ipynb\" target=\"_parent\"><img src=\"https://colab.research.google.com/assets/colab-badge.svg\" alt=\"Open In Colab\"/></a>"
   ]
  },
  {
   "cell_type": "markdown",
   "metadata": {
    "id": "jfkX79ko-5zs"
   },
   "source": [
    "# Text Classification with Keras"
   ]
  },
  {
   "cell_type": "markdown",
   "metadata": {
    "id": "n5Zlntq--_L0"
   },
   "source": [
    "In this notebook, we build a keras model to classify a text dataset with 2658 train and 2658 test senetences. \n",
    "\n",
    "We use Tensorflow and Keras for implementation of our model. \n",
    "\n",
    "We also use scikit-learn library for some ancillary affairs such as confusion matrix, accuracy score, classification report, etc."
   ]
  },
  {
   "cell_type": "code",
   "execution_count": 77,
   "metadata": {
    "id": "Em-mtxWC8cBI"
   },
   "outputs": [],
   "source": [
    "import tensorflow as tf\n",
    "import random\n",
    "import numpy as np\n",
    "import pandas as pd\n",
    "import os\n",
    "import cv2\n",
    "from matplotlib import pyplot as plt\n",
    "# from sklearn.metrics import classification_report, confusion_matrix\n",
    "# from sklearn.model_selection import KFold, train_test_split\n",
    "import warnings\n",
    "warnings.filterwarnings('ignore','FutureWarning')"
   ]
  },
  {
   "cell_type": "code",
   "execution_count": 78,
   "metadata": {
    "id": "lvhg4C5ZCcO1"
   },
   "outputs": [],
   "source": [
    "label_map = {\n",
    "    0 : 'aeroplane', 1 : 'bicycle', 2 : 'bird', 3 : 'boat', \n",
    "    4 : 'bus', 5 : 'car', 6 : 'cat', 7 : 'chair', 8 : 'cow',\n",
    "    9 : 'diningtable', 10 : 'dog', 11 : 'horse', 12 : 'motorbike',\n",
    "    13 : 'person', 14 : 'pottedplant', 15 : 'sheep', 16 : 'sofa',\n",
    "    17 : 'train', 18 : 'tvmonitor'\n",
    "  }"
   ]
  },
  {
   "cell_type": "code",
   "execution_count": 79,
   "metadata": {
    "id": "XfhBNVHTChfd"
   },
   "outputs": [],
   "source": [
    "CATEGORIES = list(label_map.values())"
   ]
  },
  {
   "cell_type": "code",
   "execution_count": 80,
   "metadata": {
    "id": "fP-MqnIXCmAj"
   },
   "outputs": [],
   "source": [
    "def read_file(filename):\n",
    "    f = open(filename, 'r')\n",
    "    lines = f.readlines()\n",
    "    return lines"
   ]
  },
  {
   "cell_type": "code",
   "execution_count": 81,
   "metadata": {
    "id": "KCB9uJUoCn7n"
   },
   "outputs": [],
   "source": [
    "def prepare_train_data(TRAIN_DATA_DIR, CATEGORIES):\n",
    "    train_data = []\n",
    "    path = \"\"\n",
    "    for category in CATEGORIES:\n",
    "        temp = []\n",
    "        path = os.path.join(TRAIN_DATA_DIR, category)\n",
    "        class_num = CATEGORIES.index(category)\n",
    "        for filename in os.listdir(path):\n",
    "            file_path = os.path.join(path, filename)\n",
    "            try:\n",
    "                lines = read_file(file_path)\n",
    "                for line in lines:\n",
    "                    temp.append(line)\n",
    "\n",
    "            except Exception as e:\n",
    "                print(str(e))\n",
    "        \n",
    "        for line in temp:\n",
    "            train_data.append((line, class_num))\n",
    "    \n",
    "    return train_data"
   ]
  },
  {
   "cell_type": "code",
   "execution_count": 82,
   "metadata": {
    "id": "Plh5K81VGwOh"
   },
   "outputs": [],
   "source": [
    "def prepare_test_data(TEST_DATA_DIR, CATEGORIES):\n",
    "    test_data = []\n",
    "    path = \"\"\n",
    "    for category in CATEGORIES:\n",
    "        temp = []\n",
    "        path = os.path.join(TRAIN_DATA_DIR, category)\n",
    "        class_num = CATEGORIES.index(category)\n",
    "        for filename in os.listdir(path):\n",
    "            file_path = os.path.join(path, filename)\n",
    "            file = file_path\n",
    "            try:\n",
    "                lines = read_file(file)\n",
    "                for line in lines:\n",
    "                    temp.append(line)\n",
    "\n",
    "            except Exception as e:\n",
    "                print(str(e))\n",
    "        \n",
    "        for line in temp:\n",
    "            test_data.append((line, class_num))\n",
    "    return test_data"
   ]
  },
  {
   "cell_type": "code",
   "execution_count": 83,
   "metadata": {
    "id": "B6ZRJknYDi3D"
   },
   "outputs": [],
   "source": [
    "TRAIN_DATA_DIR = \"./dataset/train/sentences/\"\n",
    "TEST_DATA_DIR = \"./dataset/test/sentences/\"\n",
    "CATEGORIES = [\"aeroplane\", \"bicycle\", \"bird\", \"boat\", \"bus\", \"car\", \"cat\", \"chair\", \"cow\", \"diningtable\", \"dog\", \"horse\", \n",
    "              \"motorbike\", \"person\", \"pottedplant\", \"sheep\",\"sofa\", \"train\", \"tvmonitor\"]"
   ]
  },
  {
   "cell_type": "code",
   "execution_count": 84,
   "metadata": {},
   "outputs": [
    {
     "name": "stdout",
     "output_type": "stream",
     "text": [
      "Found 532 files belonging to 19 classes.\n",
      "Using 426 files for training.\n"
     ]
    }
   ],
   "source": [
    "raw_train_ds = tf.keras.preprocessing.text_dataset_from_directory(\n",
    "    TRAIN_DATA_DIR,\n",
    "    label_mode=\"categorical\",\n",
    "    validation_split=0.2,\n",
    "    subset='training',\n",
    "    seed= 1337 \n",
    ")"
   ]
  },
  {
   "cell_type": "code",
   "execution_count": 85,
   "metadata": {},
   "outputs": [
    {
     "name": "stdout",
     "output_type": "stream",
     "text": [
      "Found 532 files belonging to 19 classes.\n",
      "Using 106 files for validation.\n"
     ]
    }
   ],
   "source": [
    "raw_val_ds = tf.keras.preprocessing.text_dataset_from_directory(\n",
    "    TRAIN_DATA_DIR,\n",
    "    label_mode=\"categorical\",\n",
    "    validation_split=0.2,\n",
    "    subset='validation',\n",
    "    seed= 1337 \n",
    ")"
   ]
  },
  {
   "cell_type": "code",
   "execution_count": 86,
   "metadata": {},
   "outputs": [
    {
     "name": "stdout",
     "output_type": "stream",
     "text": [
      "Found 380 files belonging to 19 classes.\n"
     ]
    }
   ],
   "source": [
    "raw_test_ds = tf.keras.preprocessing.text_dataset_from_directory(\n",
    "    TEST_DATA_DIR,\n",
    "    label_mode=\"categorical\"\n",
    ")"
   ]
  },
  {
   "cell_type": "code",
   "execution_count": 87,
   "metadata": {},
   "outputs": [],
   "source": [
    "max_features = None\n",
    "embedding_dim = 128\n",
    "sequence_length = 256"
   ]
  },
  {
   "cell_type": "code",
   "execution_count": 88,
   "metadata": {},
   "outputs": [],
   "source": [
    "vectorization_layer = \\\n",
    "        tf.keras.layers.experimental.preprocessing.TextVectorization(\n",
    "            output_mode = \"int\",\n",
    "            output_sequence_length = sequence_length,\n",
    "        )"
   ]
  },
  {
   "cell_type": "code",
   "execution_count": 89,
   "metadata": {},
   "outputs": [],
   "source": [
    "text_ds = raw_train_ds.map(lambda x, y: x)\n",
    "vectorization_layer.adapt(text_ds)"
   ]
  },
  {
   "cell_type": "code",
   "execution_count": 90,
   "metadata": {},
   "outputs": [],
   "source": [
    "max_features = vectorization_layer.vocabulary_size()"
   ]
  },
  {
   "cell_type": "code",
   "execution_count": 91,
   "metadata": {},
   "outputs": [],
   "source": [
    "def vectorize_text(text, label):\n",
    "    text = tf.expand_dims(text, -1)\n",
    "    return vectorization_layer(text), label"
   ]
  },
  {
   "cell_type": "code",
   "execution_count": 92,
   "metadata": {},
   "outputs": [],
   "source": [
    "train_ds = raw_train_ds.map(vectorize_text)\n",
    "val_ds = raw_val_ds.map(vectorize_text)\n",
    "test_ds = raw_test_ds.map(vectorize_text)"
   ]
  },
  {
   "cell_type": "code",
   "execution_count": 93,
   "metadata": {
    "id": "UtG5TYeiYTZC"
   },
   "outputs": [],
   "source": [
    "def create_model(max_features, embedding_dim):\n",
    "    \n",
    "    num_classes = 19\n",
    "    \n",
    "    model = tf.keras.models.Sequential()\n",
    "    \n",
    "    inputs = tf.keras.Input(shape=(None,), dtype=\"int64\")\n",
    "    x = tf.keras.layers.Embedding(max_features, embedding_dim)(inputs)\n",
    "    x = tf.keras.layers.Dropout(0.5)(x)\n",
    "    x = tf.keras.layers.Conv1D(128, 9, padding=\"valid\", activation=\"relu\", strides=3)(x)\n",
    "    x = tf.keras.layers.Conv1D(128, 9, padding=\"valid\", activation=\"relu\", strides=3)(x)\n",
    "    x = tf.keras.layers.GlobalMaxPooling1D()(x)\n",
    "    x = tf.keras.layers.Dense(64, activation=\"relu\")(x)\n",
    "    x = tf.keras.layers.Dropout(0.5)(x)\n",
    "    predictions = tf.keras.layers.Dense(num_classes, activation=\"softmax\", name=\"predictions\")(x)\n",
    "    \n",
    "    model = tf.keras.Model(inputs, predictions)\n",
    "    return model"
   ]
  },
  {
   "cell_type": "code",
   "execution_count": 94,
   "metadata": {
    "colab": {
     "base_uri": "https://localhost:8080/"
    },
    "id": "Dw1Xdt-7Z_T0",
    "outputId": "9001bd35-f55a-4561-9890-2f74fb42aefe"
   },
   "outputs": [],
   "source": [
    "model = create_model(max_features, embedding_dim)\n",
    "\n",
    "model.compile(optimizer='adam',\n",
    "                loss='categorical_crossentropy',\n",
    "                metrics=['accuracy'])"
   ]
  },
  {
   "cell_type": "code",
   "execution_count": 95,
   "metadata": {},
   "outputs": [
    {
     "name": "stdout",
     "output_type": "stream",
     "text": [
      "Epoch 1/30\n",
      "14/14 [==============================] - 8s 329ms/step - loss: 2.9512 - accuracy: 0.0634 - val_loss: 2.9519 - val_accuracy: 0.0377\n",
      "Epoch 2/30\n",
      "14/14 [==============================] - 4s 290ms/step - loss: 2.9480 - accuracy: 0.0305 - val_loss: 2.9491 - val_accuracy: 0.0189\n",
      "Epoch 3/30\n",
      "14/14 [==============================] - 4s 296ms/step - loss: 2.9447 - accuracy: 0.0399 - val_loss: 2.9487 - val_accuracy: 0.0377\n",
      "Epoch 4/30\n",
      "14/14 [==============================] - 5s 299ms/step - loss: 2.9278 - accuracy: 0.0681 - val_loss: 2.9556 - val_accuracy: 0.0472\n",
      "Epoch 5/30\n",
      "14/14 [==============================] - 5s 298ms/step - loss: 2.9058 - accuracy: 0.0751 - val_loss: 2.9504 - val_accuracy: 0.0377\n",
      "Epoch 6/30\n",
      "14/14 [==============================] - 5s 299ms/step - loss: 2.8664 - accuracy: 0.0892 - val_loss: 2.9273 - val_accuracy: 0.0849\n",
      "Epoch 7/30\n",
      "14/14 [==============================] - 5s 294ms/step - loss: 2.7423 - accuracy: 0.1526 - val_loss: 2.8070 - val_accuracy: 0.1415\n",
      "Epoch 8/30\n",
      "14/14 [==============================] - 5s 297ms/step - loss: 2.4629 - accuracy: 0.2042 - val_loss: 2.5717 - val_accuracy: 0.1321\n",
      "Epoch 9/30\n",
      "14/14 [==============================] - 4s 294ms/step - loss: 2.2100 - accuracy: 0.2582 - val_loss: 2.3980 - val_accuracy: 0.3396\n",
      "Epoch 10/30\n",
      "14/14 [==============================] - 5s 297ms/step - loss: 1.8758 - accuracy: 0.3944 - val_loss: 2.1765 - val_accuracy: 0.3774\n",
      "Epoch 11/30\n",
      "14/14 [==============================] - 4s 293ms/step - loss: 1.5579 - accuracy: 0.4718 - val_loss: 2.0024 - val_accuracy: 0.4057\n",
      "Epoch 12/30\n",
      "14/14 [==============================] - 5s 295ms/step - loss: 1.2909 - accuracy: 0.5563 - val_loss: 1.7767 - val_accuracy: 0.5472\n",
      "Epoch 13/30\n",
      "14/14 [==============================] - 5s 307ms/step - loss: 1.0984 - accuracy: 0.6479 - val_loss: 1.6353 - val_accuracy: 0.5566\n",
      "Epoch 14/30\n",
      "14/14 [==============================] - 5s 296ms/step - loss: 0.9052 - accuracy: 0.6972 - val_loss: 1.6999 - val_accuracy: 0.5660\n",
      "Epoch 15/30\n",
      "14/14 [==============================] - 5s 300ms/step - loss: 0.7049 - accuracy: 0.7700 - val_loss: 1.5489 - val_accuracy: 0.6132\n",
      "Epoch 16/30\n",
      "14/14 [==============================] - 5s 311ms/step - loss: 0.5621 - accuracy: 0.8239 - val_loss: 1.5655 - val_accuracy: 0.6509\n",
      "Epoch 17/30\n",
      "14/14 [==============================] - 5s 340ms/step - loss: 0.5176 - accuracy: 0.8239 - val_loss: 1.5246 - val_accuracy: 0.6038\n",
      "Epoch 18/30\n",
      "14/14 [==============================] - 5s 311ms/step - loss: 0.4037 - accuracy: 0.8592 - val_loss: 1.4956 - val_accuracy: 0.6698\n",
      "Epoch 19/30\n",
      "14/14 [==============================] - 5s 313ms/step - loss: 0.3423 - accuracy: 0.8897 - val_loss: 1.8607 - val_accuracy: 0.5849\n",
      "Epoch 20/30\n",
      "14/14 [==============================] - 4s 292ms/step - loss: 0.3261 - accuracy: 0.9108 - val_loss: 1.4867 - val_accuracy: 0.6792\n",
      "Epoch 21/30\n",
      "14/14 [==============================] - 5s 304ms/step - loss: 0.2400 - accuracy: 0.9343 - val_loss: 1.5827 - val_accuracy: 0.6604\n",
      "Epoch 22/30\n",
      "14/14 [==============================] - 5s 325ms/step - loss: 0.2565 - accuracy: 0.9014 - val_loss: 1.8256 - val_accuracy: 0.6132\n",
      "Epoch 23/30\n",
      "14/14 [==============================] - 5s 309ms/step - loss: 0.2327 - accuracy: 0.9272 - val_loss: 1.7376 - val_accuracy: 0.6792\n",
      "Epoch 24/30\n",
      "14/14 [==============================] - 5s 310ms/step - loss: 0.1815 - accuracy: 0.9437 - val_loss: 1.8653 - val_accuracy: 0.6509\n",
      "Epoch 25/30\n",
      "14/14 [==============================] - 5s 304ms/step - loss: 0.2390 - accuracy: 0.9225 - val_loss: 1.7042 - val_accuracy: 0.6792\n",
      "Epoch 26/30\n",
      "14/14 [==============================] - 5s 311ms/step - loss: 0.1929 - accuracy: 0.9319 - val_loss: 1.8534 - val_accuracy: 0.6321\n",
      "Epoch 27/30\n",
      "14/14 [==============================] - 5s 303ms/step - loss: 0.1791 - accuracy: 0.9390 - val_loss: 1.7143 - val_accuracy: 0.6792\n",
      "Epoch 28/30\n",
      "14/14 [==============================] - 5s 309ms/step - loss: 0.1782 - accuracy: 0.9413 - val_loss: 1.9274 - val_accuracy: 0.6415\n",
      "Epoch 29/30\n",
      "14/14 [==============================] - 5s 304ms/step - loss: 0.1137 - accuracy: 0.9648 - val_loss: 1.8521 - val_accuracy: 0.6604\n",
      "Epoch 30/30\n",
      "14/14 [==============================] - 5s 308ms/step - loss: 0.1337 - accuracy: 0.9624 - val_loss: 1.9278 - val_accuracy: 0.6415\n"
     ]
    }
   ],
   "source": [
    "epochs = 30\n",
    "history = model.fit(train_ds,\n",
    "                    epochs = epochs,\n",
    "                    validation_data = val_ds\n",
    "                )"
   ]
  },
  {
   "cell_type": "code",
   "execution_count": 96,
   "metadata": {},
   "outputs": [],
   "source": [
    "def plot_history(history):\n",
    "    acc = history.history['accuracy']\n",
    "    val_acc = history.history['val_accuracy']\n",
    "\n",
    "    loss = history.history['loss']\n",
    "    val_loss = history.history['val_loss']\n",
    "\n",
    "    epochs = range(len(acc))\n",
    "\n",
    "    plt.plot(epochs, acc, label = \"training\")\n",
    "    plt.plot(epochs, val_acc, label = \"validation\")\n",
    "    plt.legend(loc=\"upper left\")\n",
    "    plt.title('Training and validation accuracy')\n",
    "\n",
    "    plt.figure()\n",
    "\n",
    "    plt.plot(epochs, loss, label = \"training\")\n",
    "    plt.plot(epochs, val_loss, label = \"validation\")\n",
    "    plt.legend(loc=\"upper right\")\n",
    "    plt.title('Training and validation loss')"
   ]
  },
  {
   "cell_type": "code",
   "execution_count": 97,
   "metadata": {},
   "outputs": [
    {
     "data": {
      "image/png": "[encoded data removed]",
      "text/plain": [
       "<Figure size 432x288 with 1 Axes>"
      ]
     },
     "metadata": {
      "needs_background": "light"
     },
     "output_type": "display_data"
    },
    {
     "data": {
      "image/png": "[encoded data removed]",
      "text/plain": [
       "<Figure size 432x288 with 1 Axes>"
      ]
     },
     "metadata": {
      "needs_background": "light"
     },
     "output_type": "display_data"
    }
   ],
   "source": [
    "plot_history(history)"
   ]
  },
  {
   "cell_type": "code",
   "execution_count": 103,
   "metadata": {
    "colab": {
     "base_uri": "https://localhost:8080/"
    },
    "id": "GpNz3rszv-WS",
    "outputId": "0dcca4dd-e724-41ca-f600-fc370f9fdab9"
   },
   "outputs": [],
   "source": [
    "# TODO: Earn Confusion Matrix and Classification Report for the model"
   ]
  },
  {
   "cell_type": "code",
   "execution_count": 98,
   "metadata": {
    "colab": {
     "base_uri": "https://localhost:8080/"
    },
    "id": "347bcN06aaN4",
    "outputId": "64828ebd-7adf-4f89-92db-74c11bda0010"
   },
   "outputs": [
    {
     "name": "stdout",
     "output_type": "stream",
     "text": [
      "12/12 [==============================] - 2s 75ms/step - loss: 1.8077 - accuracy: 0.6789\n",
      "Testing Loss: 1.8077\n",
      "Testing Accuracy:  0.6789\n"
     ]
    }
   ],
   "source": [
    "test_loss, test_accuracy = model.evaluate(test_ds)\n",
    "print(\"Testing Loss: {:.4f}\".format(test_loss))\n",
    "print(\"Testing Accuracy:  {:.4f}\".format(test_accuracy))"
   ]
  },
  {
   "cell_type": "code",
   "execution_count": null,
   "metadata": {},
   "outputs": [],
   "source": [
    "# TODO: K-fold Cross Validation!"
   ]
  },
  {
   "cell_type": "markdown",
   "metadata": {
    "id": "HFp4HQYZVUUs"
   },
   "source": [
    "## Resources"
   ]
  },
  {
   "cell_type": "markdown",
   "metadata": {
    "id": "3mSPb7sIVW-D"
   },
   "source": [
    "1. https://realpython.com/python-keras-text-classification/\n",
    "2. https://stackoverflow.com/questions/50060241/how-to-use-glove-word-embeddings-file-on-google-colaboratory\n",
    "3. https://nlp.stanford.edu/projects/glove/\n",
    "4. https://www.machinecurve.com/index.php/2020/02/18/how-to-use-k-fold-cross-validation-with-keras/\n",
    "5. https://stackoverflow.com/questions/45117295/what-is-the-relation-between-validation-data-and-validation-split-in-keras-fit\n",
    "6. https://towardsdatascience.com/addressing-the-difference-between-keras-validation-split-and-sklearn-s-train-test-split-a3fb803b733\n",
    "7. https://towardsdatascience.com/data-augmentation-library-for-text-9661736b13ff\n",
    "8. https://github.com/makcedward/nlpaug\n",
    "9. https://www.depends-on-the-definition.com/guide-to-word-vectors-with-gensim-and-keras/\n",
    "10. https://code.google.com/archive/p/word2vec/\n",
    "11. https://www.tensorflow.org/api_docs/python/tf/data/Dataset\n",
    "12. https://scikit-learn.org/stable/modules/generated/sklearn.model_selection.KFold.html\n",
    "13. https://keras.io/examples/nlp/text_classification_from_scratch/\n",
    "14. https://www.tensorflow.org/api_docs/python/tf/keras/layers/TextVectorization"
   ]
  }
 ],
 "metadata": {
  "colab": {
   "authorship_tag": "ABX9TyOwJojJevtnIJp9LgpZr1Se",
   "collapsed_sections": [],
   "include_colab_link": true,
   "name": "Text Classification.ipynb",
   "provenance": []
  },
  "kernelspec": {
   "display_name": "Python 3 (ipykernel)",
   "language": "python",
   "name": "python3"
  },
  "language_info": {
   "codemirror_mode": {
    "name": "ipython",
    "version": 3
   },
   "file_extension": ".py",
   "mimetype": "text/x-python",
   "name": "python",
   "nbconvert_exporter": "python",
   "pygments_lexer": "ipython3",
   "version": "3.9.1"
  }
 },
 "nbformat": 4,
 "nbformat_minor": 1
}
