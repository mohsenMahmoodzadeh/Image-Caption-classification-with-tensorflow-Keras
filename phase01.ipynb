{
  "nbformat": 4,
  "nbformat_minor": 0,
  "metadata": {
    "kernelspec": {
      "display_name": "Python 3",
      "language": "python",
      "name": "python3"
    },
    "language_info": {
      "codemirror_mode": {
        "name": "ipython",
        "version": 3
      },
      "file_extension": ".py",
      "mimetype": "text/x-python",
      "name": "python",
      "nbconvert_exporter": "python",
      "pygments_lexer": "ipython3",
      "version": "3.7.1"
    },
    "colab": {
      "name": "phase01.ipynb",
      "provenance": [],
      "toc_visible": true
    }
  },
  "cells": [
    {
      "cell_type": "markdown",
      "metadata": {
        "id": "_YzIXUrqG-Hk"
      },
      "source": [
        "# Image & Caption Classification"
      ]
    },
    {
      "cell_type": "markdown",
      "metadata": {
        "id": "MpX5KxTPHDi6"
      },
      "source": [
        "## Import Libraries"
      ]
    },
    {
      "cell_type": "code",
      "metadata": {
        "id": "xjEhs77gHBXt"
      },
      "source": [
        "import numpy as np\r\n",
        "import pandas as pd\r\n",
        "import tensorflow as tf\r\n",
        "import tensorflow.keras as K\r\n",
        "from PIL import Image\r\n",
        "from tensorflow.keras import layers\r\n",
        "from tensorflow.keras.preprocessing.image import ImageDataGenerator\r\n",
        "from tensorflow.keras.layers import Conv2D,Activation,MaxPool2D,Dropout,Dense,Flatten,Input,BatchNormalization\r\n",
        "from tensorflow.keras.models import Sequential,load_model,Model\r\n",
        "from tensorflow.keras.layers import Convolution2D, MaxPooling2D, ZeroPadding2D\r\n",
        "from matplotlib import pyplot as plt\r\n",
        "from IPython.display import clear_output\r\n",
        "import h5py\r\n",
        "from tensorflow.keras.callbacks import ModelCheckpoint\r\n",
        "import warnings\r\n",
        "warnings.filterwarnings('ignore','FutureWarnings')"
      ],
      "execution_count": 3,
      "outputs": []
    },
    {
      "cell_type": "code",
      "metadata": {
        "id": "bE6Qjt3JHPa5"
      },
      "source": [
        "# print(tf.__version__) # 2.4.0\r\n",
        "# print(K.__version__) # 2.4.0"
      ],
      "execution_count": 5,
      "outputs": []
    }
  ]
}