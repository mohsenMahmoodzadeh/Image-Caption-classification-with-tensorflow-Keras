{
 "cells": [
  {
   "cell_type": "markdown",
   "metadata": {
    "colab_type": "text",
    "id": "view-in-github"
   },
   "source": [
    "<a href=\"https://colab.research.google.com/github/mohsenMahmoodzadeh/Image-Caption-classification-with-tensorflow-Keras/blob/master/Phase_01_Text_Classification.ipynb\" target=\"_parent\"><img src=\"https://colab.research.google.com/assets/colab-badge.svg\" alt=\"Open In Colab\"/></a>"
   ]
  },
  {
   "cell_type": "code",
   "execution_count": 1,
   "metadata": {
    "colab": {
     "base_uri": "https://localhost:8080/"
    },
    "id": "olAUeBAWg-MQ",
    "outputId": "4f17a73f-1dd1-4aeb-c0dd-31f93ab7843e"
   },
   "outputs": [
    {
     "name": "stdout",
     "output_type": "stream",
     "text": [
      "Drive already mounted at /content/drive; to attempt to forcibly remount, call drive.mount(\"/content/drive\", force_remount=True).\n"
     ]
    }
   ],
   "source": [
    "from google.colab import drive\n",
    "drive.mount('/content/drive')"
   ]
  },
  {
   "cell_type": "markdown",
   "metadata": {
    "id": "wDg-HnzJZDW_"
   },
   "source": [
    "## Import Libraries"
   ]
  },
  {
   "cell_type": "code",
   "execution_count": null,
   "metadata": {
    "id": "KLxWduGEM_xv"
   },
   "outputs": [],
   "source": [
    "!pip install tensorflow-text\n",
    "!pip install tensorflow-hub"
   ]
  },
  {
   "cell_type": "code",
   "execution_count": 2,
   "metadata": {
    "id": "oKcYXY-YF7ZS"
   },
   "outputs": [],
   "source": [
    "import os\n",
    "import shutil\n",
    "\n",
    "import numpy as np\n",
    "import matplotlib.pyplot as plt\n",
    "import string\n",
    "import re\n",
    "import pandas as pd\n",
    "import seaborn as sn\n",
    "\n",
    "import tensorflow as tf\n",
    "import tensorflow_hub as hub\n",
    "import tensorflow_text as text\n",
    "\n",
    "import nltk\n",
    "from nltk.stem import WordNetLemmatizer\n",
    "from nltk.corpus import stopwords\n",
    "\n",
    "from sklearn.model_selection import train_test_split\n",
    "from sklearn.metrics import confusion_matrix, classification_report\n",
    "\n",
    "tf.get_logger().setLevel('ERROR')"
   ]
  },
  {
   "cell_type": "code",
   "execution_count": null,
   "metadata": {
    "id": "FXPTesswMbn5"
   },
   "outputs": [],
   "source": [
    "nltk.download('stopwords')\n",
    "nltk.download('wordnet')"
   ]
  },
  {
   "cell_type": "markdown",
   "metadata": {
    "id": "5oh3d7MHZWji"
   },
   "source": [
    "## Import Datasets"
   ]
  },
  {
   "cell_type": "code",
   "execution_count": 3,
   "metadata": {
    "id": "pVH4xDDdg1S1"
   },
   "outputs": [],
   "source": [
    "TRAIN_DATA_DIR = \"/content/drive/MyDrive/dataset/train/sentences/\"\n",
    "TEST_DATA_DIR = \"/content/drive/MyDrive/dataset/test/sentences/\""
   ]
  },
  {
   "cell_type": "code",
   "execution_count": 4,
   "metadata": {
    "id": "tTI4GIlqDqjb"
   },
   "outputs": [],
   "source": [
    "batch_size = 32\n",
    "AUTOTUNE = tf.data.AUTOTUNE\n",
    "seed = 1337"
   ]
  },
  {
   "cell_type": "code",
   "execution_count": 5,
   "metadata": {
    "colab": {
     "base_uri": "https://localhost:8080/"
    },
    "id": "ds7U72yJsVJD",
    "outputId": "3584d046-ec1e-4af4-910e-6c198024787b"
   },
   "outputs": [
    {
     "name": "stdout",
     "output_type": "stream",
     "text": [
      "Found 532 files belonging to 19 classes.\n",
      "Using 426 files for training.\n"
     ]
    }
   ],
   "source": [
    "raw_train_ds = tf.keras.preprocessing.text_dataset_from_directory(\n",
    "    TRAIN_DATA_DIR,\n",
    "    batch_size = batch_size,\n",
    "    label_mode=\"categorical\",\n",
    "    validation_split=0.2,\n",
    "    subset='training',\n",
    "    seed= seed \n",
    ")"
   ]
  },
  {
   "cell_type": "code",
   "execution_count": 6,
   "metadata": {
    "colab": {
     "base_uri": "https://localhost:8080/"
    },
    "id": "ArHI4lydsYG3",
    "outputId": "b46b3259-758c-4193-cc8b-7bae4706c284"
   },
   "outputs": [
    {
     "name": "stdout",
     "output_type": "stream",
     "text": [
      "Found 532 files belonging to 19 classes.\n",
      "Using 106 files for validation.\n"
     ]
    }
   ],
   "source": [
    "raw_val_ds = tf.keras.preprocessing.text_dataset_from_directory(\n",
    "    TRAIN_DATA_DIR,\n",
    "    batch_size = batch_size,\n",
    "    label_mode=\"categorical\",\n",
    "    validation_split=0.2,\n",
    "    subset='validation',\n",
    "    seed= seed \n",
    ")"
   ]
  },
  {
   "cell_type": "code",
   "execution_count": 7,
   "metadata": {
    "colab": {
     "base_uri": "https://localhost:8080/"
    },
    "id": "U2b9uhWIsa7K",
    "outputId": "fd88bf86-0bf5-4a2c-da05-da22911d7918"
   },
   "outputs": [
    {
     "name": "stdout",
     "output_type": "stream",
     "text": [
      "Found 380 files belonging to 19 classes.\n"
     ]
    }
   ],
   "source": [
    "raw_test_ds = tf.keras.preprocessing.text_dataset_from_directory(\n",
    "    TEST_DATA_DIR,\n",
    "    batch_size=batch_size,\n",
    "    label_mode=\"categorical\"\n",
    ")"
   ]
  },
  {
   "cell_type": "code",
   "execution_count": 8,
   "metadata": {
    "colab": {
     "base_uri": "https://localhost:8080/"
    },
    "id": "65pqci2363_B",
    "outputId": "6b155370-b739-49bf-ff20-bd4e9a4c4a45"
   },
   "outputs": [
    {
     "name": "stdout",
     "output_type": "stream",
     "text": [
      "Number of batches in raw_train_ds: 14\n",
      "Number of batches in raw_val_ds: 4\n",
      "Number of batches in raw_test_ds: 12\n"
     ]
    }
   ],
   "source": [
    "print(f\"Number of batches in raw_train_ds: {raw_train_ds.cardinality()}\")\n",
    "print(f\"Number of batches in raw_val_ds: {raw_val_ds.cardinality()}\")\n",
    "print(f\"Number of batches in raw_test_ds: {raw_test_ds.cardinality()}\")"
   ]
  },
  {
   "cell_type": "code",
   "execution_count": null,
   "metadata": {
    "id": "C5WTiEfgP8ST"
   },
   "outputs": [],
   "source": []
  },
  {
   "cell_type": "markdown",
   "metadata": {
    "id": "mT0M1-hNGo-z"
   },
   "source": [
    "## Data Preprocessing"
   ]
  },
  {
   "cell_type": "code",
   "execution_count": null,
   "metadata": {
    "id": "NeBnJwkz7CKZ"
   },
   "outputs": [],
   "source": [
    "def custom_standardization(input_data):\n",
    "    lowercase = tf.strings.lower(input_data)\n",
    "    stripped_html = tf.strings.regex_replace(lowercase, \"<br />\", \" \")\n",
    "    return tf.strings.regex_replace(\n",
    "        stripped_html, f\"[{re.escape(string.punctuation)}]\", \"\"\n",
    "    )\n",
    "\n",
    "max_features = None\n",
    "sequence_length = 256\n",
    "\n",
    "vectorize_layer = tf.keras.layers.TextVectorization(\n",
    "    standardize=custom_standardization,\n",
    "    output_mode=\"int\",\n",
    "    output_sequence_length=sequence_length,\n",
    ")"
   ]
  },
  {
   "cell_type": "code",
   "execution_count": null,
   "metadata": {
    "id": "YQZ60mVR7mE4"
   },
   "outputs": [],
   "source": [
    "text_ds = raw_train_ds.map(lambda x, y: x)\n",
    "vectorize_layer.adapt(text_ds)"
   ]
  },
  {
   "cell_type": "code",
   "execution_count": null,
   "metadata": {
    "id": "tfHwoSjDAw3r"
   },
   "outputs": [],
   "source": [
    "max_features = vectorize_layer.vocabulary_size()\n",
    "vocab = vectorize_layer.get_vocabulary()"
   ]
  },
  {
   "cell_type": "code",
   "execution_count": null,
   "metadata": {
    "id": "YAFcIQUZ8M6b"
   },
   "outputs": [],
   "source": [
    "def vectorize_text(text, label):\n",
    "    text = tf.expand_dims(text, -1)\n",
    "    return vectorize_layer(text), label\n",
    "\n",
    "train_ds = raw_train_ds.map(vectorize_text)\n",
    "val_ds = raw_val_ds.map(vectorize_text)\n",
    "test_ds = raw_test_ds.map(vectorize_text)\n",
    "\n",
    "train_ds = train_ds.cache().prefetch(buffer_size=10)\n",
    "val_ds = val_ds.cache().prefetch(buffer_size=10)\n",
    "test_ds = test_ds.cache().prefetch(buffer_size=10)"
   ]
  },
  {
   "cell_type": "code",
   "execution_count": null,
   "metadata": {
    "id": "xhuAg2a0exhS"
   },
   "outputs": [],
   "source": [
    "word_index = dict(zip(vocab, range(len(vocab))))"
   ]
  },
  {
   "cell_type": "markdown",
   "metadata": {
    "id": "4BsrfZjFGwrC"
   },
   "source": [
    "## Word Embedding"
   ]
  },
  {
   "cell_type": "code",
   "execution_count": null,
   "metadata": {
    "colab": {
     "base_uri": "https://localhost:8080/"
    },
    "id": "rG2zjdln_SZ2",
    "outputId": "70a9098f-4ab8-4b93-acd5-b7e33e298103"
   },
   "outputs": [
    {
     "name": "stdout",
     "output_type": "stream",
     "text": [
      "--2022-01-24 21:28:25--  http://nlp.stanford.edu/data/glove.6B.zip\n",
      "Resolving nlp.stanford.edu (nlp.stanford.edu)... 171.64.67.140\n",
      "Connecting to nlp.stanford.edu (nlp.stanford.edu)|171.64.67.140|:80... connected.\n",
      "HTTP request sent, awaiting response... 302 Found\n",
      "Location: https://nlp.stanford.edu/data/glove.6B.zip [following]\n",
      "--2022-01-24 21:28:25--  https://nlp.stanford.edu/data/glove.6B.zip\n",
      "Connecting to nlp.stanford.edu (nlp.stanford.edu)|171.64.67.140|:443... connected.\n",
      "HTTP request sent, awaiting response... 301 Moved Permanently\n",
      "Location: http://downloads.cs.stanford.edu/nlp/data/glove.6B.zip [following]\n",
      "--2022-01-24 21:28:25--  http://downloads.cs.stanford.edu/nlp/data/glove.6B.zip\n",
      "Resolving downloads.cs.stanford.edu (downloads.cs.stanford.edu)... 171.64.64.22\n",
      "Connecting to downloads.cs.stanford.edu (downloads.cs.stanford.edu)|171.64.64.22|:80... connected.\n",
      "HTTP request sent, awaiting response... 200 OK\n",
      "Length: 862182613 (822M) [application/zip]\n",
      "Saving to: ‘glove.6B.zip’\n",
      "\n",
      "glove.6B.zip        100%[===================>] 822.24M  5.19MB/s    in 2m 40s  \n",
      "\n",
      "2022-01-24 21:31:06 (5.13 MB/s) - ‘glove.6B.zip’ saved [862182613/862182613]\n",
      "\n"
     ]
    }
   ],
   "source": [
    "!wget http://nlp.stanford.edu/data/glove.6B.zip\n",
    "!unzip -q glove.6B.zip"
   ]
  },
  {
   "cell_type": "code",
   "execution_count": null,
   "metadata": {
    "colab": {
     "base_uri": "https://localhost:8080/"
    },
    "id": "W_4gpSGG_XJE",
    "outputId": "d7859927-5eb1-4bf1-9bd8-8ad63a3638ec"
   },
   "outputs": [
    {
     "name": "stdout",
     "output_type": "stream",
     "text": [
      "Found 400000 word vectors.\n"
     ]
    }
   ],
   "source": [
    "path_to_glove_file = '/content/glove.6B.100d.txt'\n",
    "\n",
    "embeddings_index = {}\n",
    "with open(path_to_glove_file) as f:\n",
    "    for line in f:\n",
    "        word, coefs = line.split(maxsplit=1)\n",
    "        coefs = np.fromstring(coefs, \"f\", sep=\" \")\n",
    "        embeddings_index[word] = coefs\n",
    "\n",
    "print(\"Found %s word vectors.\" % len(embeddings_index))"
   ]
  },
  {
   "cell_type": "code",
   "execution_count": null,
   "metadata": {
    "colab": {
     "base_uri": "https://localhost:8080/"
    },
    "id": "2LNpJgch_ahP",
    "outputId": "b9e41d6e-2923-48e9-f106-a1c3afea4e29"
   },
   "outputs": [
    {
     "name": "stdout",
     "output_type": "stream",
     "text": [
      "Converted 2016 words (66 misses)\n"
     ]
    }
   ],
   "source": [
    "num_tokens = len(vocab) + 2\n",
    "embedding_dim = 100\n",
    "hits = 0\n",
    "misses = 0\n",
    "\n",
    "embedding_matrix = np.zeros((num_tokens, embedding_dim))\n",
    "for word, i in word_index.items():\n",
    "    embedding_vector = embeddings_index.get(word)\n",
    "    if embedding_vector is not None:\n",
    "        embedding_matrix[i] = embedding_vector\n",
    "        hits += 1\n",
    "    else:\n",
    "        misses += 1\n",
    "print(\"Converted %d words (%d misses)\" % (hits, misses))"
   ]
  },
  {
   "cell_type": "markdown",
   "metadata": {
    "id": "sjFao1X_G1SA"
   },
   "source": [
    "## Building model"
   ]
  },
  {
   "cell_type": "code",
   "execution_count": null,
   "metadata": {
    "id": "S83_eEdSA9y7"
   },
   "outputs": [],
   "source": [
    "def create_model(max_features, embedding_dim):\n",
    "    \n",
    "  num_classes = 19\n",
    "      \n",
    "  inputs = tf.keras.Input(shape=(None,), dtype=\"int64\")\n",
    "  x = tf.keras.layers.Embedding(num_tokens, \n",
    "                                embedding_dim, \n",
    "                                embeddings_initializer= tf.keras.initializers.Constant(embedding_matrix),\n",
    "                                trainable=False\n",
    "                                )(inputs)\n",
    "  \n",
    "  x = tf.keras.layers.Bidirectional(tf.keras.layers.LSTM(128, \n",
    "                                                         return_sequences=True, \n",
    "                                                         dropout=0.1,\n",
    "                                                         recurrent_dropout=0.1))(x)\n",
    "  \n",
    "  x = tf.keras.layers.Conv1D(64, kernel_size=3, padding=\"valid\", kernel_initializer=\"glorot_uniform\")(x)\n",
    "  x = tf.keras.layers.BatchNormalization()(x)\n",
    "  x = tf.keras.layers.Conv1D(32, kernel_size=3, padding=\"valid\", kernel_initializer=\"glorot_uniform\")(x)\n",
    "  x = tf.keras.layers.BatchNormalization()(x)\n",
    "  \n",
    "  x = tf.keras.layers.GlobalMaxPooling1D()(x)\n",
    "\n",
    "  preds = tf.keras.layers.Dense(num_classes, activation=\"softmax\")(x)\n",
    "\n",
    "  model = tf.keras.Model(inputs, preds)\n",
    "\n",
    "  return model\n"
   ]
  },
  {
   "cell_type": "markdown",
   "metadata": {
    "id": "2rOrLgm_G69A"
   },
   "source": [
    "## Training model"
   ]
  },
  {
   "cell_type": "code",
   "execution_count": null,
   "metadata": {
    "id": "FS_LW1ThBfiK"
   },
   "outputs": [],
   "source": [
    "model = create_model(max_features, embedding_dim)\n",
    "model.compile(\n",
    "    optimizer='adam',\n",
    "    loss='categorical_crossentropy',\n",
    "    metrics=['accuracy'])"
   ]
  },
  {
   "cell_type": "code",
   "execution_count": null,
   "metadata": {
    "colab": {
     "base_uri": "https://localhost:8080/"
    },
    "id": "kKcwhaZj8b1n",
    "outputId": "87947fbd-7152-42c8-f90a-3cd05989e61e"
   },
   "outputs": [
    {
     "name": "stdout",
     "output_type": "stream",
     "text": [
      "Epoch 1/30\n",
      "14/14 [==============================] - 28s 2s/step - loss: 3.6891 - accuracy: 0.0915 - val_loss: 3.3183 - val_accuracy: 0.0943\n",
      "Epoch 2/30\n",
      "14/14 [==============================] - 21s 1s/step - loss: 2.4938 - accuracy: 0.2136 - val_loss: 2.9485 - val_accuracy: 0.0943\n",
      "Epoch 3/30\n",
      "14/14 [==============================] - 21s 1s/step - loss: 1.9737 - accuracy: 0.4061 - val_loss: 2.6677 - val_accuracy: 0.1132\n",
      "Epoch 4/30\n",
      "14/14 [==============================] - 20s 1s/step - loss: 1.5329 - accuracy: 0.5446 - val_loss: 2.4942 - val_accuracy: 0.2642\n",
      "Epoch 5/30\n",
      "14/14 [==============================] - 21s 1s/step - loss: 1.1833 - accuracy: 0.6667 - val_loss: 2.3439 - val_accuracy: 0.3585\n",
      "Epoch 6/30\n",
      "14/14 [==============================] - 20s 1s/step - loss: 0.8604 - accuracy: 0.7840 - val_loss: 2.2872 - val_accuracy: 0.4434\n",
      "Epoch 7/30\n",
      "14/14 [==============================] - 20s 1s/step - loss: 0.6103 - accuracy: 0.8662 - val_loss: 2.2136 - val_accuracy: 0.6321\n",
      "Epoch 8/30\n",
      "14/14 [==============================] - 21s 1s/step - loss: 0.5211 - accuracy: 0.8944 - val_loss: 2.1697 - val_accuracy: 0.5755\n",
      "Epoch 9/30\n",
      "14/14 [==============================] - 20s 1s/step - loss: 0.3466 - accuracy: 0.9366 - val_loss: 2.0595 - val_accuracy: 0.6038\n",
      "Epoch 10/30\n",
      "14/14 [==============================] - 21s 1s/step - loss: 0.2602 - accuracy: 0.9671 - val_loss: 1.9793 - val_accuracy: 0.7358\n",
      "Epoch 11/30\n",
      "14/14 [==============================] - 21s 1s/step - loss: 0.1901 - accuracy: 0.9883 - val_loss: 1.9395 - val_accuracy: 0.6887\n",
      "Epoch 12/30\n",
      "14/14 [==============================] - 21s 2s/step - loss: 0.1625 - accuracy: 0.9836 - val_loss: 1.8441 - val_accuracy: 0.6981\n",
      "Epoch 13/30\n",
      "14/14 [==============================] - 21s 1s/step - loss: 0.1145 - accuracy: 0.9977 - val_loss: 1.7819 - val_accuracy: 0.7264\n",
      "Epoch 14/30\n",
      "14/14 [==============================] - 22s 2s/step - loss: 0.0932 - accuracy: 0.9977 - val_loss: 1.7228 - val_accuracy: 0.7075\n",
      "Epoch 15/30\n",
      "14/14 [==============================] - 21s 1s/step - loss: 0.0686 - accuracy: 1.0000 - val_loss: 1.5935 - val_accuracy: 0.7358\n",
      "Epoch 16/30\n",
      "14/14 [==============================] - 21s 1s/step - loss: 0.0535 - accuracy: 1.0000 - val_loss: 1.5582 - val_accuracy: 0.7264\n",
      "Epoch 17/30\n",
      "14/14 [==============================] - 21s 1s/step - loss: 0.0476 - accuracy: 1.0000 - val_loss: 1.5032 - val_accuracy: 0.7358\n",
      "Epoch 18/30\n",
      "14/14 [==============================] - 21s 1s/step - loss: 0.0428 - accuracy: 1.0000 - val_loss: 1.3899 - val_accuracy: 0.7642\n",
      "Epoch 19/30\n",
      "14/14 [==============================] - 21s 1s/step - loss: 0.0364 - accuracy: 1.0000 - val_loss: 1.3344 - val_accuracy: 0.7358\n",
      "Epoch 20/30\n",
      "14/14 [==============================] - 21s 1s/step - loss: 0.0306 - accuracy: 1.0000 - val_loss: 1.3081 - val_accuracy: 0.7547\n",
      "Epoch 21/30\n",
      "14/14 [==============================] - 21s 1s/step - loss: 0.0286 - accuracy: 1.0000 - val_loss: 1.2680 - val_accuracy: 0.7453\n",
      "Epoch 22/30\n",
      "14/14 [==============================] - 20s 1s/step - loss: 0.0277 - accuracy: 1.0000 - val_loss: 1.2204 - val_accuracy: 0.7453\n",
      "Epoch 23/30\n",
      "14/14 [==============================] - 21s 1s/step - loss: 0.0247 - accuracy: 1.0000 - val_loss: 1.1888 - val_accuracy: 0.6981\n",
      "Epoch 24/30\n",
      "14/14 [==============================] - 21s 1s/step - loss: 0.0216 - accuracy: 1.0000 - val_loss: 1.1494 - val_accuracy: 0.7264\n",
      "Epoch 25/30\n",
      "14/14 [==============================] - 21s 1s/step - loss: 0.0199 - accuracy: 1.0000 - val_loss: 1.1256 - val_accuracy: 0.7453\n",
      "Epoch 26/30\n",
      "14/14 [==============================] - 21s 2s/step - loss: 0.0184 - accuracy: 1.0000 - val_loss: 1.0750 - val_accuracy: 0.7264\n",
      "Epoch 27/30\n",
      "14/14 [==============================] - 21s 2s/step - loss: 0.0154 - accuracy: 1.0000 - val_loss: 1.0637 - val_accuracy: 0.7453\n",
      "Epoch 28/30\n",
      "14/14 [==============================] - 21s 2s/step - loss: 0.0144 - accuracy: 1.0000 - val_loss: 1.0585 - val_accuracy: 0.7453\n",
      "Epoch 29/30\n",
      "14/14 [==============================] - 21s 2s/step - loss: 0.0136 - accuracy: 1.0000 - val_loss: 1.0606 - val_accuracy: 0.7170\n",
      "Epoch 30/30\n",
      "14/14 [==============================] - 21s 2s/step - loss: 0.0131 - accuracy: 1.0000 - val_loss: 1.0192 - val_accuracy: 0.7358\n"
     ]
    }
   ],
   "source": [
    "epochs = 30\n",
    "es = tf.keras.callbacks.EarlyStopping(patience=2)\n",
    "history = model.fit(\n",
    "    train_ds, \n",
    "    validation_data= val_ds, \n",
    "    callbacks= [es],\n",
    "    epochs= epochs)"
   ]
  },
  {
   "cell_type": "code",
   "execution_count": null,
   "metadata": {
    "colab": {
     "base_uri": "https://localhost:8080/",
     "height": 563
    },
    "id": "jXXPUVYRHJNx",
    "outputId": "63e12bc5-5d4c-4c6a-b4ff-399411a465b8"
   },
   "outputs": [
    {
     "data": {
      "text/plain": [
       "Text(0.5, 1.0, 'Training and validation loss')"
      ]
     },
     "execution_count": 61,
     "metadata": {},
     "output_type": "execute_result"
    },
    {
     "data": {
      "image/png": "[encoded data removed]",
      "text/plain": [
       "<Figure size 432x288 with 1 Axes>"
      ]
     },
     "metadata": {
      "needs_background": "light"
     },
     "output_type": "display_data"
    },
    {
     "data": {
      "image/png": "[encoded data removed]",
      "text/plain": [
       "<Figure size 432x288 with 1 Axes>"
      ]
     },
     "metadata": {
      "needs_background": "light"
     },
     "output_type": "display_data"
    }
   ],
   "source": [
    "acc = history.history['accuracy']\n",
    "val_acc = history.history['val_accuracy']\n",
    "\n",
    "loss = history.history['loss']\n",
    "val_loss = history.history['val_loss']\n",
    "\n",
    "epochs = range(len(acc))\n",
    "\n",
    "plt.plot(epochs, acc, label = \"training\")\n",
    "plt.plot(epochs, val_acc, label = \"validation\")\n",
    "plt.legend(loc=\"upper left\")\n",
    "plt.title('Training and validation accuracy')\n",
    "\n",
    "plt.figure()\n",
    "\n",
    "plt.plot(epochs, loss, label = \"training\")\n",
    "plt.plot(epochs, val_loss, label = \"validation\")\n",
    "plt.legend(loc=\"upper right\")\n",
    "plt.title('Training and validation loss')\n",
    "plt.show()"
   ]
  },
  {
   "cell_type": "markdown",
   "metadata": {
    "id": "n37xsovmHBYx"
   },
   "source": [
    "## Evaluation"
   ]
  },
  {
   "cell_type": "code",
   "execution_count": null,
   "metadata": {
    "colab": {
     "base_uri": "https://localhost:8080/"
    },
    "id": "iuChAYtI8jER",
    "outputId": "61c46b19-b571-4aca-937c-35447c8e599a"
   },
   "outputs": [
    {
     "name": "stdout",
     "output_type": "stream",
     "text": [
      "12/12 [==============================] - 3s 194ms/step - loss: 1.0467 - accuracy: 0.7368\n"
     ]
    },
    {
     "data": {
      "text/plain": [
       "[1.0466973781585693, 0.7368420958518982]"
      ]
     },
     "execution_count": 59,
     "metadata": {},
     "output_type": "execute_result"
    }
   ],
   "source": [
    "model.evaluate(test_ds)"
   ]
  },
  {
   "cell_type": "markdown",
   "metadata": {
    "id": "5Pr8TJ6eHOsc"
   },
   "source": [
    "## Saving model"
   ]
  },
  {
   "cell_type": "code",
   "execution_count": null,
   "metadata": {
    "id": "ne0K2uJ6HSrw"
   },
   "outputs": [],
   "source": [
    "model.save('glove_model.h5')"
   ]
  },
  {
   "cell_type": "markdown",
   "metadata": {
    "id": "LUsZrF__Htoi"
   },
   "source": [
    "## Text Classification With Bert\n",
    "\n"
   ]
  },
  {
   "cell_type": "code",
   "execution_count": null,
   "metadata": {
    "id": "7yfV3dw1S9eo"
   },
   "outputs": [],
   "source": [
    "label_map = {\n",
    "    0 : 'aeroplane', 1 : 'bicycle', 2 : 'bird', 3 : 'boat', \n",
    "    4 : 'bus', 5 : 'car', 6 : 'cat', 7 : 'chair', 8 : 'cow',\n",
    "    9 : 'diningtable', 10 : 'dog', 11 : 'horse', 12 : 'motorbike',\n",
    "    13 : 'person', 14 : 'pottedplant', 15 : 'sheep', 16 : 'sofa',\n",
    "    17 : 'train', 18 : 'tvmonitor'\n",
    "  }\n",
    "\n",
    "CATEGORIES = list(label_map.values())"
   ]
  },
  {
   "cell_type": "code",
   "execution_count": 9,
   "metadata": {
    "id": "UwkkneeDWlt7"
   },
   "outputs": [],
   "source": [
    "def read_file(filename):\n",
    "    f = open(filename, 'r')\n",
    "    lines = f.readlines()\n",
    "    return lines"
   ]
  },
  {
   "cell_type": "code",
   "execution_count": 10,
   "metadata": {
    "id": "D7Nhv7E_X-wy"
   },
   "outputs": [],
   "source": [
    "def prepare_train_data(TRAIN_DATA_DIR, CATEGORIES):\n",
    "    train_data = []\n",
    "    path = \"\"\n",
    "    for category in CATEGORIES:\n",
    "        temp = []\n",
    "        path = os.path.join(TRAIN_DATA_DIR, category)\n",
    "        class_num = CATEGORIES.index(category)\n",
    "        for filename in os.listdir(path):\n",
    "            file_path = os.path.join(path, filename)\n",
    "            try:\n",
    "                lines = read_file(file_path)\n",
    "                for line in lines:\n",
    "                    temp.append(line)\n",
    "\n",
    "            except Exception as e:\n",
    "                print(str(e))\n",
    "        \n",
    "        for line in temp:\n",
    "            train_data.append((line, class_num))\n",
    "    \n",
    "    return train_data"
   ]
  },
  {
   "cell_type": "code",
   "execution_count": 11,
   "metadata": {
    "id": "U5H4r1ulYAYY"
   },
   "outputs": [],
   "source": [
    "def prepare_test_data(TEST_DATA_DIR, CATEGORIES):\n",
    "    test_data = []\n",
    "    path = \"\"\n",
    "    for category in CATEGORIES:\n",
    "        temp = []\n",
    "        path = os.path.join(TRAIN_DATA_DIR, category)\n",
    "        class_num = CATEGORIES.index(category)\n",
    "        for filename in os.listdir(path):\n",
    "            file_path = os.path.join(path, filename)\n",
    "            file = file_path\n",
    "            try:\n",
    "                lines = read_file(file)\n",
    "                for line in lines:\n",
    "                    temp.append(line)\n",
    "\n",
    "            except Exception as e:\n",
    "                print(str(e))\n",
    "        \n",
    "        for line in temp:\n",
    "            test_data.append((line, class_num))\n",
    "    return test_data"
   ]
  },
  {
   "cell_type": "code",
   "execution_count": 13,
   "metadata": {
    "id": "fR6tN4RjYDfz"
   },
   "outputs": [],
   "source": [
    "training_data = prepare_train_data(TRAIN_DATA_DIR, CATEGORIES)\n",
    "test_data = prepare_test_data(TEST_DATA_DIR, CATEGORIES)"
   ]
  },
  {
   "cell_type": "code",
   "execution_count": 15,
   "metadata": {
    "id": "b64IMh2UZqy3"
   },
   "outputs": [],
   "source": [
    "def extract_X_and_y(data):\n",
    "  data_dict = {}\n",
    "  X = []\n",
    "  y = []\n",
    "  for example in data:\n",
    "    X.append(example[0])\n",
    "    y.append(example[1])\n",
    "  data_dict['X'] = X\n",
    "  data_dict['y'] = y\n",
    "  return data_dict"
   ]
  },
  {
   "cell_type": "code",
   "execution_count": 16,
   "metadata": {
    "id": "NowGoVsiZsBz"
   },
   "outputs": [],
   "source": [
    "training_dict = extract_X_and_y(training_data)\n",
    "X_train = training_dict['X']\n",
    "y_train = training_dict['y']"
   ]
  },
  {
   "cell_type": "code",
   "execution_count": 17,
   "metadata": {
    "id": "XbEY9b4AZyyb"
   },
   "outputs": [],
   "source": [
    "test_dict = extract_X_and_y(test_data)\n",
    "X_test = test_dict['X']\n",
    "y_test = test_dict['y']"
   ]
  },
  {
   "cell_type": "code",
   "execution_count": 19,
   "metadata": {
    "id": "_bU8DH3TZ8wp"
   },
   "outputs": [],
   "source": [
    "def clean_data(text):  \n",
    "  text = text.replace(\"\\n\", \" \")\n",
    "  text = text.replace(\"\\r\", \" \")\n",
    "  text = text.replace(\"\\t\", \" \")\n",
    "  word_tokens= text.lower().strip().split()\n",
    "  le=WordNetLemmatizer()\n",
    "  stop_words= set(stopwords.words(\"english\"))     \n",
    "  word_tokens= [le.lemmatize(w) for w in word_tokens if not w in stop_words]\n",
    "  \n",
    "  cleaned_data=\" \".join(word_tokens)\n",
    "  return cleaned_data"
   ]
  },
  {
   "cell_type": "code",
   "execution_count": 20,
   "metadata": {
    "id": "Zqxn1pQtaAhL"
   },
   "outputs": [],
   "source": [
    "cleaned_X_train = []\n",
    "for tr_example in X_train:\n",
    "  cleaned_data = clean_data(tr_example)\n",
    "  cleaned_X_train.append(cleaned_data)"
   ]
  },
  {
   "cell_type": "code",
   "execution_count": 21,
   "metadata": {
    "id": "uIS7X7LdaENB"
   },
   "outputs": [],
   "source": [
    "cleaned_X_test = []\n",
    "for test_example in X_test:\n",
    "  cleaned_data = clean_data(test_example)\n",
    "  cleaned_X_test.append(cleaned_data)"
   ]
  },
  {
   "cell_type": "code",
   "execution_count": 22,
   "metadata": {
    "id": "8BjXzdojaHQ7"
   },
   "outputs": [],
   "source": [
    "X_train, X_val, y_train, y_val = train_test_split(cleaned_X_train, y_train, test_size=0.3, shuffle=True, random_state=0)"
   ]
  },
  {
   "cell_type": "code",
   "execution_count": 40,
   "metadata": {
    "id": "tE68GufPLvPy"
   },
   "outputs": [],
   "source": [
    "import tensorflow_hub as hub\n",
    "import tensorflow_text as text"
   ]
  },
  {
   "cell_type": "code",
   "execution_count": 41,
   "metadata": {
    "id": "0eGONYiWLgU4"
   },
   "outputs": [],
   "source": [
    "bert_preprocess = hub.KerasLayer(\"https://tfhub.dev/tensorflow/bert_en_uncased_preprocess/3\")\n",
    "bert_encoder = hub.KerasLayer(\"https://tfhub.dev/tensorflow/bert_en_uncased_L-12_H-768_A-12/4\")"
   ]
  },
  {
   "cell_type": "code",
   "execution_count": 77,
   "metadata": {
    "id": "VIqfAkajLroR"
   },
   "outputs": [],
   "source": [
    "def get_sentence_embeding(sentences):\n",
    "    preprocessed_text = bert_preprocess(sentences)\n",
    "    return bert_encoder(preprocessed_text)['pooled_output']"
   ]
  },
  {
   "cell_type": "code",
   "execution_count": 43,
   "metadata": {
    "id": "CoGxIkeUMeOT"
   },
   "outputs": [],
   "source": [
    "text_input = tf.keras.layers.Input(shape=(), dtype=tf.string, name='text')\n",
    "preprocessed_text = bert_preprocess(text_input)\n",
    "outputs = bert_encoder(preprocessed_text)\n",
    "\n",
    "l = tf.keras.layers.Dropout(0.1, name=\"dropout\")(outputs['pooled_output'])\n",
    "l = tf.keras.layers.Dense(19, activation='softmax', name=\"output\")(l)\n",
    "\n",
    "model = tf.keras.Model(inputs=[text_input], outputs = [l])"
   ]
  },
  {
   "cell_type": "code",
   "execution_count": 58,
   "metadata": {
    "id": "hE7lquEpMltU"
   },
   "outputs": [],
   "source": [
    "METRICS = [\n",
    "      tf.keras.metrics.BinaryAccuracy(name='accuracy'),\n",
    "]\n",
    "\n",
    "model.compile(optimizer='adam',\n",
    "              loss='categorical_crossentropy',\n",
    "              metrics=METRICS)"
   ]
  },
  {
   "cell_type": "code",
   "execution_count": null,
   "metadata": {
    "id": "A6o44OxCNUyF"
   },
   "outputs": [],
   "source": [
    "es = tf.keras.callbacks.EarlyStopping(patience=2)\n",
    "epochs = 5"
   ]
  },
  {
   "cell_type": "code",
   "execution_count": 59,
   "metadata": {
    "colab": {
     "base_uri": "https://localhost:8080/"
    },
    "id": "di5z6kbwMqly",
    "outputId": "0c9b2c4c-6772-41b9-f47c-eb12aed6c912"
   },
   "outputs": [
    {
     "name": "stdout",
     "output_type": "stream",
     "text": [
      "Epoch 1/5\n",
      "WARNING: AutoGraph could not transform <function Model.make_train_function.<locals>.train_function at 0x7f73665a68c0> and will run it as-is.\n",
      "Please report this to the TensorFlow team. When filing the bug, set the verbosity to 10 (on Linux, `export AUTOGRAPH_VERBOSITY=10`) and attach the full output.\n",
      "Cause: closure mismatch, requested ('self', 'step_function'), but source function had ()\n",
      "To silence this warning, decorate the function with @tf.autograph.experimental.do_not_convert\n",
      "59/59 [==============================] - ETA: 0s - loss: 2.6167 - accuracy: 0.9475 WARNING: AutoGraph could not transform <function Model.make_test_function.<locals>.test_function at 0x7f7366244d40> and will run it as-is.\n",
      "Please report this to the TensorFlow team. When filing the bug, set the verbosity to 10 (on Linux, `export AUTOGRAPH_VERBOSITY=10`) and attach the full output.\n",
      "Cause: closure mismatch, requested ('self', 'step_function'), but source function had ()\n",
      "To silence this warning, decorate the function with @tf.autograph.experimental.do_not_convert\n",
      "59/59 [==============================] - 1026s 17s/step - loss: 2.6167 - accuracy: 0.9475 - val_loss: 2.6200 - val_accuracy: 0.9474\n",
      "Epoch 2/5\n",
      "59/59 [==============================] - 1020s 17s/step - loss: 2.5698 - accuracy: 0.9475 - val_loss: 2.5761 - val_accuracy: 0.9476\n",
      "Epoch 3/5\n",
      "59/59 [==============================] - 1020s 17s/step - loss: 2.5432 - accuracy: 0.9475 - val_loss: 2.5975 - val_accuracy: 0.9476\n",
      "Epoch 4/5\n",
      "59/59 [==============================] - 1019s 17s/step - loss: 2.5230 - accuracy: 0.9476 - val_loss: 2.4954 - val_accuracy: 0.9478\n",
      "Epoch 5/5\n",
      "59/59 [==============================] - 1020s 17s/step - loss: 2.4958 - accuracy: 0.9475 - val_loss: 2.4804 - val_accuracy: 0.9478\n"
     ]
    }
   ],
   "source": [
    "history = model.fit(np.array(X_train), tf.keras.utils.to_categorical(y_train), \n",
    "          validation_data=(np.array(X_val), tf.keras.utils.to_categorical(y_val)),\n",
    "          callbacks= [es],\n",
    "          epochs=epochs)"
   ]
  },
  {
   "cell_type": "code",
   "execution_count": 61,
   "metadata": {
    "colab": {
     "base_uri": "https://localhost:8080/"
    },
    "id": "NOerlUpFqMVv",
    "outputId": "d65aaf22-6acf-44bb-83eb-8854d7cf22f6"
   },
   "outputs": [
    {
     "name": "stdout",
     "output_type": "stream",
     "text": [
      "84/84 [==============================] - 1094s 13s/step - loss: 2.6400 - accuracy: 0.9474\n"
     ]
    },
    {
     "data": {
      "text/plain": [
       "[2.6400163173675537, 0.9474471211433411]"
      ]
     },
     "execution_count": 61,
     "metadata": {},
     "output_type": "execute_result"
    }
   ],
   "source": [
    "model.evaluate(np.array(X_test), tf.keras.utils.to_categorical(y_test))"
   ]
  },
  {
   "cell_type": "code",
   "execution_count": 78,
   "metadata": {
    "id": "yxmgMQLgSLh-"
   },
   "outputs": [],
   "source": [
    "model.save('bert_model.h5')"
   ]
  },
  {
   "cell_type": "code",
   "execution_count": 76,
   "metadata": {
    "id": "tPis2I95xtEy"
   },
   "outputs": [],
   "source": [
    "# y_predicted = model.predict(X_test)\n",
    "# y_predicted = y_predicted.flatten()"
   ]
  },
  {
   "cell_type": "code",
   "execution_count": 65,
   "metadata": {
    "id": "J-0NFHa3PSuE"
   },
   "outputs": [],
   "source": [
    "# y_predicted = y_predicted.reshape((2658, 19))"
   ]
  },
  {
   "cell_type": "code",
   "execution_count": 67,
   "metadata": {
    "id": "hZfObTDpPxUI"
   },
   "outputs": [],
   "source": [
    "# y_pred = np.argmax(y_predicted, axis=1)"
   ]
  },
  {
   "cell_type": "code",
   "execution_count": 73,
   "metadata": {
    "id": "kCBVvABwJJE4"
   },
   "outputs": [],
   "source": [
    "# import numpy as np\n",
    "# from sklearn.metrics import confusion_matrix, classification_report\n",
    "# from matplotlib import pyplot as plt\n",
    "# import seaborn as sn\n",
    "\n",
    "# # y_predicted = np.where(y_predicted > 0.5, 1, 0)\n",
    "# cm = confusion_matrix(y_test, y_pred)"
   ]
  },
  {
   "cell_type": "code",
   "execution_count": 74,
   "metadata": {
    "id": "h-FGXbiVP7Yg"
   },
   "outputs": [],
   "source": [
    "# sn.heatmap(cm, annot=True, fmt='d')\n",
    "# plt.xlabel('Predicted')\n",
    "# plt.ylabel('Truth')"
   ]
  },
  {
   "cell_type": "code",
   "execution_count": 75,
   "metadata": {
    "id": "ja9OuXT1JeR6"
   },
   "outputs": [],
   "source": [
    "# print(classification_report(y_test, y_pred))"
   ]
  }
 ],
 "metadata": {
  "colab": {
   "authorship_tag": "ABX9TyOr3mgz3gCrGyQDAUGfkZNC",
   "collapsed_sections": [],
   "include_colab_link": true,
   "mount_file_id": "1STuQdII_pJMX3l-x6ARJdHEYb7N0JML5",
   "name": "Phase_01_Text_Classification.ipynb",
   "provenance": []
  },
  "kernelspec": {
   "display_name": "Python 3",
   "language": "python",
   "name": "python3"
  },
  "language_info": {
   "codemirror_mode": {
    "name": "ipython",
    "version": 3
   },
   "file_extension": ".py",
   "mimetype": "text/x-python",
   "name": "python",
   "nbconvert_exporter": "python",
   "pygments_lexer": "ipython3",
   "version": "3.9.1"
  }
 },
 "nbformat": 4,
 "nbformat_minor": 1
}
