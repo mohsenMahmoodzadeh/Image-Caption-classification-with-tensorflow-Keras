{
 "cells": [
  {
   "cell_type": "markdown",
   "metadata": {
    "colab_type": "text",
    "id": "view-in-github"
   },
   "source": [
    "<a href=\"https://colab.research.google.com/github/mohsenMahmoodzadeh/Image-Caption-classification-with-tensorflow-Keras/blob/master/Text_Classification.ipynb\" target=\"_parent\"><img src=\"https://colab.research.google.com/assets/colab-badge.svg\" alt=\"Open In Colab\"/></a>"
   ]
  },
  {
   "cell_type": "markdown",
   "metadata": {
    "id": "jfkX79ko-5zs"
   },
   "source": [
    "# Text Classification with Keras"
   ]
  },
  {
   "cell_type": "markdown",
   "metadata": {
    "id": "n5Zlntq--_L0"
   },
   "source": [
    "In this notebook, we build a keras model to classify a text dataset with 2658 train and 2658 test senetences. \n",
    "\n",
    "We use Tensorflow and Keras for implementation of our model. \n",
    "\n",
    "We also use scikit-learn library for some ancillary affairs such as confusion matrix, accuracy score, classification report, etc."
   ]
  },
  {
   "cell_type": "code",
   "execution_count": 1,
   "metadata": {
    "id": "Em-mtxWC8cBI"
   },
   "outputs": [],
   "source": [
    "import tensorflow as tf\n",
    "import tensorflow.keras as K\n",
    "import random\n",
    "import numpy as np\n",
    "import pandas as pd\n",
    "import h5py\n",
    "from tensorflow.keras.preprocessing.text import Tokenizer\n",
    "from tensorflow.keras.preprocessing.sequence import pad_sequences\n",
    "from tensorflow.keras.models import Sequential\n",
    "from tensorflow.keras.layers import Dense, Flatten, LSTM, Dropout, Activation, Embedding, Bidirectional\n",
    "from tensorflow.keras import layers\n",
    "from sklearn.metrics import classification_report, confusion_matrix\n",
    "from sklearn.model_selection import KFold, train_test_split\n",
    "from tensorflow.keras.losses import categorical_crossentropy\n",
    "from tensorflow.keras.optimizers import Adam\n",
    "from tensorflow.keras.layers import Conv2D,Activation,MaxPool2D,Dropout,Dense,Flatten,Input,BatchNormalization\n",
    "from tensorflow.keras.models import Sequential,load_model,Model\n",
    "from matplotlib import pyplot as plt\n",
    "from collections import Counter\n",
    "import os\n",
    "import cv2\n",
    "import warnings\n",
    "warnings.filterwarnings('ignore','FutureWarning')"
   ]
  },
  {
   "cell_type": "code",
   "execution_count": 2,
   "metadata": {
    "id": "lvhg4C5ZCcO1"
   },
   "outputs": [],
   "source": [
    "label_map = {\n",
    "    0 : 'aeroplane', 1 : 'bicycle', 2 : 'bird', 3 : 'boat', \n",
    "    4 : 'bus', 5 : 'car', 6 : 'cat', 7 : 'chair', 8 : 'cow',\n",
    "    9 : 'diningtable', 10 : 'dog', 11 : 'horse', 12 : 'motorbike',\n",
    "    13 : 'person', 14 : 'pottedplant', 15 : 'sheep', 16 : 'sofa',\n",
    "    17 : 'train', 18 : 'tvmonitor'\n",
    "  }"
   ]
  },
  {
   "cell_type": "code",
   "execution_count": 3,
   "metadata": {
    "id": "XfhBNVHTChfd"
   },
   "outputs": [],
   "source": [
    "CATEGORIES = list(label_map.values())"
   ]
  },
  {
   "cell_type": "code",
   "execution_count": 5,
   "metadata": {
    "id": "fP-MqnIXCmAj"
   },
   "outputs": [],
   "source": [
    "def read_file(filename):\n",
    "    f = open(filename, 'r')\n",
    "    lines = f.readlines()\n",
    "    return lines"
   ]
  },
  {
   "cell_type": "code",
   "execution_count": 6,
   "metadata": {
    "id": "KCB9uJUoCn7n"
   },
   "outputs": [],
   "source": [
    "def prepare_train_data(TRAIN_DATA_DIR, CATEGORIES):\n",
    "    train_data = []\n",
    "    path = \"\"\n",
    "    for category in CATEGORIES:\n",
    "        temp = []\n",
    "        path = os.path.join(TRAIN_DATA_DIR, category)\n",
    "        class_num = CATEGORIES.index(category)\n",
    "        for filename in os.listdir(path):\n",
    "            file_path = os.path.join(path, filename)\n",
    "            try:\n",
    "                lines = read_file(file_path)\n",
    "                for line in lines:\n",
    "                    temp.append(line)\n",
    "\n",
    "            except Exception as e:\n",
    "                print(str(e))\n",
    "        \n",
    "        for line in temp:\n",
    "            train_data.append((line, class_num))\n",
    "    \n",
    "    return train_data"
   ]
  },
  {
   "cell_type": "code",
   "execution_count": 7,
   "metadata": {
    "id": "Plh5K81VGwOh"
   },
   "outputs": [],
   "source": [
    "def prepare_test_data(TEST_DATA_DIR, CATEGORIES):\n",
    "    test_data = []\n",
    "    path = \"\"\n",
    "    for category in CATEGORIES:\n",
    "        temp = []\n",
    "        path = os.path.join(TRAIN_DATA_DIR, category)\n",
    "        class_num = CATEGORIES.index(category)\n",
    "        for filename in os.listdir(path):\n",
    "            file_path = os.path.join(path, filename)\n",
    "            file = file_path\n",
    "            try:\n",
    "                lines = read_file(file)\n",
    "                for line in lines:\n",
    "                    temp.append(line)\n",
    "\n",
    "            except Exception as e:\n",
    "                print(str(e))\n",
    "        \n",
    "        for line in temp:\n",
    "            test_data.append((line, class_num))\n",
    "    return test_data"
   ]
  },
  {
   "cell_type": "code",
   "execution_count": 9,
   "metadata": {
    "id": "B6ZRJknYDi3D"
   },
   "outputs": [],
   "source": [
    "TRAIN_DATA_DIR = \"./dataset/train/sentences/\"\n",
    "TEST_DATA_DIR = \"./dataset/test/sentences/\"\n",
    "CATEGORIES = [\"aeroplane\", \"bicycle\", \"bird\", \"boat\", \"bus\", \"car\", \"cat\", \"chair\", \"cow\", \"diningtable\", \"dog\", \"horse\", \n",
    "              \"motorbike\", \"person\", \"pottedplant\", \"sheep\",\"sofa\", \"train\", \"tvmonitor\"]"
   ]
  },
  {
   "cell_type": "code",
   "execution_count": 48,
   "metadata": {},
   "outputs": [
    {
     "name": "stdout",
     "output_type": "stream",
     "text": [
      "Found 532 files belonging to 19 classes.\n",
      "Using 426 files for training.\n"
     ]
    }
   ],
   "source": [
    "raw_train_ds = tf.keras.preprocessing.text_dataset_from_directory(\n",
    "    TRAIN_DATA_DIR,\n",
    "    label_mode=\"categorical\",\n",
    "    validation_split=0.2,\n",
    "    subset='training',\n",
    "    seed= 1337 \n",
    ")"
   ]
  },
  {
   "cell_type": "code",
   "execution_count": 49,
   "metadata": {},
   "outputs": [
    {
     "name": "stdout",
     "output_type": "stream",
     "text": [
      "Found 532 files belonging to 19 classes.\n",
      "Using 106 files for validation.\n"
     ]
    }
   ],
   "source": [
    "raw_val_ds = tf.keras.preprocessing.text_dataset_from_directory(\n",
    "    TRAIN_DATA_DIR,\n",
    "    label_mode=\"categorical\",\n",
    "    validation_split=0.2,\n",
    "    subset='validation',\n",
    "    seed= 1337 \n",
    ")"
   ]
  },
  {
   "cell_type": "code",
   "execution_count": 50,
   "metadata": {},
   "outputs": [
    {
     "name": "stdout",
     "output_type": "stream",
     "text": [
      "Found 380 files belonging to 19 classes.\n"
     ]
    }
   ],
   "source": [
    "raw_test_ds = tf.keras.preprocessing.text_dataset_from_directory(\n",
    "    TEST_DATA_DIR,\n",
    "    label_mode=\"categorical\"\n",
    ")"
   ]
  },
  {
   "cell_type": "code",
   "execution_count": 62,
   "metadata": {},
   "outputs": [],
   "source": [
    "max_features = None\n",
    "embedding_dim = 128\n",
    "sequence_length = 500"
   ]
  },
  {
   "cell_type": "code",
   "execution_count": 63,
   "metadata": {},
   "outputs": [],
   "source": [
    "vectorization_layer = \\\n",
    "        tf.keras.layers.experimental.preprocessing.TextVectorization(\n",
    "#             max_tokens = max_features,\n",
    "            output_mode = \"int\",\n",
    "            output_sequence_length = sequence_length,\n",
    "        )"
   ]
  },
  {
   "cell_type": "code",
   "execution_count": 64,
   "metadata": {},
   "outputs": [],
   "source": [
    "text_ds = raw_train_ds.map(lambda x, y: x)\n",
    "vectorization_layer.adapt(text_ds)"
   ]
  },
  {
   "cell_type": "code",
   "execution_count": 65,
   "metadata": {},
   "outputs": [],
   "source": [
    "max_features = vectorization_layer.vocabulary_size()"
   ]
  },
  {
   "cell_type": "code",
   "execution_count": 66,
   "metadata": {},
   "outputs": [],
   "source": [
    "def vectorize_text(text, label):\n",
    "    text = tf.expand_dims(text, -1)\n",
    "    return vectorization_layer(text), label"
   ]
  },
  {
   "cell_type": "code",
   "execution_count": 67,
   "metadata": {},
   "outputs": [],
   "source": [
    "train_ds = raw_train_ds.map(vectorize_text)\n",
    "val_ds = raw_val_ds.map(vectorize_text)\n",
    "test_ds = raw_test_ds.map(vectorize_text)"
   ]
  },
  {
   "cell_type": "code",
   "execution_count": 10,
   "metadata": {
    "id": "9qy6937lEegR"
   },
   "outputs": [],
   "source": [
    "# training_data = prepare_train_data(TRAIN_DATA_DIR, CATEGORIES)\n",
    "# test_data = prepare_test_data(TEST_DATA_DIR, CATEGORIES)"
   ]
  },
  {
   "cell_type": "code",
   "execution_count": 11,
   "metadata": {
    "id": "l_jzrMXQFquo"
   },
   "outputs": [],
   "source": [
    "# random.shuffle(training_data)\n",
    "# random.shuffle(test_data)"
   ]
  },
  {
   "cell_type": "code",
   "execution_count": 12,
   "metadata": {
    "id": "DB3oDGYSN1PV"
   },
   "outputs": [],
   "source": [
    "# def extract_X_and_y(data):\n",
    "#   data_dict = {}\n",
    "#   X = []\n",
    "#   y = []\n",
    "#   for example in data:\n",
    "#     X.append(example[0])\n",
    "#     y.append(example[1])\n",
    "#   data_dict['X'] = X\n",
    "#   data_dict['y'] = y\n",
    "#   return data_dict"
   ]
  },
  {
   "cell_type": "code",
   "execution_count": 23,
   "metadata": {},
   "outputs": [],
   "source": [
    "# val_data_size = int(len(training_data) * 0.3)\n",
    "# val_data = training_data[:val_data_size]\n",
    "# training_data = training_data[val_data_size:]"
   ]
  },
  {
   "cell_type": "code",
   "execution_count": 24,
   "metadata": {},
   "outputs": [],
   "source": [
    "# training_dict = extract_X_and_y(training_data)\n",
    "# X_train = training_dict['X']\n",
    "# y_train = training_dict['y']"
   ]
  },
  {
   "cell_type": "code",
   "execution_count": 25,
   "metadata": {},
   "outputs": [],
   "source": [
    "# val_dict = extract_X_and_y(val_data)\n",
    "# X_val = val_dict['X']\n",
    "# y_val = val_dict['y']\n",
    "\n",
    "# X_train, X_val, y_train, y_val = train_test_split(X, y, test_size=0.3, shuffle=True, random_state=0)"
   ]
  },
  {
   "cell_type": "code",
   "execution_count": 26,
   "metadata": {},
   "outputs": [],
   "source": [
    "# test_dict = extract_X_and_y(test_data)\n",
    "# X_test = test_dict['X']\n",
    "# y_test = test_dict['y']"
   ]
  },
  {
   "cell_type": "code",
   "execution_count": null,
   "metadata": {},
   "outputs": [],
   "source": [
    "# vectorization_layer = \\\n",
    "#         tf.keras.layers.experimental.preprocessing.TextVectorization()"
   ]
  },
  {
   "cell_type": "code",
   "execution_count": null,
   "metadata": {},
   "outputs": [],
   "source": [
    "# vectorization_layer.adapt(X_train)"
   ]
  },
  {
   "cell_type": "code",
   "execution_count": 27,
   "metadata": {},
   "outputs": [],
   "source": [
    "def create_data_model(data, embedding_dim):\n",
    "    pass\n",
    "#         vectorization_layer = \\\n",
    "#         tf.keras.layers.experimental.preprocessing.TextVectorization()\n",
    "    \n",
    "#     vectorization_layer.adapt(data)\n",
    "    \n",
    "#     embedding_layer = tf.keras.layers.Embedding(\n",
    "#         input_dim = len(vectorization_layer.get_vocabulary()),\n",
    "#         output_dim = embedding_dim,\n",
    "#         mask_zero=True\n",
    "#     )\n",
    "    \n",
    "#     return tf.keras.Sequential(\n",
    "#         [\n",
    "#            vectorization_layer,\n",
    "#            embedding_layer,\n",
    "#            tf.keras.layers.GlobalAveragePooling1D()\n",
    "#         ]\n",
    "#     )"
   ]
  },
  {
   "cell_type": "code",
   "execution_count": 28,
   "metadata": {},
   "outputs": [],
   "source": [
    "# X_train_model = create_data_model(X_train, 32)"
   ]
  },
  {
   "cell_type": "code",
   "execution_count": 29,
   "metadata": {},
   "outputs": [],
   "source": [
    "# X_val_model = create_data_model(X_val, 32)"
   ]
  },
  {
   "cell_type": "code",
   "execution_count": 30,
   "metadata": {},
   "outputs": [],
   "source": [
    "# X_test_model = create_data_model(X_test, 32)"
   ]
  },
  {
   "cell_type": "code",
   "execution_count": null,
   "metadata": {
    "id": "vsORK5rYZzw8"
   },
   "outputs": [],
   "source": [
    "# def clean_data(text):  \n",
    "#   word_tokens= text.lower().split()\n",
    "#   le=WordNetLemmatizer()\n",
    "#   stop_words= set(stopwords.words(\"english\"))     \n",
    "#   word_tokens= [le.lemmatize(w) for w in word_tokens if not w in stop_words]\n",
    "  \n",
    "#   cleaned_data=\" \".join(word_tokens)\n",
    "#   return cleaned_data"
   ]
  },
  {
   "cell_type": "code",
   "execution_count": 14,
   "metadata": {
    "colab": {
     "base_uri": "https://localhost:8080/"
    },
    "id": "roDL_c-WAeqq",
    "outputId": "9e003fe2-5488-4396-d88a-6467660290c1"
   },
   "outputs": [
    {
     "name": "stdout",
     "output_type": "stream",
     "text": [
      "[nltk_data] Downloading package stopwords to /root/nltk_data...\n",
      "[nltk_data]   Unzipping corpora/stopwords.zip.\n",
      "[nltk_data] Downloading package wordnet to /root/nltk_data...\n",
      "[nltk_data]   Unzipping corpora/wordnet.zip.\n"
     ]
    }
   ],
   "source": [
    "# import nltk\n",
    "# nltk.download('stopwords')\n",
    "# nltk.download('wordnet')\n",
    "# from nltk.stem import WordNetLemmatizer\n",
    "# from nltk.corpus import stopwords"
   ]
  },
  {
   "cell_type": "code",
   "execution_count": null,
   "metadata": {
    "id": "riZ30DgaHs3z"
   },
   "outputs": [],
   "source": [
    "# cleaned_X_train = []\n",
    "# for tr_example in X_train:\n",
    "#   cleaned_data = clean_data(tr_example)\n",
    "#   cleaned_X_train.append(cleaned_data)\n",
    "#   # tokenizer.fit_on_texts(tr_example.strip())"
   ]
  },
  {
   "cell_type": "code",
   "execution_count": null,
   "metadata": {
    "id": "lucSUp3XBNPy"
   },
   "outputs": [],
   "source": [
    "# cleaned_X_val = []\n",
    "# for val_example in X_val:\n",
    "#   cleaned_data = clean_data(tr_example)\n",
    "#   cleaned_X_val.append(cleaned_data)"
   ]
  },
  {
   "cell_type": "code",
   "execution_count": null,
   "metadata": {
    "id": "E9s7aR8wCdLk"
   },
   "outputs": [],
   "source": [
    "# cleaned_X_test = []\n",
    "# for test_example in X_test:\n",
    "#   cleaned_data = clean_data(test_example)\n",
    "#   cleaned_X_test.append(cleaned_data)"
   ]
  },
  {
   "cell_type": "code",
   "execution_count": 15,
   "metadata": {
    "id": "depGzlJ735pW"
   },
   "outputs": [],
   "source": [
    "# vocab_size = 2304 \n",
    "# oov_token = '<OOV>' #OOV = Out of Vocabulary\n",
    "# tokenizer = Tokenizer(num_words = vocab_size, oov_token=oov_token)\n",
    "# maxlen = 100\n",
    "# padding_type = 'post'"
   ]
  },
  {
   "cell_type": "code",
   "execution_count": 16,
   "metadata": {
    "id": "ijIQLfpumzVG"
   },
   "outputs": [],
   "source": [
    "# def remove_stopwords(data):\n",
    "#   STOPWORDS= set(stopwords.words(\"english\"))     \n",
    "#   no_sw_data = []\n",
    "#   for example in data:\n",
    "#       for word in STOPWORDS:\n",
    "#           token = ' ' + word + ' '\n",
    "#           example = example.replace(token, ' ')\n",
    "#           example = example.replace(' ', ' ')\n",
    "#       no_sw_data.append(example)\n",
    "#   return no_sw_data"
   ]
  },
  {
   "cell_type": "code",
   "execution_count": 17,
   "metadata": {
    "id": "JOTs6YMjNQfA"
   },
   "outputs": [],
   "source": [
    "# X_train = remove_stopwords(X_train)\n",
    "# tokenizer.fit_on_texts(X_train)\n",
    "# X_train = tokenizer.texts_to_sequences(X_train)\n",
    "# X_train = pad_sequences(X_train, maxlen=maxlen, padding=padding_type)\n",
    "# y_train_cat = tf.keras.utils.to_categorical(y_train)"
   ]
  },
  {
   "cell_type": "code",
   "execution_count": null,
   "metadata": {
    "id": "6LEyFpB9076O"
   },
   "outputs": [],
   "source": [
    "# X_val = remove_stopwords(X_val)\n",
    "# tokenizer.fit_on_texts(X_val)\n",
    "# X_val = tokenizer.texts_to_sequences(X_val)\n",
    "# X_val = pad_sequences(X_val, maxlen=maxlen, padding=padding_type)\n",
    "# y_val_cat = tf.keras.utils.to_categorical(y_val)"
   ]
  },
  {
   "cell_type": "code",
   "execution_count": 18,
   "metadata": {
    "id": "QuoY1Q9DPKtY"
   },
   "outputs": [],
   "source": [
    "# X_test = remove_stopwords(X_test)\n",
    "# tokenizer.fit_on_texts(X_test)\n",
    "# X_test = tokenizer.texts_to_sequences(X_test)\n",
    "# X_test = pad_sequences(X_test, maxlen=maxlen, padding=padding_type)\n",
    "# y_test_cat = tf.keras.utils.to_categorical(y_test)"
   ]
  },
  {
   "cell_type": "code",
   "execution_count": 19,
   "metadata": {
    "id": "pXEUzgaPWDdF"
   },
   "outputs": [],
   "source": [
    "# import zipfile\n",
    "# zip_ref = zipfile.ZipFile('/content/drive/MyDrive/glove.6B.zip', 'r')\n",
    "# zip_ref.extractall('/content/')\n",
    "# zip_ref.close()"
   ]
  },
  {
   "cell_type": "code",
   "execution_count": null,
   "metadata": {
    "id": "k-7ft8x0O5jC"
   },
   "outputs": [],
   "source": [
    "# import gensim\n",
    "# sentences= cleaned_X_train + cleaned_X_val + cleaned_X_test\n",
    "# w2v_model=gensim.models.Word2Vec(sentences= sentences, size=300, window=10, min_count=1)"
   ]
  },
  {
   "cell_type": "code",
   "execution_count": null,
   "metadata": {
    "id": "JkxbIHBxDvdq"
   },
   "outputs": [],
   "source": [
    "# w2v_model.train(sentences,epochs=10,total_examples=len(sentences))"
   ]
  },
  {
   "cell_type": "code",
   "execution_count": null,
   "metadata": {
    "id": "bsXPDZW9O_K5"
   },
   "outputs": [],
   "source": [
    "# vocab=w2v_model.wv.vocab\n",
    "# print(\"The total number of words are : \",len(vocab))"
   ]
  },
  {
   "cell_type": "code",
   "execution_count": null,
   "metadata": {
    "id": "4BV0LwfvFTmZ"
   },
   "outputs": [],
   "source": [
    "# vocab=list(vocab.keys())"
   ]
  },
  {
   "cell_type": "code",
   "execution_count": null,
   "metadata": {
    "id": "yxmtXet2GZVL"
   },
   "outputs": [],
   "source": [
    "# word_vec_dict={}\n",
    "# for word in vocab:\n",
    "#   word_vec_dict[word]=w2v_model.wv.get_vector(word)\n",
    "# print(\"The no of key-value pairs : \",len(word_vec_dict))"
   ]
  },
  {
   "cell_type": "code",
   "execution_count": null,
   "metadata": {
    "id": "6zUdS0GEIBbR"
   },
   "outputs": [],
   "source": [
    "# tokenizer.fit_on_texts(sentences)\n",
    "# vocab_size = len(tokenizer.word_index) + 1"
   ]
  },
  {
   "cell_type": "code",
   "execution_count": null,
   "metadata": {
    "id": "4i66n8f2Gbh1"
   },
   "outputs": [],
   "source": [
    "# tokenizer.fit_on_texts(cleaned_X_rtain)\n",
    "# X_train = tokenizer.texts_to_sequences(cleaned_X_rtain)\n",
    "# X_train = pad_sequences(X_train, maxlen=maxlen, padding=padding_type)\n",
    "# y_train_cat = tf.keras.utils.to_categorical(y_train)"
   ]
  },
  {
   "cell_type": "code",
   "execution_count": null,
   "metadata": {
    "id": "1oOHUHEtH1Nh"
   },
   "outputs": [],
   "source": [
    "# tokenizer.fit_on_texts(cleaned_X_val)\n",
    "# X_val = tokenizer.texts_to_sequences(cleaned_X_val)\n",
    "# X_val = pad_sequences(X_val, maxlen=maxlen, padding=padding_type)\n",
    "# y_val_cat = tf.keras.utils.to_categorical(y_val)"
   ]
  },
  {
   "cell_type": "code",
   "execution_count": null,
   "metadata": {
    "id": "_rdujeRVIVSo"
   },
   "outputs": [],
   "source": [
    "# tokenizer.fit_on_texts(cleaned_X_test)\n",
    "# X_test = tokenizer.texts_to_sequences(cleaned_X_test)\n",
    "# X_test = pad_sequences(X_test, maxlen=maxlen, padding=padding_type)\n",
    "# y_test_cat = tf.keras.utils.to_categorical(y_test)"
   ]
  },
  {
   "cell_type": "code",
   "execution_count": 20,
   "metadata": {
    "id": "LCqAuhbcXH_Y"
   },
   "outputs": [],
   "source": [
    "# def create_embedding_matrix(filepath, word_index, embedding_dim):\n",
    "#     vocab_size = len(word_index) + 1  # Adding again 1 because of reserved 0 index\n",
    "#     embedding_matrix = np.zeros((vocab_size, embedding_dim))\n",
    "\n",
    "#     with open(filepath) as f:\n",
    "#         for line in f:\n",
    "#             word, *vector = line.split()\n",
    "#             if word in word_index:\n",
    "#                 idx = word_index[word] \n",
    "#                 embedding_matrix[idx] = np.array(\n",
    "#                     vector, dtype=np.float32)[:embedding_dim]\n",
    "\n",
    "#     return embedding_matrix"
   ]
  },
  {
   "cell_type": "code",
   "execution_count": 21,
   "metadata": {
    "id": "M4NuBsiZX_Lb"
   },
   "outputs": [],
   "source": [
    "# embedding_dim = 50\n",
    "# embedding_matrix = create_embedding_matrix('/content/glove.6B.50d.txt',tokenizer.word_index, embedding_dim)"
   ]
  },
  {
   "cell_type": "code",
   "execution_count": 22,
   "metadata": {
    "colab": {
     "base_uri": "https://localhost:8080/"
    },
    "id": "_x6OlYI1YNFA",
    "outputId": "976e5f63-a6c3-470c-df89-b183aa3d434d"
   },
   "outputs": [
    {
     "data": {
      "text/plain": [
       "0.9800347222222222"
      ]
     },
     "execution_count": 22,
     "metadata": {},
     "output_type": "execute_result"
    }
   ],
   "source": [
    "# nonzero_elements = np.count_nonzero(np.count_nonzero(embedding_matrix, axis=1))\n",
    "# nonzero_elements / vocab_size"
   ]
  },
  {
   "cell_type": "code",
   "execution_count": 68,
   "metadata": {
    "id": "UtG5TYeiYTZC"
   },
   "outputs": [],
   "source": [
    "def create_model(max_features, embedding_dim):\n",
    "    \n",
    "    num_classes = 19\n",
    "    model = Sequential()\n",
    "    inputs = tf.keras.Input(shape=(None,), dtype=\"int64\")\n",
    "    x = layers.Embedding(max_features, embedding_dim)(inputs)\n",
    "    x = layers.Dropout(0.5)(x)\n",
    "    x = layers.Conv1D(128, 9, padding=\"valid\", activation=\"relu\", strides=3)(x)\n",
    "    x = layers.Conv1D(128, 9, padding=\"valid\", activation=\"relu\", strides=3)(x)\n",
    "    x = layers.GlobalMaxPooling1D()(x)\n",
    "    x = layers.Dense(64, activation=\"relu\")(x)\n",
    "    x = layers.Dropout(0.5)(x)\n",
    "    predictions = layers.Dense(num_classes, activation=\"softmax\", name=\"predictions\")(x)\n",
    "    model = tf.keras.Model(inputs, predictions)\n",
    "#     model.add(layers.Embedding(vocab_size, embedding_dim, \n",
    "#                             weights=[embedding_matrix], \n",
    "#                             input_length=maxlen, \n",
    "#                             trainable=True\n",
    "#                             ))\n",
    "#     model.add(layers.Conv1D(128, 5, activation='relu'))\n",
    "#     model.add(layers.GlobalMaxPool1D())\n",
    "#     model.add(layers.Dropout(0.3))\n",
    "#     model.add(layers.Dense(20, activation='relu'))\n",
    "#     model.add(layers.Dense(num_classes, activation='softmax'))\n",
    "\n",
    "#     model.compile(optimizer='adam',\n",
    "#                 loss='categorical_crossentropy',\n",
    "#                 metrics=['accuracy'])\n",
    "    return model\n"
   ]
  },
  {
   "cell_type": "code",
   "execution_count": null,
   "metadata": {
    "id": "Txp4fhZ4ZyW3"
   },
   "outputs": [],
   "source": [
    "# plt.style.use('ggplot')\n",
    "\n",
    "# def plot_history(history):\n",
    "#     acc = history.history['acc']\n",
    "#     val_acc = history.history['val_acc']\n",
    "#     loss = history.history['loss']\n",
    "#     val_loss = history.history['val_loss']\n",
    "#     x = range(1, len(acc) + 1)\n",
    "\n",
    "#     plt.figure(figsize=(12, 5))\n",
    "#     plt.subplot(1, 2, 1)\n",
    "#     plt.plot(x, acc, 'b', label='Training acc')\n",
    "#     plt.plot(x, val_acc, 'r', label='Validation acc')\n",
    "#     plt.title('Training and validation accuracy')\n",
    "#     plt.legend()\n",
    "#     plt.subplot(1, 2, 2)\n",
    "#     plt.plot(x, loss, 'b', label='Training loss')\n",
    "#     plt.plot(x, val_loss, 'r', label='Validation loss')\n",
    "#     plt.title('Training and validation loss')\n",
    "#     plt.legend()"
   ]
  },
  {
   "cell_type": "code",
   "execution_count": null,
   "metadata": {
    "id": "BZqbuM6RHvTd"
   },
   "outputs": [],
   "source": [
    "# print(vocab_size)"
   ]
  },
  {
   "cell_type": "code",
   "execution_count": 69,
   "metadata": {
    "colab": {
     "base_uri": "https://localhost:8080/"
    },
    "id": "Dw1Xdt-7Z_T0",
    "outputId": "9001bd35-f55a-4561-9890-2f74fb42aefe"
   },
   "outputs": [],
   "source": [
    "model = create_model(max_features, embedding_dim)\n",
    "\n",
    "model.compile(optimizer='adam',\n",
    "                loss='categorical_crossentropy',\n",
    "                metrics=['accuracy'])"
   ]
  },
  {
   "cell_type": "code",
   "execution_count": 71,
   "metadata": {},
   "outputs": [
    {
     "name": "stdout",
     "output_type": "stream",
     "text": [
      "Epoch 1/30\n",
      "14/14 [==============================] - 5s 371ms/step - loss: 1.2813 - accuracy: 0.5915 - val_loss: 1.6731 - val_accuracy: 0.5094\n",
      "Epoch 2/30\n",
      "14/14 [==============================] - 5s 368ms/step - loss: 1.0520 - accuracy: 0.6315 - val_loss: 1.5238 - val_accuracy: 0.5283\n",
      "Epoch 3/30\n",
      "14/14 [==============================] - 6s 382ms/step - loss: 0.7736 - accuracy: 0.7629 - val_loss: 1.4129 - val_accuracy: 0.6132\n",
      "Epoch 4/30\n",
      "14/14 [==============================] - 5s 375ms/step - loss: 0.6203 - accuracy: 0.8239 - val_loss: 1.3237 - val_accuracy: 0.6415\n",
      "Epoch 5/30\n",
      "14/14 [==============================] - 5s 374ms/step - loss: 0.4658 - accuracy: 0.8615 - val_loss: 1.2813 - val_accuracy: 0.6698\n",
      "Epoch 6/30\n",
      "14/14 [==============================] - 6s 382ms/step - loss: 0.3621 - accuracy: 0.8826 - val_loss: 1.2976 - val_accuracy: 0.6321\n",
      "Epoch 7/30\n",
      "14/14 [==============================] - 6s 365ms/step - loss: 0.3196 - accuracy: 0.8991 - val_loss: 1.2216 - val_accuracy: 0.6792\n",
      "Epoch 8/30\n",
      "14/14 [==============================] - 5s 370ms/step - loss: 0.2640 - accuracy: 0.9366 - val_loss: 1.2856 - val_accuracy: 0.7075\n",
      "Epoch 9/30\n",
      "14/14 [==============================] - 5s 375ms/step - loss: 0.2253 - accuracy: 0.9413 - val_loss: 1.3193 - val_accuracy: 0.6981\n",
      "Epoch 10/30\n",
      "14/14 [==============================] - 5s 370ms/step - loss: 0.2105 - accuracy: 0.9202 - val_loss: 1.3090 - val_accuracy: 0.6981\n",
      "Epoch 11/30\n",
      "14/14 [==============================] - 6s 381ms/step - loss: 0.1664 - accuracy: 0.9577 - val_loss: 1.4480 - val_accuracy: 0.6887\n",
      "Epoch 12/30\n",
      "14/14 [==============================] - 6s 380ms/step - loss: 0.1836 - accuracy: 0.9460 - val_loss: 1.3065 - val_accuracy: 0.7075\n",
      "Epoch 13/30\n",
      "14/14 [==============================] - 6s 381ms/step - loss: 0.1666 - accuracy: 0.9484 - val_loss: 1.3565 - val_accuracy: 0.7170\n",
      "Epoch 14/30\n",
      "14/14 [==============================] - 6s 380ms/step - loss: 0.1214 - accuracy: 0.9648 - val_loss: 1.3767 - val_accuracy: 0.6792\n",
      "Epoch 15/30\n",
      "14/14 [==============================] - 6s 393ms/step - loss: 0.1008 - accuracy: 0.9789 - val_loss: 1.4458 - val_accuracy: 0.7264\n",
      "Epoch 16/30\n",
      "14/14 [==============================] - 6s 402ms/step - loss: 0.0822 - accuracy: 0.9789 - val_loss: 1.5322 - val_accuracy: 0.6792\n",
      "Epoch 17/30\n",
      "14/14 [==============================] - 7s 467ms/step - loss: 0.1170 - accuracy: 0.9718 - val_loss: 1.5463 - val_accuracy: 0.6792\n",
      "Epoch 18/30\n",
      "14/14 [==============================] - 6s 383ms/step - loss: 0.0853 - accuracy: 0.9742 - val_loss: 1.4978 - val_accuracy: 0.7075\n",
      "Epoch 19/30\n",
      "14/14 [==============================] - 6s 382ms/step - loss: 0.0877 - accuracy: 0.9812 - val_loss: 1.5836 - val_accuracy: 0.6698\n",
      "Epoch 20/30\n",
      "14/14 [==============================] - 6s 383ms/step - loss: 0.1058 - accuracy: 0.9624 - val_loss: 1.5944 - val_accuracy: 0.6604\n",
      "Epoch 21/30\n",
      "14/14 [==============================] - 6s 386ms/step - loss: 0.1109 - accuracy: 0.9624 - val_loss: 1.5035 - val_accuracy: 0.6981\n",
      "Epoch 22/30\n",
      "14/14 [==============================] - 6s 397ms/step - loss: 0.0965 - accuracy: 0.9695 - val_loss: 1.6018 - val_accuracy: 0.6698\n",
      "Epoch 23/30\n",
      "14/14 [==============================] - 7s 444ms/step - loss: 0.0693 - accuracy: 0.9836 - val_loss: 1.5271 - val_accuracy: 0.7170\n",
      "Epoch 24/30\n",
      "14/14 [==============================] - 6s 424ms/step - loss: 0.0724 - accuracy: 0.9789 - val_loss: 1.6044 - val_accuracy: 0.7075\n",
      "Epoch 25/30\n",
      "14/14 [==============================] - 7s 505ms/step - loss: 0.0621 - accuracy: 0.9742 - val_loss: 1.5923 - val_accuracy: 0.7075\n",
      "Epoch 26/30\n",
      "14/14 [==============================] - 6s 416ms/step - loss: 0.0438 - accuracy: 0.9906 - val_loss: 1.7073 - val_accuracy: 0.6887\n",
      "Epoch 27/30\n",
      "14/14 [==============================] - 6s 379ms/step - loss: 0.0359 - accuracy: 0.9953 - val_loss: 1.6786 - val_accuracy: 0.6887\n",
      "Epoch 28/30\n",
      "14/14 [==============================] - 6s 384ms/step - loss: 0.0416 - accuracy: 0.9859 - val_loss: 1.5829 - val_accuracy: 0.7075\n",
      "Epoch 29/30\n",
      "14/14 [==============================] - 6s 386ms/step - loss: 0.0644 - accuracy: 0.9742 - val_loss: 1.7328 - val_accuracy: 0.6981\n",
      "Epoch 30/30\n",
      "14/14 [==============================] - 7s 488ms/step - loss: 0.0640 - accuracy: 0.9836 - val_loss: 1.7616 - val_accuracy: 0.6792\n"
     ]
    }
   ],
   "source": [
    "epochs = 30\n",
    "history = model.fit(train_ds,\n",
    "                    epochs = epochs,\n",
    "                    validation_data = val_ds\n",
    "                )"
   ]
  },
  {
   "cell_type": "code",
   "execution_count": 108,
   "metadata": {},
   "outputs": [
    {
     "data": {
      "text/plain": [
       "Text(0.5, 1.0, 'Training and validation loss')"
      ]
     },
     "execution_count": 108,
     "metadata": {},
     "output_type": "execute_result"
    },
    {
     "data": {
      "image/png": "[encoded data removed]",
      "text/plain": [
       "<Figure size 432x288 with 1 Axes>"
      ]
     },
     "metadata": {
      "needs_background": "light"
     },
     "output_type": "display_data"
    },
    {
     "data": {
      "image/png": "[encoded data removed]",
      "text/plain": [
       "<Figure size 432x288 with 1 Axes>"
      ]
     },
     "metadata": {
      "needs_background": "light"
     },
     "output_type": "display_data"
    }
   ],
   "source": [
    "acc = history.history['accuracy']\n",
    "val_acc = history.history['val_accuracy']\n",
    "\n",
    "loss = history.history['loss']\n",
    "val_loss = history.history['val_loss']\n",
    "\n",
    "epochs = range(len(acc))\n",
    "\n",
    "plt.plot(epochs, acc, label = \"training\")\n",
    "plt.plot(epochs, val_acc, label = \"validation\")\n",
    "plt.legend(loc=\"upper left\")\n",
    "plt.title('Training and validation accuracy')\n",
    "\n",
    "plt.figure()\n",
    "\n",
    "plt.plot(epochs, loss, label = \"training\")\n",
    "plt.plot(epochs, val_loss, label = \"validation\")\n",
    "plt.legend(loc=\"upper right\")\n",
    "plt.title('Training and validation loss')"
   ]
  },
  {
   "cell_type": "code",
   "execution_count": 107,
   "metadata": {
    "id": "ty3Tk0uCv9et"
   },
   "outputs": [],
   "source": [
    "# predictions = model.predict(test_ds)\n",
    "# y_pred = np.argmax(predictions, axis=1)"
   ]
  },
  {
   "cell_type": "code",
   "execution_count": 106,
   "metadata": {},
   "outputs": [],
   "source": [
    "# print(type(y_pred)) # <class 'numpy.ndarray'>\n",
    "# y_pred.shape"
   ]
  },
  {
   "cell_type": "code",
   "execution_count": 105,
   "metadata": {},
   "outputs": [],
   "source": [
    "# y_test = np.concatenate([y for x, y in test_ds], axis=0)\n",
    "# # print(type(y)) # <class 'numpy.ndarray'>\n",
    "# print(y_test.shape)"
   ]
  },
  {
   "cell_type": "code",
   "execution_count": 104,
   "metadata": {},
   "outputs": [],
   "source": [
    "# tf.keras.utils.to_categorical(y_test).shape"
   ]
  },
  {
   "cell_type": "code",
   "execution_count": 103,
   "metadata": {
    "colab": {
     "base_uri": "https://localhost:8080/"
    },
    "id": "GpNz3rszv-WS",
    "outputId": "0dcca4dd-e724-41ca-f600-fc370f9fdab9"
   },
   "outputs": [],
   "source": [
    "# print('Confusion Matrix')\n",
    "# print(confusion_matrix(y_test.values.argmax(axis=1), y_pred))\n",
    "\n",
    "# print()\n",
    "\n",
    "# print('Classification Report')\n",
    "# print(classification_report(tf.keras.utils.to_categorical(y_test), \n",
    "#                             y_pred, \n",
    "#                             target_names=CATEGORIES))"
   ]
  },
  {
   "cell_type": "code",
   "execution_count": 109,
   "metadata": {
    "colab": {
     "base_uri": "https://localhost:8080/"
    },
    "id": "347bcN06aaN4",
    "outputId": "64828ebd-7adf-4f89-92db-74c11bda0010"
   },
   "outputs": [
    {
     "name": "stdout",
     "output_type": "stream",
     "text": [
      "12/12 [==============================] - 1s 84ms/step - loss: 1.7570 - accuracy: 0.7184\n"
     ]
    },
    {
     "data": {
      "text/plain": [
       "[1.7569997310638428, 0.7184210419654846]"
      ]
     },
     "execution_count": 109,
     "metadata": {},
     "output_type": "execute_result"
    }
   ],
   "source": [
    "model.evaluate(test_ds)\n",
    "# loss, accuracy = model.evaluate(X_train, y_train_cat, verbose=False)\n",
    "# print(\"Training Accuracy: {:.4f}\".format(accuracy))\n",
    "# loss, accuracy = model.evaluate(X_test, y_test_cat, verbose=False)\n",
    "# print(\"Testing Accuracy:  {:.4f}\".format(accuracy))\n",
    "# # plot_history(history)"
   ]
  },
  {
   "cell_type": "code",
   "execution_count": null,
   "metadata": {
    "id": "INbYFY5BKScO"
   },
   "outputs": [],
   "source": [
    "# kfold = KFold(n_splits=10, shuffle=True)\n",
    "# inputs = np.concatenate((X_train, X_test), axis=0)\n",
    "# targets = np.concatenate((y_train_cat, y_test_cat), axis=0)\n",
    "# fold_no = 1\n",
    "# acc_per_fold = []\n",
    "# loss_per_fold = []\n",
    "# learning_rate= 0.0001"
   ]
  },
  {
   "cell_type": "code",
   "execution_count": null,
   "metadata": {
    "id": "EtSbsB7SvOF7"
   },
   "outputs": [],
   "source": [
    "# for train, test in kfold.split(inputs, targets):\n",
    "\n",
    "#   model = create_model(vocab_size, embedding_dim, maxlen)\n",
    "\n",
    "#   model.compile(loss=categorical_crossentropy, optimizer=Adam(lr= learning_rate), metrics=['accuracy'])\n",
    "\n",
    "#   print('------------------------------------------------------------------------')\n",
    "#   print(f'Training for fold {fold_no} ...')\n",
    "\n",
    "#   history = model.fit(inputs[train], targets[train],\n",
    "#               batch_size=batch_size,\n",
    "#               validation_data=(X_val, y_val_cat),\n",
    "#               epochs=epochs)\n",
    "\n",
    "#   scores = model.evaluate(inputs[test], targets[test], verbose=0)\n",
    "#   print(f'Score for fold {fold_no}: {model.metrics_names[0]} of {scores[0]}; {model.metrics_names[1]} of {scores[1]*100}%')\n",
    "#   acc_per_fold.append(scores[1] * 100)\n",
    "#   loss_per_fold.append(scores[0])\n",
    "\n",
    "#   fold_no = fold_no + 1\n",
    "\n",
    "\n",
    "# print('------------------------------------------------------------------------')\n",
    "# print('Score per fold')\n",
    "# for i in range(0, len(acc_per_fold)):\n",
    "#   print('------------------------------------------------------------------------')\n",
    "#   print(f'> Fold {i+1} - Loss: {loss_per_fold[i]} - Accuracy: {acc_per_fold[i]}%')\n",
    "# print('------------------------------------------------------------------------')\n",
    "# print('Average scores for all folds:')\n",
    "# print(f'> Accuracy: {np.mean(acc_per_fold)} (+- {np.std(acc_per_fold)})')\n",
    "# print(f'> Loss: {np.mean(loss_per_fold)}')\n",
    "# print('------------------------------------------------------------------------')"
   ]
  },
  {
   "cell_type": "code",
   "execution_count": null,
   "metadata": {
    "id": "oFROToeVF5-q"
   },
   "outputs": [],
   "source": [
    "# def cross_validate(X, y, K = 5, **kwargs):\n",
    "#     scores = []\n",
    "#     histories = []\n",
    "#     for train, test in KFold(n_splits=K, shuffle=True).split(X,y):\n",
    "        \n",
    "#         model = create_model(vocab_size, embedding_dim, maxlen)\n",
    "#         model.compile(loss=categorical_crossentropy, optimizer=Adam(learning_rate= learning_rate), metrics=['accuracy'])\n",
    "        \n",
    "#         histories.append(model.fit(X[train], y[train],\n",
    "#                                    validation_data = (X_val, y_val_cat),\n",
    "#                                    epochs=epochs,\n",
    "#                                    batch_size= batch_size,\n",
    "#                                    **kwargs).history)\n",
    "        \n",
    "#         scores.append(model.evaluate(X[test], y[test], verbose = 0))\n",
    "#     print(\"average test loss: \", np.asarray(scores)[:,0].mean())\n",
    "#     print(\"average test accuracy: \", np.asarray(scores)[:,1].mean())\n",
    "    \n",
    "#     return scores, histories"
   ]
  },
  {
   "cell_type": "code",
   "execution_count": null,
   "metadata": {
    "id": "V6qpckvQF8Mo"
   },
   "outputs": [],
   "source": [
    "# scores, histories = cross_validate(inputs, targets, K = 10)"
   ]
  },
  {
   "cell_type": "code",
   "execution_count": null,
   "metadata": {
    "id": "gX5bHxpeGosH"
   },
   "outputs": [],
   "source": []
  },
  {
   "cell_type": "markdown",
   "metadata": {
    "id": "HFp4HQYZVUUs"
   },
   "source": [
    "## Resources"
   ]
  },
  {
   "cell_type": "markdown",
   "metadata": {
    "id": "3mSPb7sIVW-D"
   },
   "source": [
    "1. https://realpython.com/python-keras-text-classification/\n",
    "2. https://stackoverflow.com/questions/50060241/how-to-use-glove-word-embeddings-file-on-google-colaboratory\n",
    "3. https://nlp.stanford.edu/projects/glove/\n",
    "4. https://www.machinecurve.com/index.php/2020/02/18/how-to-use-k-fold-cross-validation-with-keras/\n",
    "5. https://stackoverflow.com/questions/45117295/what-is-the-relation-between-validation-data-and-validation-split-in-keras-fit\n",
    "6. https://towardsdatascience.com/addressing-the-difference-between-keras-validation-split-and-sklearn-s-train-test-split-a3fb803b733\n",
    "7. https://towardsdatascience.com/data-augmentation-library-for-text-9661736b13ff\n",
    "8. https://github.com/makcedward/nlpaug\n",
    "9. https://www.depends-on-the-definition.com/guide-to-word-vectors-with-gensim-and-keras/\n",
    "10. https://code.google.com/archive/p/word2vec/"
   ]
  },
  {
   "cell_type": "code",
   "execution_count": null,
   "metadata": {
    "id": "dR6SyPg9VV2S"
   },
   "outputs": [],
   "source": []
  }
 ],
 "metadata": {
  "colab": {
   "authorship_tag": "ABX9TyOwJojJevtnIJp9LgpZr1Se",
   "collapsed_sections": [],
   "include_colab_link": true,
   "name": "Text Classification.ipynb",
   "provenance": []
  },
  "kernelspec": {
   "display_name": "Python 3 (ipykernel)",
   "language": "python",
   "name": "python3"
  },
  "language_info": {
   "codemirror_mode": {
    "name": "ipython",
    "version": 3
   },
   "file_extension": ".py",
   "mimetype": "text/x-python",
   "name": "python",
   "nbconvert_exporter": "python",
   "pygments_lexer": "ipython3",
   "version": "3.9.1"
  }
 },
 "nbformat": 4,
 "nbformat_minor": 1
}
